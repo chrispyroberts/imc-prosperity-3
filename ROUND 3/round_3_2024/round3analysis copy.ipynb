{
 "cells": [
  {
   "cell_type": "code",
   "execution_count": 1,
   "metadata": {},
   "outputs": [],
   "source": [
    "import pandas as pd\n",
    "import numpy as np\n",
    "import matplotlib.pyplot as plt"
   ]
  },
  {
   "cell_type": "code",
   "execution_count": 2,
   "metadata": {},
   "outputs": [],
   "source": [
    "prices_0 = pd.read_csv(\"prices_round_3_day_0.csv\", delimiter=';')\n",
    "prices_1 = pd.read_csv(\"prices_round_3_day_1.csv\", delimiter=';')\n",
    "prices_2 = pd.read_csv(\"prices_round_3_day_2.csv\", delimiter=';')\n",
    "\n",
    "trades_0 = pd.read_csv(\"trades_round_3_day_0_nn.csv\", delimiter=';')\n",
    "trades_1 = pd.read_csv(\"trades_round_3_day_1_nn.csv\", delimiter=';')\n",
    "trades_2 = pd.read_csv(\"trades_round_3_day_2_nn.csv\", delimiter=';')"
   ]
  },
  {
   "cell_type": "code",
   "execution_count": 41,
   "metadata": {},
   "outputs": [],
   "source": [
    "def create_product_dataframes(df):\n",
    "    chocolate = df[df['product'] == 'CHOCOLATE']\n",
    "    chocolate['index'] = range(0, len(chocolate))\n",
    "\n",
    "    strawberries = df[df['product'] == 'STRAWBERRIES']\n",
    "    strawberries['index'] = range(0, len(strawberries))\n",
    "\n",
    "    roses = df[df['product'] == 'ROSES']\n",
    "    roses['index'] = range(0, len(roses))\n",
    "\n",
    "    gift_basket = df[df['product'] == 'GIFT_BASKET']\n",
    "    gift_basket['index'] = range(0, len(gift_basket))\n",
    "\n",
    "    return chocolate, strawberries, roses, gift_basket\n",
    "\n",
    "def add_mid_prices_to_gift_basket(chocolate, strawberries, roses, gift_basket):\n",
    "    gift_basket['choc bid'] = gift_basket.apply(lambda x: chocolate.iloc[x['index']]['mid_price'], axis=1)\n",
    "    gift_basket['straw bid'] = gift_basket.apply(lambda x: strawberries.iloc[x['index']]['mid_price'], axis=1)\n",
    "    gift_basket['roses bid'] = gift_basket.apply(lambda x: roses.iloc[x['index']]['mid_price'], axis=1)\n",
    "\n",
    "    return gift_basket"
   ]
  },
  {
   "cell_type": "code",
   "execution_count": null,
   "metadata": {},
   "outputs": [],
   "source": [
    "df = prices_0\n",
    "choc, straw, rose, gift = create_product_dataframes(df)\n",
    "\n",
    "time = gift['timestamp']\n",
    "c = choc['mid_price']\n",
    "s = straw['mid_price']\n",
    "r = rose['mid_price']\n",
    "g = gift['mid_price']\n",
    "\n",
    "plt.figure()\n"
   ]
  },
  {
   "cell_type": "code",
   "execution_count": 35,
   "metadata": {},
   "outputs": [
    {
     "name": "stdout",
     "output_type": "stream",
     "text": [
      "999900\n",
      "2999900\n"
     ]
    }
   ],
   "source": [
    "last_time1 = prices_0['timestamp'].iloc[-1]\n",
    "print(last_time1)\n",
    "prices_1['timestamp'] += last_time1 + 100\n",
    "\n",
    "last_time2 = prices_1['timestamp'].iloc[-1]\n",
    "print(last_time2)\n",
    "prices_2['timestamp'] += last_time2 + 100\n",
    "\n",
    "df = pd.concat([prices_0, prices_1, prices_2], ignore_index=True)"
   ]
  },
  {
   "cell_type": "code",
   "execution_count": 30,
   "metadata": {},
   "outputs": [],
   "source": [
    "df = "
   ]
  },
  {
   "cell_type": "code",
   "execution_count": 37,
   "metadata": {},
   "outputs": [
    {
     "name": "stderr",
     "output_type": "stream",
     "text": [
      "C:\\Users\\chris\\AppData\\Local\\Temp\\ipykernel_29532\\2457575962.py:3: SettingWithCopyWarning: \n",
      "A value is trying to be set on a copy of a slice from a DataFrame.\n",
      "Try using .loc[row_indexer,col_indexer] = value instead\n",
      "\n",
      "See the caveats in the documentation: https://pandas.pydata.org/pandas-docs/stable/user_guide/indexing.html#returning-a-view-versus-a-copy\n",
      "  chocolate['index'] = range(0, len(chocolate))\n",
      "C:\\Users\\chris\\AppData\\Local\\Temp\\ipykernel_29532\\2457575962.py:6: SettingWithCopyWarning: \n",
      "A value is trying to be set on a copy of a slice from a DataFrame.\n",
      "Try using .loc[row_indexer,col_indexer] = value instead\n",
      "\n",
      "See the caveats in the documentation: https://pandas.pydata.org/pandas-docs/stable/user_guide/indexing.html#returning-a-view-versus-a-copy\n",
      "  strawberries['index'] = range(0, len(strawberries))\n",
      "C:\\Users\\chris\\AppData\\Local\\Temp\\ipykernel_29532\\2457575962.py:9: SettingWithCopyWarning: \n",
      "A value is trying to be set on a copy of a slice from a DataFrame.\n",
      "Try using .loc[row_indexer,col_indexer] = value instead\n",
      "\n",
      "See the caveats in the documentation: https://pandas.pydata.org/pandas-docs/stable/user_guide/indexing.html#returning-a-view-versus-a-copy\n",
      "  roses['index'] = range(0, len(roses))\n",
      "C:\\Users\\chris\\AppData\\Local\\Temp\\ipykernel_29532\\2457575962.py:12: SettingWithCopyWarning: \n",
      "A value is trying to be set on a copy of a slice from a DataFrame.\n",
      "Try using .loc[row_indexer,col_indexer] = value instead\n",
      "\n",
      "See the caveats in the documentation: https://pandas.pydata.org/pandas-docs/stable/user_guide/indexing.html#returning-a-view-versus-a-copy\n",
      "  gift_basket['index'] = range(0, len(gift_basket))\n",
      "C:\\Users\\chris\\AppData\\Local\\Temp\\ipykernel_29532\\2457575962.py:17: SettingWithCopyWarning: \n",
      "A value is trying to be set on a copy of a slice from a DataFrame.\n",
      "Try using .loc[row_indexer,col_indexer] = value instead\n",
      "\n",
      "See the caveats in the documentation: https://pandas.pydata.org/pandas-docs/stable/user_guide/indexing.html#returning-a-view-versus-a-copy\n",
      "  gift_basket['choc bid'] = gift_basket.apply(lambda x: chocolate.iloc[x['index']]['mid_price'], axis=1)\n",
      "C:\\Users\\chris\\AppData\\Local\\Temp\\ipykernel_29532\\2457575962.py:18: SettingWithCopyWarning: \n",
      "A value is trying to be set on a copy of a slice from a DataFrame.\n",
      "Try using .loc[row_indexer,col_indexer] = value instead\n",
      "\n",
      "See the caveats in the documentation: https://pandas.pydata.org/pandas-docs/stable/user_guide/indexing.html#returning-a-view-versus-a-copy\n",
      "  gift_basket['straw bid'] = gift_basket.apply(lambda x: strawberries.iloc[x['index']]['mid_price'], axis=1)\n",
      "C:\\Users\\chris\\AppData\\Local\\Temp\\ipykernel_29532\\2457575962.py:19: SettingWithCopyWarning: \n",
      "A value is trying to be set on a copy of a slice from a DataFrame.\n",
      "Try using .loc[row_indexer,col_indexer] = value instead\n",
      "\n",
      "See the caveats in the documentation: https://pandas.pydata.org/pandas-docs/stable/user_guide/indexing.html#returning-a-view-versus-a-copy\n",
      "  gift_basket['roses bid'] = gift_basket.apply(lambda x: roses.iloc[x['index']]['mid_price'], axis=1)\n"
     ]
    }
   ],
   "source": [
    "chocolate, strawberries, roses, gift_basket = create_product_dataframes(df)\n",
    "new_df = add_mid_prices_to_gift_basket(chocolate, strawberries, roses, gift_basket)"
   ]
  },
  {
   "cell_type": "code",
   "execution_count": 38,
   "metadata": {},
   "outputs": [
    {
     "data": {
      "text/html": [
       "<div>\n",
       "<style scoped>\n",
       "    .dataframe tbody tr th:only-of-type {\n",
       "        vertical-align: middle;\n",
       "    }\n",
       "\n",
       "    .dataframe tbody tr th {\n",
       "        vertical-align: top;\n",
       "    }\n",
       "\n",
       "    .dataframe thead th {\n",
       "        text-align: right;\n",
       "    }\n",
       "</style>\n",
       "<table border=\"1\" class=\"dataframe\">\n",
       "  <thead>\n",
       "    <tr style=\"text-align: right;\">\n",
       "      <th></th>\n",
       "      <th>day</th>\n",
       "      <th>timestamp</th>\n",
       "      <th>product</th>\n",
       "      <th>bid_price_1</th>\n",
       "      <th>bid_volume_1</th>\n",
       "      <th>bid_price_2</th>\n",
       "      <th>bid_volume_2</th>\n",
       "      <th>bid_price_3</th>\n",
       "      <th>bid_volume_3</th>\n",
       "      <th>ask_price_1</th>\n",
       "      <th>...</th>\n",
       "      <th>ask_price_2</th>\n",
       "      <th>ask_volume_2</th>\n",
       "      <th>ask_price_3</th>\n",
       "      <th>ask_volume_3</th>\n",
       "      <th>mid_price</th>\n",
       "      <th>profit_and_loss</th>\n",
       "      <th>index</th>\n",
       "      <th>choc bid</th>\n",
       "      <th>straw bid</th>\n",
       "      <th>roses bid</th>\n",
       "    </tr>\n",
       "  </thead>\n",
       "  <tbody>\n",
       "    <tr>\n",
       "      <th>3</th>\n",
       "      <td>0</td>\n",
       "      <td>0</td>\n",
       "      <td>GIFT_BASKET</td>\n",
       "      <td>71348</td>\n",
       "      <td>19</td>\n",
       "      <td>71347.0</td>\n",
       "      <td>24.0</td>\n",
       "      <td>NaN</td>\n",
       "      <td>NaN</td>\n",
       "      <td>71362</td>\n",
       "      <td>...</td>\n",
       "      <td>71363.0</td>\n",
       "      <td>24.0</td>\n",
       "      <td>NaN</td>\n",
       "      <td>NaN</td>\n",
       "      <td>71355.0</td>\n",
       "      <td>0.0</td>\n",
       "      <td>0</td>\n",
       "      <td>8000.0</td>\n",
       "      <td>4000.0</td>\n",
       "      <td>15000.0</td>\n",
       "    </tr>\n",
       "    <tr>\n",
       "      <th>4</th>\n",
       "      <td>0</td>\n",
       "      <td>100</td>\n",
       "      <td>GIFT_BASKET</td>\n",
       "      <td>71344</td>\n",
       "      <td>1</td>\n",
       "      <td>71343.0</td>\n",
       "      <td>12.0</td>\n",
       "      <td>71342.0</td>\n",
       "      <td>20.0</td>\n",
       "      <td>71355</td>\n",
       "      <td>...</td>\n",
       "      <td>71356.0</td>\n",
       "      <td>12.0</td>\n",
       "      <td>71357.0</td>\n",
       "      <td>20.0</td>\n",
       "      <td>71349.5</td>\n",
       "      <td>0.0</td>\n",
       "      <td>1</td>\n",
       "      <td>8001.5</td>\n",
       "      <td>3999.5</td>\n",
       "      <td>15000.0</td>\n",
       "    </tr>\n",
       "    <tr>\n",
       "      <th>9</th>\n",
       "      <td>0</td>\n",
       "      <td>200</td>\n",
       "      <td>GIFT_BASKET</td>\n",
       "      <td>71344</td>\n",
       "      <td>4</td>\n",
       "      <td>71339.0</td>\n",
       "      <td>1.0</td>\n",
       "      <td>71338.0</td>\n",
       "      <td>14.0</td>\n",
       "      <td>71350</td>\n",
       "      <td>...</td>\n",
       "      <td>71351.0</td>\n",
       "      <td>14.0</td>\n",
       "      <td>71352.0</td>\n",
       "      <td>21.0</td>\n",
       "      <td>71347.0</td>\n",
       "      <td>0.0</td>\n",
       "      <td>2</td>\n",
       "      <td>8001.0</td>\n",
       "      <td>3999.5</td>\n",
       "      <td>15000.5</td>\n",
       "    </tr>\n",
       "    <tr>\n",
       "      <th>14</th>\n",
       "      <td>0</td>\n",
       "      <td>300</td>\n",
       "      <td>GIFT_BASKET</td>\n",
       "      <td>71345</td>\n",
       "      <td>2</td>\n",
       "      <td>71343.0</td>\n",
       "      <td>11.0</td>\n",
       "      <td>71342.0</td>\n",
       "      <td>29.0</td>\n",
       "      <td>71356</td>\n",
       "      <td>...</td>\n",
       "      <td>71357.0</td>\n",
       "      <td>11.0</td>\n",
       "      <td>71358.0</td>\n",
       "      <td>29.0</td>\n",
       "      <td>71350.5</td>\n",
       "      <td>0.0</td>\n",
       "      <td>3</td>\n",
       "      <td>8002.5</td>\n",
       "      <td>3999.5</td>\n",
       "      <td>15000.0</td>\n",
       "    </tr>\n",
       "    <tr>\n",
       "      <th>19</th>\n",
       "      <td>0</td>\n",
       "      <td>400</td>\n",
       "      <td>GIFT_BASKET</td>\n",
       "      <td>71336</td>\n",
       "      <td>2</td>\n",
       "      <td>71335.0</td>\n",
       "      <td>13.0</td>\n",
       "      <td>71334.0</td>\n",
       "      <td>25.0</td>\n",
       "      <td>71347</td>\n",
       "      <td>...</td>\n",
       "      <td>71348.0</td>\n",
       "      <td>13.0</td>\n",
       "      <td>71349.0</td>\n",
       "      <td>25.0</td>\n",
       "      <td>71341.5</td>\n",
       "      <td>0.0</td>\n",
       "      <td>4</td>\n",
       "      <td>8002.0</td>\n",
       "      <td>3999.5</td>\n",
       "      <td>14997.5</td>\n",
       "    </tr>\n",
       "  </tbody>\n",
       "</table>\n",
       "<p>5 rows × 21 columns</p>\n",
       "</div>"
      ],
      "text/plain": [
       "    day  timestamp      product  bid_price_1  bid_volume_1  bid_price_2   \n",
       "3     0          0  GIFT_BASKET        71348            19      71347.0  \\\n",
       "4     0        100  GIFT_BASKET        71344             1      71343.0   \n",
       "9     0        200  GIFT_BASKET        71344             4      71339.0   \n",
       "14    0        300  GIFT_BASKET        71345             2      71343.0   \n",
       "19    0        400  GIFT_BASKET        71336             2      71335.0   \n",
       "\n",
       "    bid_volume_2  bid_price_3  bid_volume_3  ask_price_1  ...  ask_price_2   \n",
       "3           24.0          NaN           NaN        71362  ...      71363.0  \\\n",
       "4           12.0      71342.0          20.0        71355  ...      71356.0   \n",
       "9            1.0      71338.0          14.0        71350  ...      71351.0   \n",
       "14          11.0      71342.0          29.0        71356  ...      71357.0   \n",
       "19          13.0      71334.0          25.0        71347  ...      71348.0   \n",
       "\n",
       "    ask_volume_2  ask_price_3  ask_volume_3  mid_price  profit_and_loss   \n",
       "3           24.0          NaN           NaN    71355.0              0.0  \\\n",
       "4           12.0      71357.0          20.0    71349.5              0.0   \n",
       "9           14.0      71352.0          21.0    71347.0              0.0   \n",
       "14          11.0      71358.0          29.0    71350.5              0.0   \n",
       "19          13.0      71349.0          25.0    71341.5              0.0   \n",
       "\n",
       "    index  choc bid  straw bid  roses bid  \n",
       "3       0    8000.0     4000.0    15000.0  \n",
       "4       1    8001.5     3999.5    15000.0  \n",
       "9       2    8001.0     3999.5    15000.5  \n",
       "14      3    8002.5     3999.5    15000.0  \n",
       "19      4    8002.0     3999.5    14997.5  \n",
       "\n",
       "[5 rows x 21 columns]"
      ]
     },
     "execution_count": 38,
     "metadata": {},
     "output_type": "execute_result"
    }
   ],
   "source": [
    "new_df.head()"
   ]
  },
  {
   "cell_type": "code",
   "execution_count": 39,
   "metadata": {},
   "outputs": [
    {
     "data": {
      "image/png": "[encoded data removed]",
      "text/plain": [
       "<Figure size 640x480 with 2 Axes>"
      ]
     },
     "metadata": {},
     "output_type": "display_data"
    }
   ],
   "source": [
    "import pandas as pd\n",
    "import seaborn as sns\n",
    "import matplotlib.pyplot as plt\n",
    "\n",
    "# Assuming you have a DataFrame named 'df' with your data\n",
    "# You might need to correct the column names if there are any typos or spaces\n",
    "features = ['mid_price', 'choc bid', 'straw bid', 'roses bid']\n",
    "\n",
    "# Compute the correlation matrix for the selected features\n",
    "corr = new_df[features].corr()\n",
    "\n",
    "# Generate a heatmap\n",
    "sns.heatmap(corr, annot=True, cmap='coolwarm', fmt=\".2f\")\n",
    "plt.title('Correlation Matrix')\n",
    "plt.show()\n"
   ]
  },
  {
   "cell_type": "code",
   "execution_count": 40,
   "metadata": {},
   "outputs": [
    {
     "name": "stderr",
     "output_type": "stream",
     "text": [
      "C:\\Users\\chris\\AppData\\Local\\Temp\\ipykernel_29532\\4167624016.py:2: SettingWithCopyWarning: \n",
      "A value is trying to be set on a copy of a slice from a DataFrame.\n",
      "Try using .loc[row_indexer,col_indexer] = value instead\n",
      "\n",
      "See the caveats in the documentation: https://pandas.pydata.org/pandas-docs/stable/user_guide/indexing.html#returning-a-view-versus-a-copy\n",
      "  prices['premium'] = prices.apply(lambda x: x['mid_price'] - x['choc bid'] * 4 - x['straw bid'] * 6 - x['roses bid'] - 375, axis=1)\n"
     ]
    }
   ],
   "source": [
    "prices = new_df[['mid_price', 'choc bid', 'straw bid', 'roses bid']]\n",
    "prices['premium'] = prices.apply(lambda x: x['mid_price'] - x['choc bid'] * 4 - x['straw bid'] * 6 - x['roses bid'] - 375, axis=1)\n",
    "# prices['% premium'] = prices['bid abs premium'] / prices['ask_price_1'] * 100"
   ]
  },
  {
   "cell_type": "code",
   "execution_count": 27,
   "metadata": {},
   "outputs": [
    {
     "data": {
      "image/png": "[encoded data removed]",
      "text/plain": [
       "<Figure size 800x600 with 1 Axes>"
      ]
     },
     "metadata": {},
     "output_type": "display_data"
    }
   ],
   "source": [
    "import matplotlib.pyplot as plt\n",
    "from matplotlib.ticker import MaxNLocator\n",
    "\n",
    "plt.figure(figsize=(8, 6))\n",
    "\n",
    "\n",
    "plt.title(\"Relative Premium Histogram\")\n",
    "plt.ylabel(\"Freq\")\n",
    "plt.xlabel(\"Relative Premium\")\n",
    "prices['premium'].hist(bins=40)\n",
    "\n",
    "# Create more ticks on the x-axis\n",
    "ax = plt.gca()  # Get the current axis\n",
    "plt.show()"
   ]
  },
  {
   "cell_type": "code",
   "execution_count": 35,
   "metadata": {},
   "outputs": [],
   "source": [
    "b = 20"
   ]
  },
  {
   "cell_type": "code",
   "execution_count": 36,
   "metadata": {},
   "outputs": [
    {
     "name": "stdout",
     "output_type": "stream",
     "text": [
      "Counts in each bin: [  56   94  466  683  747 1229 2305 2894 3556 3765 4073 3324 2212 1835\n",
      " 1270 1056  299   70   47   19]\n",
      "Bin edges: [-235.  -210.4 -185.8 -161.2 -136.6 -112.   -87.4  -62.8  -38.2  -13.6\n",
      "   11.    35.6   60.2   84.8  109.4  134.   158.6  183.2  207.8  232.4\n",
      "  257. ]\n"
     ]
    }
   ],
   "source": [
    "import numpy as np\n",
    "import math\n",
    "\n",
    "# Assuming prices['premium'] is your data\n",
    "data = prices['premium']\n",
    "\n",
    "# Calculate histogram\n",
    "counts, bin_edges = np.histogram(data, bins=b)\n",
    "total = 30000\n",
    "\n",
    "print(\"Counts in each bin:\", counts)\n",
    "print(\"Bin edges:\", bin_edges)\n"
   ]
  },
  {
   "cell_type": "code",
   "execution_count": 37,
   "metadata": {},
   "outputs": [
    {
     "name": "stdout",
     "output_type": "stream",
     "text": [
      "Buys:\n",
      " [-210.4, -185.8, -161.2, -136.6, -112.0, -87.39999999999998, -62.79999999999998, -38.19999999999999, -13.599999999999994]\n",
      "Sells:\n",
      " [ 35.6  60.2  84.8 109.4 134.  158.6 183.2 207.8 232.4 257. ]\n"
     ]
    }
   ],
   "source": [
    "factor = 0\n",
    "if len(bin_edges) % 2:\n",
    "    factor = 1\n",
    "\n",
    "new = bin_edges[1:len(bin_edges)//2+factor]\n",
    "buy_buckets = []\n",
    "for b in new:\n",
    "    if b < 1:\n",
    "        buy_buckets.append(b) \n",
    "\n",
    "\n",
    "sell_buckets = bin_edges[len(bin_edges)//2+factor:]\n",
    "print('Buys:\\n', buy_buckets)\n",
    "print('Sells:\\n', sell_buckets)"
   ]
  },
  {
   "cell_type": "code",
   "execution_count": 31,
   "metadata": {},
   "outputs": [
    {
     "data": {
      "text/plain": [
       "(52.0, -30.0)"
      ]
     },
     "execution_count": 31,
     "metadata": {},
     "output_type": "execute_result"
    }
   ],
   "source": [
    "sell_level = sell_buckets[0]\n",
    "buy_level = buy_buckets[-1]\n",
    "\n",
    "sell_level, buy_level"
   ]
  },
  {
   "cell_type": "code",
   "execution_count": 32,
   "metadata": {},
   "outputs": [
    {
     "name": "stdout",
     "output_type": "stream",
     "text": [
      "Buys:\n",
      "Profit per sell is 246.000000 seashells\n",
      "Cumulative Percentage of Total: 0.36%\n",
      "Profit per sell is 205.000000 seashells\n",
      "Cumulative Percentage of Total: 2.89%\n",
      "Profit per sell is 164.000000 seashells\n",
      "Cumulative Percentage of Total: 6.82%\n",
      "Profit per sell is 123.000000 seashells\n",
      "Cumulative Percentage of Total: 15.62%\n",
      "Profit per sell is 82.000000 seashells\n",
      "Cumulative Percentage of Total: 31.95%\n",
      "\n",
      "Sells:\n",
      "Profit per buy is 82.00 seashells\n",
      "Cumulative Percentage of Total: 67.87%\n",
      "Profit per buy is 123.00 seashells\n",
      "Cumulative Percentage of Total: 47.17%\n",
      "Profit per buy is 164.00 seashells\n",
      "Cumulative Percentage of Total: 26.12%\n",
      "Profit per buy is 205.00 seashells\n",
      "Cumulative Percentage of Total: 13.04%\n",
      "Profit per buy is 246.00 seashells\n",
      "Cumulative Percentage of Total: 4.79%\n",
      "Profit per buy is 287.00 seashells\n",
      "Cumulative Percentage of Total: 0.51%\n"
     ]
    }
   ],
   "source": [
    "probability_at_level_buy = []\n",
    "profit_at_level_buy = []\n",
    "sum = 0\n",
    "print(\"Buys:\")\n",
    "for i, level in enumerate(buy_buckets):\n",
    "    sum += counts[i]/total\n",
    "    probability_at_level_buy.append(sum)\n",
    "    \n",
    "    profit = sell_level - level\n",
    "    profit_at_level_buy.append(profit)\n",
    "\n",
    "    print(f\"Profit per sell is {profit:2f} seashells\")\n",
    "    print(f\"Cumulative Percentage of Total: {sum*100:.2f}%\")\n",
    "\n",
    "sum = 0\n",
    "probability_at_level_sell = []\n",
    "profit_at_level_sell = []\n",
    "\n",
    "print(\"\\nSells:\")\n",
    "for i, level in reversed(list(enumerate(sell_buckets))):\n",
    "    index = i + len(buy_buckets)\n",
    "    sum += counts[index] / total\n",
    "    probability_at_level_sell.append(sum)\n",
    "\n",
    "    profit = level - buy_level\n",
    "    profit_at_level_sell.append(profit)\n",
    "\n",
    "\n",
    "probability_at_level_sell = list(reversed(probability_at_level_sell))\n",
    "profit_at_level_sell = list(reversed(profit_at_level_sell))\n",
    "\n",
    "for prob, profit in zip(probability_at_level_sell, profit_at_level_sell):\n",
    "    print(f\"Profit per buy is {profit:.2f} seashells\")\n",
    "    print(f\"Cumulative Percentage of Total: {prob*100:.2f}%\")\n"
   ]
  },
  {
   "cell_type": "code",
   "execution_count": 717,
   "metadata": {},
   "outputs": [],
   "source": [
    "def find_optimal_combination(probabilities, profits, max_total):\n",
    "    n = len(probabilities)\n",
    "    \n",
    "    def helper(start, current_total, current_profit):\n",
    "        if start == n:\n",
    "            return current_profit, [0] * n\n",
    "        \n",
    "        best_profit = current_profit\n",
    "        best_combination = [0] * n\n",
    "        \n",
    "        for i in range(max_total - current_total + 1):\n",
    "            profit = current_profit + probabilities[start] * profits[start] * i\n",
    "            combination = [0] * n\n",
    "            combination[start] = i\n",
    "            \n",
    "            sub_profit, sub_combination = helper(start + 1, current_total + i, profit)\n",
    "            \n",
    "            if sub_profit > best_profit:\n",
    "                best_profit = sub_profit\n",
    "                best_combination = sub_combination\n",
    "                best_combination[start] = i\n",
    "        \n",
    "        return best_profit, best_combination\n",
    "    \n",
    "    return helper(0, 0, 0)"
   ]
  },
  {
   "cell_type": "code",
   "execution_count": 718,
   "metadata": {},
   "outputs": [
    {
     "name": "stdout",
     "output_type": "stream",
     "text": [
      "probs [0.016933333333333335, 0.040633333333333334, 0.09586666666666667]\n",
      "profits [154.2, 115.64999999999999, 77.1]\n",
      "buckets [-112.9, -74.35000000000001, -35.80000000000001]\n"
     ]
    },
    {
     "data": {
      "text/plain": [
       "(443.4792, [0, 0, 60])"
      ]
     },
     "execution_count": 718,
     "metadata": {},
     "output_type": "execute_result"
    }
   ],
   "source": [
    "percent, profit = probability_at_level_buy[-3:], profit_at_level_buy[-3:]\n",
    "print('probs', percent[-3:])\n",
    "print('profits', profit[-3:])\n",
    "print('buckets', buy_buckets[-3:])\n",
    "\n",
    "buy_profit, combos = find_optimal_combination(percent[-4:], profit[-4:], 60)\n",
    "buy_profit, combos"
   ]
  },
  {
   "cell_type": "code",
   "execution_count": 719,
   "metadata": {},
   "outputs": [
    {
     "name": "stdout",
     "output_type": "stream",
     "text": [
      "probs [0.2315, 0.17003333333333334, 0.10963333333333333]\n",
      "profits [77.1, 115.64999999999998, 154.2]\n",
      "buckets [ 41.3   79.85 118.4 ]\n"
     ]
    },
    {
     "data": {
      "text/plain": [
       "(2141.8379999999997, [60, 0, 0])"
      ]
     },
     "execution_count": 719,
     "metadata": {},
     "output_type": "execute_result"
    }
   ],
   "source": [
    "sell_prob, sell_profit = probability_at_level_sell[:3], profit_at_level_sell[:3]\n",
    "print('probs', sell_prob[:3])\n",
    "print('profits', sell_profit[:3])\n",
    "print('buckets', sell_buckets[:3])\n",
    "\n",
    "sell_profit, combos = find_optimal_combination(sell_prob, profit, 60)\n",
    "sell_profit, combos"
   ]
  },
  {
   "cell_type": "markdown",
   "metadata": {},
   "source": [
    "buy combo: 10, 60\n",
    "\n",
    "sell combo: 41, 60\n",
    "\n",
    "-> 337k"
   ]
  }
 ],
 "metadata": {
  "kernelspec": {
   "display_name": "base",
   "language": "python",
   "name": "python3"
  },
  "language_info": {
   "codemirror_mode": {
    "name": "ipython",
    "version": 3
   },
   "file_extension": ".py",
   "mimetype": "text/x-python",
   "name": "python",
   "nbconvert_exporter": "python",
   "pygments_lexer": "ipython3",
   "version": "3.9.12"
  }
 },
 "nbformat": 4,
 "nbformat_minor": 2
}

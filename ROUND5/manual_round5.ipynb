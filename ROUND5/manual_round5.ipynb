{
 "cells": [
  {
   "cell_type": "markdown",
   "metadata": {},
   "source": [
    "## Set predicted price movement per product"
   ]
  },
  {
   "cell_type": "code",
   "execution_count": 5,
   "metadata": {},
   "outputs": [],
   "source": [
    "# # Timur's prediction\n",
    "# sentiments = {\n",
    "#     \"Haystacks\": -0.03,\n",
    "#     \"Ranch sauce\": 0.3,\n",
    "#     \"Cacti Needle\": -0.04,\n",
    "#     \"Solar panels\": -0.03,\n",
    "#     \"Red Flags\": -0.1,\n",
    "#     \"VR Monocle\": 0.4,\n",
    "#     \"Quantum Coffee\": -0.03,\n",
    "#     \"Moonshine\": 0.02,\n",
    "#     \"Striped shirts\": 0.5\n",
    "# }\n",
    "\n",
    "# Nirav's prediction\n",
    "sentiments = {\n",
    "    \"Haystacks\": 0.05,\n",
    "    \"Ranch sauce\": 0.10,\n",
    "    \"Cacti Needle\": -0.60,\n",
    "    \"Solar panels\": -0.20,\n",
    "    \"Red Flags\": 0.15,\n",
    "    \"VR Monocle\": 0.30,\n",
    "    \"Quantum Coffee\": -0.40,\n",
    "    \"Moonshine\": 0.02,\n",
    "    \"Striped shirts\": 0.25\n",
    "}"
   ]
  },
  {
   "cell_type": "markdown",
   "metadata": {},
   "source": [
    "## Integer problem solver \n",
    "\n",
    "pip install pyscipopt"
   ]
  },
  {
   "cell_type": "code",
   "execution_count": 7,
   "metadata": {},
   "outputs": [
    {
     "name": "stdout",
     "output_type": "stream",
     "text": [
      "['CLARABEL', 'OSQP', 'SCIP', 'SCIPY', 'SCS']\n",
      "\n",
      "best pnl: 155720.000 seashells\n",
      "total fee paid: 156480.000 seashells\n",
      "optimal allocation:\n",
      "--------------------------------------------------\n",
      "resource             position        allocation\n",
      "--------------------------------------------------\n",
      "Haystacks            Buy             2.000     %\n",
      "Ranch sauce          Buy             4.000     %\n",
      "Cacti Needle         Sell            -25.000   %\n",
      "Solar panels         Sell            -8.000    %\n",
      "Red Flags            Buy             6.000     %\n",
      "VR Monocle           Buy             13.000    %\n",
      "Quantum Coffee       Sell            -17.000   %\n",
      "Moonshine            Buy             1.000     %\n",
      "Striped shirts       Buy             10.000    %\n",
      "--------------------------------------------------\n",
      "Total                                86.000    %\n"
     ]
    }
   ],
   "source": [
    "import cvxpy as cp\n",
    "import numpy as np\n",
    "\n",
    "n = len(sentiments)\n",
    "\n",
    "print(cp.installed_solvers())\n",
    "\n",
    "goods = list(sentiments.keys())\n",
    "values = np.array(list(sentiments.values()))\n",
    "\n",
    "pi = cp.Variable(n, integer=True)\n",
    "\n",
    "fee = 120 * cp.sum_squares(pi) # fee = sum(120 * pi_i^2) = 120 * sum(pi_i^2)\n",
    "pnl = (values @ pi) * 10000 # move % dotted with portfolio percentage scaled by the capital\n",
    "\n",
    "objective = cp.Maximize(pnl - fee)\n",
    "constraints = [cp.norm(pi, 1) <= 100] # only constraint is that our portfolio adds up to 100\n",
    "\n",
    "problem = cp.Problem(objective=objective, constraints=constraints)\n",
    "problem.solve(solver=cp.SCIP)\n",
    "\n",
    "total = 0\n",
    "\n",
    "# Calculate fee after solving\n",
    "calculated_fee = fee.value\n",
    "\n",
    "print()\n",
    "print(f\"best pnl: {problem.value:.3f} seashells\")\n",
    "print(f\"total fee paid: {calculated_fee:.3f} seashells\")\n",
    "print(\"optimal allocation:\")\n",
    "print(\"-\" * 50)\n",
    "print(f\"{'resource':<20} {'position':<15} {'allocation':<10}\")\n",
    "print(\"-\" * 50)\n",
    "total = 0\n",
    "for i, good in enumerate(goods):\n",
    "    if abs(pi.value[i]) > 0:\n",
    "        position_type = \"Buy\" if pi.value[i] > 0 else \"Sell\"\n",
    "        print(f\"{good:<20} {position_type:<15} {pi.value[i]:<10.3f}%\")\n",
    "        total += abs(pi.value[i])\n",
    "print(\"-\" * 50)\n",
    "print(f\"{'Total':<20} {'':<15} {total:<10.3f}%\")"
   ]
  }
 ],
 "metadata": {
  "kernelspec": {
   "display_name": "Python 3",
   "language": "python",
   "name": "python3"
  },
  "language_info": {
   "codemirror_mode": {
    "name": "ipython",
    "version": 3
   },
   "file_extension": ".py",
   "mimetype": "text/x-python",
   "name": "python",
   "nbconvert_exporter": "python",
   "pygments_lexer": "ipython3",
   "version": "3.11.9"
  }
 },
 "nbformat": 4,
 "nbformat_minor": 2
}

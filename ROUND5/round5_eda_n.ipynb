{
 "cells": [
  {
   "cell_type": "code",
   "execution_count": 60,
   "metadata": {},
   "outputs": [],
   "source": [
    "import pandas as pd\n",
    "import numpy as np\n",
    "import matplotlib.pyplot as plt\n",
    "import plotly.graph_objects as go"
   ]
  },
  {
   "cell_type": "code",
   "execution_count": 61,
   "metadata": {},
   "outputs": [],
   "source": [
    "trades_1 = pd.read_csv(\"round5/trades_round_5_day_2.csv\", delimiter=';')\n",
    "trades_2 = pd.read_csv(\"round5/trades_round_5_day_3.csv\", delimiter=';')\n",
    "trades_2['timestamp'] += 1e6\n",
    "trades_3 = pd.read_csv(\"round5/trades_round_5_day_4.csv\", delimiter=';')\n",
    "trades_3['timestamp'] += 2e6\n",
    "\n",
    "prices_1 = pd.read_csv(\"round5/prices_round_5_day_2.csv\", delimiter=';')\n",
    "prices_2 = pd.read_csv(\"round5/prices_round_5_day_3.csv\", delimiter=';')\n",
    "prices_2['timestamp'] += 1e6\n",
    "prices_3 = pd.read_csv(\"round5/prices_round_5_day_4.csv\", delimiter=';')\n",
    "prices_3['timestamp'] += 2e6"
   ]
  },
  {
   "cell_type": "code",
   "execution_count": 62,
   "metadata": {},
   "outputs": [
    {
     "name": "stderr",
     "output_type": "stream",
     "text": [
      "C:\\Users\\nirav\\AppData\\Local\\Temp\\ipykernel_69660\\502764631.py:5: FutureWarning: Series.__getitem__ treating keys as positions is deprecated. In a future version, integer keys will always be treated as labels (consistent with DataFrame behavior). To access a value by position, use `ser.iloc[pos]`\n",
      "  bid = row[3]\n",
      "C:\\Users\\nirav\\AppData\\Local\\Temp\\ipykernel_69660\\502764631.py:6: FutureWarning: Series.__getitem__ treating keys as positions is deprecated. In a future version, integer keys will always be treated as labels (consistent with DataFrame behavior). To access a value by position, use `ser.iloc[pos]`\n",
      "  ask = row[9]\n"
     ]
    }
   ],
   "source": [
    "prices = pd.concat([prices_1, prices_2, prices_3])\n",
    "trades = pd.concat([trades_1, trades_2, trades_3])\n",
    "\n",
    "def simple_mid_price(row):\n",
    "    bid = row[3]\n",
    "    ask = row[9]\n",
    "    if np.isnan(bid) and np.isnan(ask):\n",
    "        return 0\n",
    "    elif np.isnan(bid):\n",
    "        return ask\n",
    "    elif np.isnan(ask):\n",
    "        return bid\n",
    "    return (bid+ask) / 2\n",
    "\n",
    "prices['mid_price'] = prices.apply(simple_mid_price, axis=1)"
   ]
  },
  {
   "cell_type": "code",
   "execution_count": 63,
   "metadata": {},
   "outputs": [
    {
     "name": "stdout",
     "output_type": "stream",
     "text": [
      "buyers:  10\n",
      "{'Pablo', 'Paris', 'Penelope', 'Peter', 'Olivia', 'Gary', 'Charlie', 'Caesar', 'Camilla', 'Gina'}\n",
      "sellers:  11\n",
      "{'Pablo', 'Paris', 'Penelope', 'Peter', 'Olivia', 'Gary', 'Olga', 'Charlie', 'Caesar', 'Camilla', 'Gina'}\n",
      "buyers and sellers:  11\n",
      "{'Pablo', 'Paris', 'Olivia', 'Caesar', 'Olga', 'Penelope', 'Peter', 'Gary', 'Charlie', 'Camilla', 'Gina'}\n"
     ]
    }
   ],
   "source": [
    "buyers = set(trades['buyer'].unique())\n",
    "sellers = set(trades['seller'].unique())\n",
    "\n",
    "print(\"buyers: \", len(buyers))\n",
    "print(buyers)\n",
    "print(\"sellers: \", len(sellers))\n",
    "print(sellers)\n",
    "\n",
    "buyers_and_sellers = set.union(buyers, sellers)\n",
    "print(\"buyers and sellers: \", len(buyers_and_sellers))\n",
    "\n",
    "print(buyers_and_sellers)\n"
   ]
  },
  {
   "cell_type": "code",
   "execution_count": 64,
   "metadata": {},
   "outputs": [
    {
     "name": "stdout",
     "output_type": "stream",
     "text": [
      "trader:  Pablo\n",
      "trader:  Paris\n",
      "trader:  Olivia\n"
     ]
    },
    {
     "ename": "KeyboardInterrupt",
     "evalue": "",
     "output_type": "error",
     "traceback": [
      "\u001b[31m---------------------------------------------------------------------------\u001b[39m",
      "\u001b[31mKeyboardInterrupt\u001b[39m                         Traceback (most recent call last)",
      "\u001b[36mCell\u001b[39m\u001b[36m \u001b[39m\u001b[32mIn[64]\u001b[39m\u001b[32m, line 31\u001b[39m\n\u001b[32m     29\u001b[39m plt.xlabel(\u001b[33m'\u001b[39m\u001b[33mtimestamp\u001b[39m\u001b[33m'\u001b[39m)\n\u001b[32m     30\u001b[39m plt.ylabel(\u001b[33m'\u001b[39m\u001b[33mprice\u001b[39m\u001b[33m'\u001b[39m)\n\u001b[32m---> \u001b[39m\u001b[32m31\u001b[39m \u001b[43mplt\u001b[49m\u001b[43m.\u001b[49m\u001b[43mtight_layout\u001b[49m\u001b[43m(\u001b[49m\u001b[43m)\u001b[49m\n\u001b[32m     32\u001b[39m os.makedirs(\u001b[33mf\u001b[39m\u001b[33m\"\u001b[39m\u001b[33mtrader_plots/\u001b[39m\u001b[38;5;132;01m{\u001b[39;00mtrader\u001b[38;5;132;01m}\u001b[39;00m\u001b[33m\"\u001b[39m, exist_ok=\u001b[38;5;28;01mTrue\u001b[39;00m)\n\u001b[32m     33\u001b[39m plt.savefig(\u001b[33mf\u001b[39m\u001b[33m\"\u001b[39m\u001b[33mtrader_plots/\u001b[39m\u001b[38;5;132;01m{\u001b[39;00mtrader\u001b[38;5;132;01m}\u001b[39;00m\u001b[33m/\u001b[39m\u001b[38;5;132;01m{\u001b[39;00mproduct\u001b[38;5;132;01m}\u001b[39;00m\u001b[33m.png\u001b[39m\u001b[33m\"\u001b[39m)\n",
      "\u001b[36mFile \u001b[39m\u001b[32mc:\\Users\\nirav\\.pyenv\\pyenv-win\\versions\\3.11.9\\Lib\\site-packages\\matplotlib\\pyplot.py:2715\u001b[39m, in \u001b[36mtight_layout\u001b[39m\u001b[34m(pad, h_pad, w_pad, rect)\u001b[39m\n\u001b[32m   2707\u001b[39m \u001b[38;5;129m@_copy_docstring_and_deprecators\u001b[39m(Figure.tight_layout)\n\u001b[32m   2708\u001b[39m \u001b[38;5;28;01mdef\u001b[39;00m \u001b[34mtight_layout\u001b[39m(\n\u001b[32m   2709\u001b[39m     *,\n\u001b[32m   (...)\u001b[39m\u001b[32m   2713\u001b[39m     rect: \u001b[38;5;28mtuple\u001b[39m[\u001b[38;5;28mfloat\u001b[39m, \u001b[38;5;28mfloat\u001b[39m, \u001b[38;5;28mfloat\u001b[39m, \u001b[38;5;28mfloat\u001b[39m] | \u001b[38;5;28;01mNone\u001b[39;00m = \u001b[38;5;28;01mNone\u001b[39;00m,\n\u001b[32m   2714\u001b[39m ) -> \u001b[38;5;28;01mNone\u001b[39;00m:\n\u001b[32m-> \u001b[39m\u001b[32m2715\u001b[39m     \u001b[43mgcf\u001b[49m\u001b[43m(\u001b[49m\u001b[43m)\u001b[49m\u001b[43m.\u001b[49m\u001b[43mtight_layout\u001b[49m\u001b[43m(\u001b[49m\u001b[43mpad\u001b[49m\u001b[43m=\u001b[49m\u001b[43mpad\u001b[49m\u001b[43m,\u001b[49m\u001b[43m \u001b[49m\u001b[43mh_pad\u001b[49m\u001b[43m=\u001b[49m\u001b[43mh_pad\u001b[49m\u001b[43m,\u001b[49m\u001b[43m \u001b[49m\u001b[43mw_pad\u001b[49m\u001b[43m=\u001b[49m\u001b[43mw_pad\u001b[49m\u001b[43m,\u001b[49m\u001b[43m \u001b[49m\u001b[43mrect\u001b[49m\u001b[43m=\u001b[49m\u001b[43mrect\u001b[49m\u001b[43m)\u001b[49m\n",
      "\u001b[36mFile \u001b[39m\u001b[32mc:\\Users\\nirav\\.pyenv\\pyenv-win\\versions\\3.11.9\\Lib\\site-packages\\matplotlib\\figure.py:3538\u001b[39m, in \u001b[36mFigure.tight_layout\u001b[39m\u001b[34m(self, pad, h_pad, w_pad, rect)\u001b[39m\n\u001b[32m   3536\u001b[39m previous_engine = \u001b[38;5;28mself\u001b[39m.get_layout_engine()\n\u001b[32m   3537\u001b[39m \u001b[38;5;28mself\u001b[39m.set_layout_engine(engine)\n\u001b[32m-> \u001b[39m\u001b[32m3538\u001b[39m \u001b[43mengine\u001b[49m\u001b[43m.\u001b[49m\u001b[43mexecute\u001b[49m\u001b[43m(\u001b[49m\u001b[38;5;28;43mself\u001b[39;49m\u001b[43m)\u001b[49m\n\u001b[32m   3539\u001b[39m \u001b[38;5;28;01mif\u001b[39;00m previous_engine \u001b[38;5;129;01mis\u001b[39;00m \u001b[38;5;129;01mnot\u001b[39;00m \u001b[38;5;28;01mNone\u001b[39;00m \u001b[38;5;129;01mand\u001b[39;00m \u001b[38;5;129;01mnot\u001b[39;00m \u001b[38;5;28misinstance\u001b[39m(\n\u001b[32m   3540\u001b[39m     previous_engine, (TightLayoutEngine, PlaceHolderLayoutEngine)\n\u001b[32m   3541\u001b[39m ):\n\u001b[32m   3542\u001b[39m     _api.warn_external(\u001b[33m'\u001b[39m\u001b[33mThe figure layout has changed to tight\u001b[39m\u001b[33m'\u001b[39m)\n",
      "\u001b[36mFile \u001b[39m\u001b[32mc:\\Users\\nirav\\.pyenv\\pyenv-win\\versions\\3.11.9\\Lib\\site-packages\\matplotlib\\layout_engine.py:183\u001b[39m, in \u001b[36mTightLayoutEngine.execute\u001b[39m\u001b[34m(self, fig)\u001b[39m\n\u001b[32m    181\u001b[39m renderer = fig._get_renderer()\n\u001b[32m    182\u001b[39m \u001b[38;5;28;01mwith\u001b[39;00m \u001b[38;5;28mgetattr\u001b[39m(renderer, \u001b[33m\"\u001b[39m\u001b[33m_draw_disabled\u001b[39m\u001b[33m\"\u001b[39m, nullcontext)():\n\u001b[32m--> \u001b[39m\u001b[32m183\u001b[39m     kwargs = \u001b[43mget_tight_layout_figure\u001b[49m\u001b[43m(\u001b[49m\n\u001b[32m    184\u001b[39m \u001b[43m        \u001b[49m\u001b[43mfig\u001b[49m\u001b[43m,\u001b[49m\u001b[43m \u001b[49m\u001b[43mfig\u001b[49m\u001b[43m.\u001b[49m\u001b[43maxes\u001b[49m\u001b[43m,\u001b[49m\u001b[43m \u001b[49m\u001b[43mget_subplotspec_list\u001b[49m\u001b[43m(\u001b[49m\u001b[43mfig\u001b[49m\u001b[43m.\u001b[49m\u001b[43maxes\u001b[49m\u001b[43m)\u001b[49m\u001b[43m,\u001b[49m\u001b[43m \u001b[49m\u001b[43mrenderer\u001b[49m\u001b[43m,\u001b[49m\n\u001b[32m    185\u001b[39m \u001b[43m        \u001b[49m\u001b[43mpad\u001b[49m\u001b[43m=\u001b[49m\u001b[43minfo\u001b[49m\u001b[43m[\u001b[49m\u001b[33;43m'\u001b[39;49m\u001b[33;43mpad\u001b[39;49m\u001b[33;43m'\u001b[39;49m\u001b[43m]\u001b[49m\u001b[43m,\u001b[49m\u001b[43m \u001b[49m\u001b[43mh_pad\u001b[49m\u001b[43m=\u001b[49m\u001b[43minfo\u001b[49m\u001b[43m[\u001b[49m\u001b[33;43m'\u001b[39;49m\u001b[33;43mh_pad\u001b[39;49m\u001b[33;43m'\u001b[39;49m\u001b[43m]\u001b[49m\u001b[43m,\u001b[49m\u001b[43m \u001b[49m\u001b[43mw_pad\u001b[49m\u001b[43m=\u001b[49m\u001b[43minfo\u001b[49m\u001b[43m[\u001b[49m\u001b[33;43m'\u001b[39;49m\u001b[33;43mw_pad\u001b[39;49m\u001b[33;43m'\u001b[39;49m\u001b[43m]\u001b[49m\u001b[43m,\u001b[49m\n\u001b[32m    186\u001b[39m \u001b[43m        \u001b[49m\u001b[43mrect\u001b[49m\u001b[43m=\u001b[49m\u001b[43minfo\u001b[49m\u001b[43m[\u001b[49m\u001b[33;43m'\u001b[39;49m\u001b[33;43mrect\u001b[39;49m\u001b[33;43m'\u001b[39;49m\u001b[43m]\u001b[49m\u001b[43m)\u001b[49m\n\u001b[32m    187\u001b[39m \u001b[38;5;28;01mif\u001b[39;00m kwargs:\n\u001b[32m    188\u001b[39m     fig.subplots_adjust(**kwargs)\n",
      "\u001b[36mFile \u001b[39m\u001b[32mc:\\Users\\nirav\\.pyenv\\pyenv-win\\versions\\3.11.9\\Lib\\site-packages\\matplotlib\\_tight_layout.py:266\u001b[39m, in \u001b[36mget_tight_layout_figure\u001b[39m\u001b[34m(fig, axes_list, subplotspec_list, renderer, pad, h_pad, w_pad, rect)\u001b[39m\n\u001b[32m    261\u001b[39m         \u001b[38;5;28;01mreturn\u001b[39;00m {}\n\u001b[32m    262\u001b[39m     span_pairs.append((\n\u001b[32m    263\u001b[39m         \u001b[38;5;28mslice\u001b[39m(ss.rowspan.start * div_row, ss.rowspan.stop * div_row),\n\u001b[32m    264\u001b[39m         \u001b[38;5;28mslice\u001b[39m(ss.colspan.start * div_col, ss.colspan.stop * div_col)))\n\u001b[32m--> \u001b[39m\u001b[32m266\u001b[39m kwargs = \u001b[43m_auto_adjust_subplotpars\u001b[49m\u001b[43m(\u001b[49m\u001b[43mfig\u001b[49m\u001b[43m,\u001b[49m\u001b[43m \u001b[49m\u001b[43mrenderer\u001b[49m\u001b[43m,\u001b[49m\n\u001b[32m    267\u001b[39m \u001b[43m                                  \u001b[49m\u001b[43mshape\u001b[49m\u001b[43m=\u001b[49m\u001b[43m(\u001b[49m\u001b[43mmax_nrows\u001b[49m\u001b[43m,\u001b[49m\u001b[43m \u001b[49m\u001b[43mmax_ncols\u001b[49m\u001b[43m)\u001b[49m\u001b[43m,\u001b[49m\n\u001b[32m    268\u001b[39m \u001b[43m                                  \u001b[49m\u001b[43mspan_pairs\u001b[49m\u001b[43m=\u001b[49m\u001b[43mspan_pairs\u001b[49m\u001b[43m,\u001b[49m\n\u001b[32m    269\u001b[39m \u001b[43m                                  \u001b[49m\u001b[43msubplot_list\u001b[49m\u001b[43m=\u001b[49m\u001b[43msubplot_list\u001b[49m\u001b[43m,\u001b[49m\n\u001b[32m    270\u001b[39m \u001b[43m                                  \u001b[49m\u001b[43max_bbox_list\u001b[49m\u001b[43m=\u001b[49m\u001b[43max_bbox_list\u001b[49m\u001b[43m,\u001b[49m\n\u001b[32m    271\u001b[39m \u001b[43m                                  \u001b[49m\u001b[43mpad\u001b[49m\u001b[43m=\u001b[49m\u001b[43mpad\u001b[49m\u001b[43m,\u001b[49m\u001b[43m \u001b[49m\u001b[43mh_pad\u001b[49m\u001b[43m=\u001b[49m\u001b[43mh_pad\u001b[49m\u001b[43m,\u001b[49m\u001b[43m \u001b[49m\u001b[43mw_pad\u001b[49m\u001b[43m=\u001b[49m\u001b[43mw_pad\u001b[49m\u001b[43m)\u001b[49m\n\u001b[32m    273\u001b[39m \u001b[38;5;66;03m# kwargs can be none if tight_layout fails...\u001b[39;00m\n\u001b[32m    274\u001b[39m \u001b[38;5;28;01mif\u001b[39;00m rect \u001b[38;5;129;01mis\u001b[39;00m \u001b[38;5;129;01mnot\u001b[39;00m \u001b[38;5;28;01mNone\u001b[39;00m \u001b[38;5;129;01mand\u001b[39;00m kwargs \u001b[38;5;129;01mis\u001b[39;00m \u001b[38;5;129;01mnot\u001b[39;00m \u001b[38;5;28;01mNone\u001b[39;00m:\n\u001b[32m    275\u001b[39m     \u001b[38;5;66;03m# if rect is given, the whole subplots area (including\u001b[39;00m\n\u001b[32m    276\u001b[39m     \u001b[38;5;66;03m# labels) will fit into the rect instead of the\u001b[39;00m\n\u001b[32m   (...)\u001b[39m\u001b[32m    280\u001b[39m     \u001b[38;5;66;03m# auto_adjust_subplotpars twice, where the second run\u001b[39;00m\n\u001b[32m    281\u001b[39m     \u001b[38;5;66;03m# with adjusted rect parameters.\u001b[39;00m\n",
      "\u001b[36mFile \u001b[39m\u001b[32mc:\\Users\\nirav\\.pyenv\\pyenv-win\\versions\\3.11.9\\Lib\\site-packages\\matplotlib\\_tight_layout.py:82\u001b[39m, in \u001b[36m_auto_adjust_subplotpars\u001b[39m\u001b[34m(fig, renderer, shape, span_pairs, subplot_list, ax_bbox_list, pad, h_pad, w_pad, rect)\u001b[39m\n\u001b[32m     80\u001b[39m \u001b[38;5;28;01mfor\u001b[39;00m ax \u001b[38;5;129;01min\u001b[39;00m subplots:\n\u001b[32m     81\u001b[39m     \u001b[38;5;28;01mif\u001b[39;00m ax.get_visible():\n\u001b[32m---> \u001b[39m\u001b[32m82\u001b[39m         bb += [\u001b[43mmartist\u001b[49m\u001b[43m.\u001b[49m\u001b[43m_get_tightbbox_for_layout_only\u001b[49m\u001b[43m(\u001b[49m\u001b[43max\u001b[49m\u001b[43m,\u001b[49m\u001b[43m \u001b[49m\u001b[43mrenderer\u001b[49m\u001b[43m)\u001b[49m]\n\u001b[32m     84\u001b[39m tight_bbox_raw = Bbox.union(bb)\n\u001b[32m     85\u001b[39m tight_bbox = fig.transFigure.inverted().transform_bbox(tight_bbox_raw)\n",
      "\u001b[36mFile \u001b[39m\u001b[32mc:\\Users\\nirav\\.pyenv\\pyenv-win\\versions\\3.11.9\\Lib\\site-packages\\matplotlib\\artist.py:1408\u001b[39m, in \u001b[36m_get_tightbbox_for_layout_only\u001b[39m\u001b[34m(obj, *args, **kwargs)\u001b[39m\n\u001b[32m   1402\u001b[39m \u001b[38;5;250m\u001b[39m\u001b[33;03m\"\"\"\u001b[39;00m\n\u001b[32m   1403\u001b[39m \u001b[33;03mMatplotlib's `.Axes.get_tightbbox` and `.Axis.get_tightbbox` support a\u001b[39;00m\n\u001b[32m   1404\u001b[39m \u001b[33;03m*for_layout_only* kwarg; this helper tries to use the kwarg but skips it\u001b[39;00m\n\u001b[32m   1405\u001b[39m \u001b[33;03mwhen encountering third-party subclasses that do not support it.\u001b[39;00m\n\u001b[32m   1406\u001b[39m \u001b[33;03m\"\"\"\u001b[39;00m\n\u001b[32m   1407\u001b[39m \u001b[38;5;28;01mtry\u001b[39;00m:\n\u001b[32m-> \u001b[39m\u001b[32m1408\u001b[39m     \u001b[38;5;28;01mreturn\u001b[39;00m \u001b[43mobj\u001b[49m\u001b[43m.\u001b[49m\u001b[43mget_tightbbox\u001b[49m\u001b[43m(\u001b[49m\u001b[43m*\u001b[49m\u001b[43margs\u001b[49m\u001b[43m,\u001b[49m\u001b[43m \u001b[49m\u001b[43m*\u001b[49m\u001b[43m*\u001b[49m\u001b[43m{\u001b[49m\u001b[43m*\u001b[49m\u001b[43m*\u001b[49m\u001b[43mkwargs\u001b[49m\u001b[43m,\u001b[49m\u001b[43m \u001b[49m\u001b[33;43m\"\u001b[39;49m\u001b[33;43mfor_layout_only\u001b[39;49m\u001b[33;43m\"\u001b[39;49m\u001b[43m:\u001b[49m\u001b[43m \u001b[49m\u001b[38;5;28;43;01mTrue\u001b[39;49;00m\u001b[43m}\u001b[49m\u001b[43m)\u001b[49m\n\u001b[32m   1409\u001b[39m \u001b[38;5;28;01mexcept\u001b[39;00m \u001b[38;5;167;01mTypeError\u001b[39;00m:\n\u001b[32m   1410\u001b[39m     \u001b[38;5;28;01mreturn\u001b[39;00m obj.get_tightbbox(*args, **kwargs)\n",
      "\u001b[36mFile \u001b[39m\u001b[32mc:\\Users\\nirav\\.pyenv\\pyenv-win\\versions\\3.11.9\\Lib\\site-packages\\matplotlib\\_api\\deprecation.py:457\u001b[39m, in \u001b[36mmake_keyword_only.<locals>.wrapper\u001b[39m\u001b[34m(*args, **kwargs)\u001b[39m\n\u001b[32m    451\u001b[39m \u001b[38;5;28;01mif\u001b[39;00m \u001b[38;5;28mlen\u001b[39m(args) > name_idx:\n\u001b[32m    452\u001b[39m     warn_deprecated(\n\u001b[32m    453\u001b[39m         since, message=\u001b[33m\"\u001b[39m\u001b[33mPassing the \u001b[39m\u001b[38;5;132;01m%(name)s\u001b[39;00m\u001b[33m \u001b[39m\u001b[38;5;132;01m%(obj_type)s\u001b[39;00m\u001b[33m \u001b[39m\u001b[33m\"\u001b[39m\n\u001b[32m    454\u001b[39m         \u001b[33m\"\u001b[39m\u001b[33mpositionally is deprecated since Matplotlib \u001b[39m\u001b[38;5;132;01m%(since)s\u001b[39;00m\u001b[33m; the \u001b[39m\u001b[33m\"\u001b[39m\n\u001b[32m    455\u001b[39m         \u001b[33m\"\u001b[39m\u001b[33mparameter will become keyword-only \u001b[39m\u001b[38;5;132;01m%(removal)s\u001b[39;00m\u001b[33m.\u001b[39m\u001b[33m\"\u001b[39m,\n\u001b[32m    456\u001b[39m         name=name, obj_type=\u001b[33mf\u001b[39m\u001b[33m\"\u001b[39m\u001b[33mparameter of \u001b[39m\u001b[38;5;132;01m{\u001b[39;00mfunc.\u001b[34m__name__\u001b[39m\u001b[38;5;132;01m}\u001b[39;00m\u001b[33m()\u001b[39m\u001b[33m\"\u001b[39m)\n\u001b[32m--> \u001b[39m\u001b[32m457\u001b[39m \u001b[38;5;28;01mreturn\u001b[39;00m \u001b[43mfunc\u001b[49m\u001b[43m(\u001b[49m\u001b[43m*\u001b[49m\u001b[43margs\u001b[49m\u001b[43m,\u001b[49m\u001b[43m \u001b[49m\u001b[43m*\u001b[49m\u001b[43m*\u001b[49m\u001b[43mkwargs\u001b[49m\u001b[43m)\u001b[49m\n",
      "\u001b[36mFile \u001b[39m\u001b[32mc:\\Users\\nirav\\.pyenv\\pyenv-win\\versions\\3.11.9\\Lib\\site-packages\\matplotlib\\axes\\_base.py:4451\u001b[39m, in \u001b[36m_AxesBase.get_tightbbox\u001b[39m\u001b[34m(self, renderer, call_axes_locator, bbox_extra_artists, for_layout_only)\u001b[39m\n\u001b[32m   4449\u001b[39m         \u001b[38;5;28;01mif\u001b[39;00m ba:\n\u001b[32m   4450\u001b[39m             bb.append(ba)\n\u001b[32m-> \u001b[39m\u001b[32m4451\u001b[39m \u001b[38;5;28;43mself\u001b[39;49m\u001b[43m.\u001b[49m\u001b[43m_update_title_position\u001b[49m\u001b[43m(\u001b[49m\u001b[43mrenderer\u001b[49m\u001b[43m)\u001b[49m\n\u001b[32m   4452\u001b[39m axbbox = \u001b[38;5;28mself\u001b[39m.get_window_extent(renderer)\n\u001b[32m   4453\u001b[39m bb.append(axbbox)\n",
      "\u001b[36mFile \u001b[39m\u001b[32mc:\\Users\\nirav\\.pyenv\\pyenv-win\\versions\\3.11.9\\Lib\\site-packages\\matplotlib\\axes\\_base.py:3027\u001b[39m, in \u001b[36m_AxesBase._update_title_position\u001b[39m\u001b[34m(self, renderer)\u001b[39m\n\u001b[32m   3025\u001b[39m     _log.debug(\u001b[33m'\u001b[39m\u001b[33mtop of Axes not in the figure, so title not moved\u001b[39m\u001b[33m'\u001b[39m)\n\u001b[32m   3026\u001b[39m     \u001b[38;5;28;01mreturn\u001b[39;00m\n\u001b[32m-> \u001b[39m\u001b[32m3027\u001b[39m \u001b[38;5;28;01mif\u001b[39;00m \u001b[43mtitle\u001b[49m\u001b[43m.\u001b[49m\u001b[43mget_window_extent\u001b[49m\u001b[43m(\u001b[49m\u001b[43mrenderer\u001b[49m\u001b[43m)\u001b[49m.ymin < top:\n\u001b[32m   3028\u001b[39m     _, y = \u001b[38;5;28mself\u001b[39m.transAxes.inverted().transform((\u001b[32m0\u001b[39m, top))\n\u001b[32m   3029\u001b[39m     title.set_position((x, y))\n",
      "\u001b[36mFile \u001b[39m\u001b[32mc:\\Users\\nirav\\.pyenv\\pyenv-win\\versions\\3.11.9\\Lib\\site-packages\\matplotlib\\text.py:956\u001b[39m, in \u001b[36mText.get_window_extent\u001b[39m\u001b[34m(self, renderer, dpi)\u001b[39m\n\u001b[32m    951\u001b[39m     \u001b[38;5;28;01mraise\u001b[39;00m \u001b[38;5;167;01mRuntimeError\u001b[39;00m(\n\u001b[32m    952\u001b[39m         \u001b[33m\"\u001b[39m\u001b[33mCannot get window extent of text w/o renderer. You likely \u001b[39m\u001b[33m\"\u001b[39m\n\u001b[32m    953\u001b[39m         \u001b[33m\"\u001b[39m\u001b[33mwant to call \u001b[39m\u001b[33m'\u001b[39m\u001b[33mfigure.draw_without_rendering()\u001b[39m\u001b[33m'\u001b[39m\u001b[33m first.\u001b[39m\u001b[33m\"\u001b[39m)\n\u001b[32m    955\u001b[39m \u001b[38;5;28;01mwith\u001b[39;00m cbook._setattr_cm(\u001b[38;5;28mself\u001b[39m.figure, dpi=dpi):\n\u001b[32m--> \u001b[39m\u001b[32m956\u001b[39m     bbox, info, descent = \u001b[38;5;28;43mself\u001b[39;49m\u001b[43m.\u001b[49m\u001b[43m_get_layout\u001b[49m\u001b[43m(\u001b[49m\u001b[38;5;28;43mself\u001b[39;49m\u001b[43m.\u001b[49m\u001b[43m_renderer\u001b[49m\u001b[43m)\u001b[49m\n\u001b[32m    957\u001b[39m     x, y = \u001b[38;5;28mself\u001b[39m.get_unitless_position()\n\u001b[32m    958\u001b[39m     x, y = \u001b[38;5;28mself\u001b[39m.get_transform().transform((x, y))\n",
      "\u001b[36mFile \u001b[39m\u001b[32mc:\\Users\\nirav\\.pyenv\\pyenv-win\\versions\\3.11.9\\Lib\\site-packages\\matplotlib\\text.py:373\u001b[39m, in \u001b[36mText._get_layout\u001b[39m\u001b[34m(self, renderer)\u001b[39m\n\u001b[32m    370\u001b[39m ys = []\n\u001b[32m    372\u001b[39m \u001b[38;5;66;03m# Full vertical extent of font, including ascenders and descenders:\u001b[39;00m\n\u001b[32m--> \u001b[39m\u001b[32m373\u001b[39m _, lp_h, lp_d = \u001b[43m_get_text_metrics_with_cache\u001b[49m\u001b[43m(\u001b[49m\n\u001b[32m    374\u001b[39m \u001b[43m    \u001b[49m\u001b[43mrenderer\u001b[49m\u001b[43m,\u001b[49m\u001b[43m \u001b[49m\u001b[33;43m\"\u001b[39;49m\u001b[33;43mlp\u001b[39;49m\u001b[33;43m\"\u001b[39;49m\u001b[43m,\u001b[49m\u001b[43m \u001b[49m\u001b[38;5;28;43mself\u001b[39;49m\u001b[43m.\u001b[49m\u001b[43m_fontproperties\u001b[49m\u001b[43m,\u001b[49m\n\u001b[32m    375\u001b[39m \u001b[43m    \u001b[49m\u001b[43mismath\u001b[49m\u001b[43m=\u001b[49m\u001b[33;43m\"\u001b[39;49m\u001b[33;43mTeX\u001b[39;49m\u001b[33;43m\"\u001b[39;49m\u001b[43m \u001b[49m\u001b[38;5;28;43;01mif\u001b[39;49;00m\u001b[43m \u001b[49m\u001b[38;5;28;43mself\u001b[39;49m\u001b[43m.\u001b[49m\u001b[43mget_usetex\u001b[49m\u001b[43m(\u001b[49m\u001b[43m)\u001b[49m\u001b[43m \u001b[49m\u001b[38;5;28;43;01melse\u001b[39;49;00m\u001b[43m \u001b[49m\u001b[38;5;28;43;01mFalse\u001b[39;49;00m\u001b[43m,\u001b[49m\u001b[43m \u001b[49m\u001b[43mdpi\u001b[49m\u001b[43m=\u001b[49m\u001b[38;5;28;43mself\u001b[39;49m\u001b[43m.\u001b[49m\u001b[43mfigure\u001b[49m\u001b[43m.\u001b[49m\u001b[43mdpi\u001b[49m\u001b[43m)\u001b[49m\n\u001b[32m    376\u001b[39m min_dy = (lp_h - lp_d) * \u001b[38;5;28mself\u001b[39m._linespacing\n\u001b[32m    378\u001b[39m \u001b[38;5;28;01mfor\u001b[39;00m i, line \u001b[38;5;129;01min\u001b[39;00m \u001b[38;5;28menumerate\u001b[39m(lines):\n",
      "\u001b[36mFile \u001b[39m\u001b[32mc:\\Users\\nirav\\.pyenv\\pyenv-win\\versions\\3.11.9\\Lib\\site-packages\\matplotlib\\text.py:69\u001b[39m, in \u001b[36m_get_text_metrics_with_cache\u001b[39m\u001b[34m(renderer, text, fontprop, ismath, dpi)\u001b[39m\n\u001b[32m     66\u001b[39m \u001b[38;5;250m\u001b[39m\u001b[33;03m\"\"\"Call ``renderer.get_text_width_height_descent``, caching the results.\"\"\"\u001b[39;00m\n\u001b[32m     67\u001b[39m \u001b[38;5;66;03m# Cached based on a copy of fontprop so that later in-place mutations of\u001b[39;00m\n\u001b[32m     68\u001b[39m \u001b[38;5;66;03m# the passed-in argument do not mess up the cache.\u001b[39;00m\n\u001b[32m---> \u001b[39m\u001b[32m69\u001b[39m \u001b[38;5;28;01mreturn\u001b[39;00m \u001b[43m_get_text_metrics_with_cache_impl\u001b[49m\u001b[43m(\u001b[49m\n\u001b[32m     70\u001b[39m \u001b[43m    \u001b[49m\u001b[43mweakref\u001b[49m\u001b[43m.\u001b[49m\u001b[43mref\u001b[49m\u001b[43m(\u001b[49m\u001b[43mrenderer\u001b[49m\u001b[43m)\u001b[49m\u001b[43m,\u001b[49m\u001b[43m \u001b[49m\u001b[43mtext\u001b[49m\u001b[43m,\u001b[49m\u001b[43m \u001b[49m\u001b[43mfontprop\u001b[49m\u001b[43m.\u001b[49m\u001b[43mcopy\u001b[49m\u001b[43m(\u001b[49m\u001b[43m)\u001b[49m\u001b[43m,\u001b[49m\u001b[43m \u001b[49m\u001b[43mismath\u001b[49m\u001b[43m,\u001b[49m\u001b[43m \u001b[49m\u001b[43mdpi\u001b[49m\u001b[43m)\u001b[49m\n",
      "\u001b[36mFile \u001b[39m\u001b[32mc:\\Users\\nirav\\.pyenv\\pyenv-win\\versions\\3.11.9\\Lib\\site-packages\\matplotlib\\text.py:77\u001b[39m, in \u001b[36m_get_text_metrics_with_cache_impl\u001b[39m\u001b[34m(renderer_ref, text, fontprop, ismath, dpi)\u001b[39m\n\u001b[32m     73\u001b[39m \u001b[38;5;129m@functools\u001b[39m.lru_cache(\u001b[32m4096\u001b[39m)\n\u001b[32m     74\u001b[39m \u001b[38;5;28;01mdef\u001b[39;00m \u001b[34m_get_text_metrics_with_cache_impl\u001b[39m(\n\u001b[32m     75\u001b[39m         renderer_ref, text, fontprop, ismath, dpi):\n\u001b[32m     76\u001b[39m     \u001b[38;5;66;03m# dpi is unused, but participates in cache invalidation (via the renderer).\u001b[39;00m\n\u001b[32m---> \u001b[39m\u001b[32m77\u001b[39m     \u001b[38;5;28;01mreturn\u001b[39;00m \u001b[43mrenderer_ref\u001b[49m\u001b[43m(\u001b[49m\u001b[43m)\u001b[49m\u001b[43m.\u001b[49m\u001b[43mget_text_width_height_descent\u001b[49m\u001b[43m(\u001b[49m\u001b[43mtext\u001b[49m\u001b[43m,\u001b[49m\u001b[43m \u001b[49m\u001b[43mfontprop\u001b[49m\u001b[43m,\u001b[49m\u001b[43m \u001b[49m\u001b[43mismath\u001b[49m\u001b[43m)\u001b[49m\n",
      "\u001b[36mFile \u001b[39m\u001b[32mc:\\Users\\nirav\\.pyenv\\pyenv-win\\versions\\3.11.9\\Lib\\site-packages\\matplotlib\\backends\\backend_agg.py:220\u001b[39m, in \u001b[36mRendererAgg.get_text_width_height_descent\u001b[39m\u001b[34m(self, s, prop, ismath)\u001b[39m\n\u001b[32m    217\u001b[39m     \u001b[38;5;28;01mreturn\u001b[39;00m width, height, descent\n\u001b[32m    219\u001b[39m font = \u001b[38;5;28mself\u001b[39m._prepare_font(prop)\n\u001b[32m--> \u001b[39m\u001b[32m220\u001b[39m \u001b[43mfont\u001b[49m\u001b[43m.\u001b[49m\u001b[43mset_text\u001b[49m\u001b[43m(\u001b[49m\u001b[43ms\u001b[49m\u001b[43m,\u001b[49m\u001b[43m \u001b[49m\u001b[32;43m0.0\u001b[39;49m\u001b[43m,\u001b[49m\u001b[43m \u001b[49m\u001b[43mflags\u001b[49m\u001b[43m=\u001b[49m\u001b[43mget_hinting_flag\u001b[49m\u001b[43m(\u001b[49m\u001b[43m)\u001b[49m\u001b[43m)\u001b[49m\n\u001b[32m    221\u001b[39m w, h = font.get_width_height()  \u001b[38;5;66;03m# width and height of unrotated string\u001b[39;00m\n\u001b[32m    222\u001b[39m d = font.get_descent()\n",
      "\u001b[31mKeyboardInterrupt\u001b[39m: "
     ]
    },
    {
     "data": {
      "image/png": "[encoded data removed]",
      "text/plain": [
       "<Figure size 1400x800 with 2 Axes>"
      ]
     },
     "metadata": {},
     "output_type": "display_data"
    }
   ],
   "source": [
    "import os\n",
    "for trader in buyers_and_sellers:\n",
    "    print(\"trader: \", trader)\n",
    "\n",
    "    # when buyer or seller is the trader\n",
    "    sell_trades_df = trades[(trades['buyer'] == trader)]\n",
    "    buy_trades_df = trades[(trades['seller'] == trader)]\n",
    "\n",
    "    products = set.union(set(sell_trades_df['symbol'].unique()), set(buy_trades_df['symbol'].unique()))\n",
    "    num_products = len(products)\n",
    "\n",
    "\n",
    "    for i, product in enumerate(products):\n",
    "\n",
    "        sell_product_trades = sell_trades_df[sell_trades_df['symbol'] == product]\n",
    "        buy_product_trades = buy_trades_df[buy_trades_df['symbol'] == product]\n",
    "\n",
    "        price_df = prices[prices['product'] == product]\n",
    "        plt.figure(figsize=(14, 8))\n",
    "\n",
    "        # plt.subplot(num_products, 1, i+1)\n",
    "        plt.title(product)\n",
    "        plt.plot(price_df['timestamp'], price_df['mid_price'], label='price', c='green', alpha=0.3)\n",
    "\n",
    "        plt.scatter(sell_product_trades['timestamp'], sell_product_trades['price'], c='Red', label='sell', s=2)\n",
    "        plt.scatter(buy_product_trades['timestamp'], buy_product_trades['price'], c='Blue', label='buy', s=2)\n",
    "\n",
    "        plt.colorbar(label='quantity')\n",
    "        plt.xlabel('timestamp')\n",
    "        plt.ylabel('price')\n",
    "        plt.tight_layout()\n",
    "        os.makedirs(f\"trader_plots/{trader}\", exist_ok=True)\n",
    "        plt.savefig(f\"trader_plots/{trader}/{product}.png\")\n",
    "        plt.close()"
   ]
  },
  {
   "cell_type": "code",
   "execution_count": null,
   "metadata": {},
   "outputs": [],
   "source": [
    "from tqdm.notebook import tqdm\n",
    "\n",
    "def backtest_trader(trader, product, trades, prices):\n",
    "    trader_df = trades[(trades['buyer'] == trader) | (trades['seller'] == trader)]\n",
    "    trader_df = trader_df[trader_df['symbol'] == product]\n",
    "    product_prices = prices[prices['product'] == product]\n",
    "\n",
    "    position = 0\n",
    "    # start the DCA at the very first mid_price instead of 0\n",
    "    if not product_prices.empty:\n",
    "        avg_entry_price = product_prices.iloc[0]['mid_price']\n",
    "    else:\n",
    "        avg_entry_price = 0.0\n",
    "    buy_costs = 0\n",
    "    sell_costs = 0\n",
    "    pnls = []\n",
    "    dcas = []\n",
    "    timestamps = []\n",
    "    positions = []\n",
    "\n",
    "    avg_entry_price = 0.0\n",
    "    prev_pnl = 0.0\n",
    "\n",
    "    for row in tqdm(product_prices.itertuples(index=False),\n",
    "                    total=len(product_prices),\n",
    "                    desc=f\"        {product}\",\n",
    "                    leave=False, position=2):\n",
    "        time = row.timestamp\n",
    "        mid_price = row.mid_price\n",
    "\n",
    "        trades_at_time = trader_df[trader_df['timestamp'] == time]\n",
    "\n",
    "        for _, trade in trades_at_time.iterrows():\n",
    "            qty = trade['quantity']\n",
    "            price = trade['price']\n",
    "\n",
    "            if trade['buyer'] == trader:\n",
    "                # Buying\n",
    "                if position >= 0:\n",
    "                    # Increase long position\n",
    "                    total_cost = avg_entry_price * position + price * qty\n",
    "                    position += qty\n",
    "                    avg_entry_price = total_cost / position\n",
    "                else:\n",
    "                    # Closing short or flipping to long\n",
    "                    if qty > abs(position):\n",
    "                        # Flip to long\n",
    "                        leftover_qty = qty + position\n",
    "                        avg_entry_price = price  # new long starts fresh\n",
    "                        position = leftover_qty\n",
    "                    else:\n",
    "                        position += qty  # reduce short\n",
    "                        if position == 0:\n",
    "                            avg_entry_price = mid_price  # flatten\n",
    "\n",
    "            elif trade['seller'] == trader:\n",
    "                # Selling\n",
    "                if position <= 0:\n",
    "                    # Increase short position\n",
    "                    total_cost = avg_entry_price * abs(position) + price * qty\n",
    "                    position -= qty\n",
    "                    avg_entry_price = total_cost / abs(position)\n",
    "                else:\n",
    "                    # Closing long or flipping to short\n",
    "                    if qty > position:\n",
    "                        # Flip to short\n",
    "                        leftover_qty = qty - position\n",
    "                        avg_entry_price = price  # new short starts fresh\n",
    "                        position = -leftover_qty\n",
    "                    else:\n",
    "                        position -= qty  # reduce long\n",
    "                        if position == 0:\n",
    "                            avg_entry_price = mid_price  # flatten\n",
    "\n",
    "        # Calculate PnL\n",
    "        if position > 0:\n",
    "            pnl = (mid_price - avg_entry_price) * position\n",
    "        elif position < 0:\n",
    "            pnl = (avg_entry_price - mid_price) * abs(position)\n",
    "        else:\n",
    "            pnl = 0\n",
    "\n",
    "        pnl += prev_pnl\n",
    "\n",
    "        pnls.append(pnl)\n",
    "        dcas.append(avg_entry_price)\n",
    "        timestamps.append(time)\n",
    "        positions.append(position)\n",
    "\n",
    "        if time % 1e6 == 0:\n",
    "            prev_pnl = pnl\n",
    "            position = 0\n",
    "            avg_entry_price = mid_price\n",
    "\n",
    "    return pnls, timestamps, positions, dcas\n",
    "\n"
   ]
  },
  {
   "cell_type": "code",
   "execution_count": 66,
   "metadata": {},
   "outputs": [],
   "source": [
    "import numpy as np\n",
    "import matplotlib.pyplot as plt\n",
    "\n",
    "def plot_trader_dca_signals(trader, product, trades, prices):\n",
    "    # backtest gives us PnL, timestamps, positions, dcas\n",
    "    pnls, timestamps, positions, dcas = backtest_trader(trader, product, trades, prices)\n",
    "\n",
    "    # extract buys/sells for arrow overlays\n",
    "    trader_df = trades[(trades['buyer']==trader) | (trades['seller']==trader)]\n",
    "    tdf = trader_df[trader_df['symbol']==product]\n",
    "    buy_df  = tdf[tdf['buyer']==trader]\n",
    "    sell_df = tdf[tdf['seller']==trader]\n",
    "\n",
    "    price_df = prices[prices['product']==product]\n",
    "\n",
    "    fig, (ax0, ax1) = plt.subplots(2,1,sharex=True, figsize=(14,10), gridspec_kw={'height_ratios':[2,1]})\n",
    "\n",
    "    # --- panel 0: DCA vs Mid Price + long/short shading + signals ---\n",
    "    # shading\n",
    "    ts = np.array(timestamps)\n",
    "    pos = np.array(positions)\n",
    "    ymin, ymax = price_df['mid_price'].min()*0.9, price_df['mid_price'].max()*1.1\n",
    "\n",
    "    ax0.fill_between(ts, ymin, ymax, where=pos>0, facecolor='green',  alpha=0.1, label='Long Region')\n",
    "    ax0.fill_between(ts, ymin, ymax, where=pos<0, facecolor='red',    alpha=0.1, label='Short Region')\n",
    "\n",
    "    # mid price\n",
    "    ax0.plot(price_df['timestamp'], price_df['mid_price'],\n",
    "             c='purple', linewidth=1, alpha=0.7, label='Mid Price')\n",
    "\n",
    "    # DCA\n",
    "    ax0.plot(timestamps, dcas,\n",
    "             c='orange', linewidth=2, label='Dollar Cost Avg')\n",
    "\n",
    "    # buy/sell arrows\n",
    "    # up-arrows for buys\n",
    "    ax0.scatter(\n",
    "        buy_df['timestamp'], buy_df['price'],\n",
    "        marker='^', s=30, c='green', alpha=0.6, label='Buy Signal'\n",
    "    )\n",
    "    # down-arrows for sells\n",
    "    ax0.scatter(\n",
    "        sell_df['timestamp'], sell_df['price'],\n",
    "        marker='v', s=30, c='red', alpha=0.6, label='Sell Signal'\n",
    "    )\n",
    "\n",
    "    ax0.set_title(f\"{trader} DCA vs Mid Price & Signals for {product}\")\n",
    "    ax0.set_ylabel(\"Price\")\n",
    "    ax0.legend(loc='upper left')\n",
    "    ax0.grid(True)\n",
    "\n",
    "    # --- panel 1: PnL & Position Size ---\n",
    "    ax1.plot(timestamps, pnls,\n",
    "             c='blue', linewidth=1, label='PnL')\n",
    "    ax1.set_ylabel(\"PnL\", color='blue')\n",
    "    ax1.grid(True)\n",
    "\n",
    "    ax2 = ax1.twinx()\n",
    "    ax2.plot(timestamps, positions,\n",
    "             c='red', linewidth=1, alpha=0.7, label='Position Size')\n",
    "    ax2.set_ylabel(\"Position Size\", color='red')\n",
    "\n",
    "    ax1.set_title(f\"{trader} PnL & Position for {product}\")\n",
    "    ax1.set_xlabel(\"Timestamp\")\n",
    "\n",
    "    # merge legends\n",
    "    lines, labels = ax1.get_legend_handles_labels()\n",
    "    lines2, labels2 = ax2.get_legend_handles_labels()\n",
    "    ax1.legend(lines+lines2, labels+labels2, loc='upper left')\n",
    "\n",
    "    plt.tight_layout()\n",
    "    os.makedirs(f\"product_plots/{product}\", exist_ok=True)\n",
    "    plt.savefig(f\"product_plots/{product}/{trader}.png\")\n",
    "    plt.close()"
   ]
  },
  {
   "cell_type": "code",
   "execution_count": 85,
   "metadata": {},
   "outputs": [
    {
     "data": {
      "application/vnd.jupyter.widget-view+json": {
       "model_id": "41197577bd4d49d394bdcc45e020ca9a",
       "version_major": 2,
       "version_minor": 0
      },
      "text/plain": [
       "Generating:   0%|          | 0/11 [00:00<?, ?it/s]"
      ]
     },
     "metadata": {},
     "output_type": "display_data"
    },
    {
     "data": {
      "application/vnd.jupyter.widget-view+json": {
       "model_id": "3dbed517cfa948daa438c70c89259ab9",
       "version_major": 2,
       "version_minor": 0
      },
      "text/plain": [
       "    Pablo:   0%|          | 0/11 [00:00<?, ?it/s]"
      ]
     },
     "metadata": {},
     "output_type": "display_data"
    },
    {
     "data": {
      "application/vnd.jupyter.widget-view+json": {
       "model_id": "f1c456ba8b7e481ea6aee286d2f0b37c",
       "version_major": 2,
       "version_minor": 0
      },
      "text/plain": [
       "        PICNIC_BASKET2:   0%|          | 0/30000 [00:00<?, ?it/s]"
      ]
     },
     "metadata": {},
     "output_type": "display_data"
    },
    {
     "data": {
      "application/vnd.jupyter.widget-view+json": {
       "model_id": "31cb350824884c3693b9812347b7640c",
       "version_major": 2,
       "version_minor": 0
      },
      "text/plain": [
       "        VOLCANIC_ROCK_VOUCHER_10000:   0%|          | 0/30000 [00:00<?, ?it/s]"
      ]
     },
     "metadata": {},
     "output_type": "display_data"
    },
    {
     "data": {
      "application/vnd.jupyter.widget-view+json": {
       "model_id": "06b58d65884f48b79206d2ad417d3c35",
       "version_major": 2,
       "version_minor": 0
      },
      "text/plain": [
       "        VOLCANIC_ROCK_VOUCHER_10500:   0%|          | 0/30000 [00:00<?, ?it/s]"
      ]
     },
     "metadata": {},
     "output_type": "display_data"
    },
    {
     "data": {
      "application/vnd.jupyter.widget-view+json": {
       "model_id": "6f7b352b48074112bec9cc4b95cfadba",
       "version_major": 2,
       "version_minor": 0
      },
      "text/plain": [
       "        RAINFOREST_RESIN:   0%|          | 0/30000 [00:00<?, ?it/s]"
      ]
     },
     "metadata": {},
     "output_type": "display_data"
    },
    {
     "data": {
      "application/vnd.jupyter.widget-view+json": {
       "model_id": "8a000b281ee0435d84bb3e45a4d75637",
       "version_major": 2,
       "version_minor": 0
      },
      "text/plain": [
       "        KELP:   0%|          | 0/30000 [00:00<?, ?it/s]"
      ]
     },
     "metadata": {},
     "output_type": "display_data"
    },
    {
     "data": {
      "application/vnd.jupyter.widget-view+json": {
       "model_id": "eff386b4ac624e88bc5fec2618af9e72",
       "version_major": 2,
       "version_minor": 0
      },
      "text/plain": [
       "        PICNIC_BASKET1:   0%|          | 0/30000 [00:00<?, ?it/s]"
      ]
     },
     "metadata": {},
     "output_type": "display_data"
    },
    {
     "data": {
      "application/vnd.jupyter.widget-view+json": {
       "model_id": "982cc12a736240cc8784d736de456407",
       "version_major": 2,
       "version_minor": 0
      },
      "text/plain": [
       "        SQUID_INK:   0%|          | 0/30000 [00:00<?, ?it/s]"
      ]
     },
     "metadata": {},
     "output_type": "display_data"
    },
    {
     "data": {
      "application/vnd.jupyter.widget-view+json": {
       "model_id": "3a5e6698b587413ebc01d88527f7b6fb",
       "version_major": 2,
       "version_minor": 0
      },
      "text/plain": [
       "        VOLCANIC_ROCK:   0%|          | 0/30000 [00:00<?, ?it/s]"
      ]
     },
     "metadata": {},
     "output_type": "display_data"
    },
    {
     "data": {
      "application/vnd.jupyter.widget-view+json": {
       "model_id": "1acca1cc641c41a58bb115875c4b3f6b",
       "version_major": 2,
       "version_minor": 0
      },
      "text/plain": [
       "        VOLCANIC_ROCK_VOUCHER_9500:   0%|          | 0/30000 [00:00<?, ?it/s]"
      ]
     },
     "metadata": {},
     "output_type": "display_data"
    },
    {
     "data": {
      "application/vnd.jupyter.widget-view+json": {
       "model_id": "7ec2bab290bd44fda7527401e6416554",
       "version_major": 2,
       "version_minor": 0
      },
      "text/plain": [
       "        VOLCANIC_ROCK_VOUCHER_9750:   0%|          | 0/30000 [00:00<?, ?it/s]"
      ]
     },
     "metadata": {},
     "output_type": "display_data"
    },
    {
     "data": {
      "application/vnd.jupyter.widget-view+json": {
       "model_id": "f4d32b20809a4db6934121d31b3fb702",
       "version_major": 2,
       "version_minor": 0
      },
      "text/plain": [
       "        VOLCANIC_ROCK_VOUCHER_10250:   0%|          | 0/30000 [00:00<?, ?it/s]"
      ]
     },
     "metadata": {},
     "output_type": "display_data"
    },
    {
     "data": {
      "application/vnd.jupyter.widget-view+json": {
       "model_id": "3ed844fd3f9d420c906ba62f04d7010d",
       "version_major": 2,
       "version_minor": 0
      },
      "text/plain": [
       "    Paris:   0%|          | 0/7 [00:00<?, ?it/s]"
      ]
     },
     "metadata": {},
     "output_type": "display_data"
    },
    {
     "data": {
      "application/vnd.jupyter.widget-view+json": {
       "model_id": "946bd7afdb0841709d44042391a2e068",
       "version_major": 2,
       "version_minor": 0
      },
      "text/plain": [
       "        CROISSANTS:   0%|          | 0/30000 [00:00<?, ?it/s]"
      ]
     },
     "metadata": {},
     "output_type": "display_data"
    },
    {
     "data": {
      "application/vnd.jupyter.widget-view+json": {
       "model_id": "c5cc772ce7ab487eac52f9fdce216da8",
       "version_major": 2,
       "version_minor": 0
      },
      "text/plain": [
       "        SQUID_INK:   0%|          | 0/30000 [00:00<?, ?it/s]"
      ]
     },
     "metadata": {},
     "output_type": "display_data"
    },
    {
     "data": {
      "application/vnd.jupyter.widget-view+json": {
       "model_id": "5b3bf3faaf534d089f8f3b30269287ae",
       "version_major": 2,
       "version_minor": 0
      },
      "text/plain": [
       "        MAGNIFICENT_MACARONS:   0%|          | 0/30000 [00:00<?, ?it/s]"
      ]
     },
     "metadata": {},
     "output_type": "display_data"
    },
    {
     "data": {
      "application/vnd.jupyter.widget-view+json": {
       "model_id": "d354e8177a354ee8bd011dd7e43451d2",
       "version_major": 2,
       "version_minor": 0
      },
      "text/plain": [
       "        DJEMBES:   0%|          | 0/30000 [00:00<?, ?it/s]"
      ]
     },
     "metadata": {},
     "output_type": "display_data"
    },
    {
     "data": {
      "application/vnd.jupyter.widget-view+json": {
       "model_id": "1a9dc88ab1e74ffcb13a9554746267ca",
       "version_major": 2,
       "version_minor": 0
      },
      "text/plain": [
       "        RAINFOREST_RESIN:   0%|          | 0/30000 [00:00<?, ?it/s]"
      ]
     },
     "metadata": {},
     "output_type": "display_data"
    },
    {
     "data": {
      "application/vnd.jupyter.widget-view+json": {
       "model_id": "3a59155322394b04b989d8c2de3ff14f",
       "version_major": 2,
       "version_minor": 0
      },
      "text/plain": [
       "        JAMS:   0%|          | 0/30000 [00:00<?, ?it/s]"
      ]
     },
     "metadata": {},
     "output_type": "display_data"
    },
    {
     "data": {
      "application/vnd.jupyter.widget-view+json": {
       "model_id": "cb90e6fcaaf54431b82ba7b6537cbcf2",
       "version_major": 2,
       "version_minor": 0
      },
      "text/plain": [
       "        KELP:   0%|          | 0/30000 [00:00<?, ?it/s]"
      ]
     },
     "metadata": {},
     "output_type": "display_data"
    },
    {
     "data": {
      "application/vnd.jupyter.widget-view+json": {
       "model_id": "a163c248aa104f5088b9f77b60f05460",
       "version_major": 2,
       "version_minor": 0
      },
      "text/plain": [
       "    Olivia:   0%|          | 0/3 [00:00<?, ?it/s]"
      ]
     },
     "metadata": {},
     "output_type": "display_data"
    },
    {
     "data": {
      "application/vnd.jupyter.widget-view+json": {
       "model_id": "7be0e32f5ec14aee87c54f0b7c1886c8",
       "version_major": 2,
       "version_minor": 0
      },
      "text/plain": [
       "        CROISSANTS:   0%|          | 0/30000 [00:00<?, ?it/s]"
      ]
     },
     "metadata": {},
     "output_type": "display_data"
    },
    {
     "data": {
      "application/vnd.jupyter.widget-view+json": {
       "model_id": "99e02e0b24c54310b0ed6b48ad4297dd",
       "version_major": 2,
       "version_minor": 0
      },
      "text/plain": [
       "        SQUID_INK:   0%|          | 0/30000 [00:00<?, ?it/s]"
      ]
     },
     "metadata": {},
     "output_type": "display_data"
    },
    {
     "data": {
      "application/vnd.jupyter.widget-view+json": {
       "model_id": "8da10a1ba707404fa152b3d4c023ac1f",
       "version_major": 2,
       "version_minor": 0
      },
      "text/plain": [
       "        KELP:   0%|          | 0/30000 [00:00<?, ?it/s]"
      ]
     },
     "metadata": {},
     "output_type": "display_data"
    },
    {
     "data": {
      "application/vnd.jupyter.widget-view+json": {
       "model_id": "63c5ec7f06c445979a4abf01cb985629",
       "version_major": 2,
       "version_minor": 0
      },
      "text/plain": [
       "    Caesar:   0%|          | 0/15 [00:00<?, ?it/s]"
      ]
     },
     "metadata": {},
     "output_type": "display_data"
    },
    {
     "data": {
      "application/vnd.jupyter.widget-view+json": {
       "model_id": "0fa37e79a857466fab85d68388918706",
       "version_major": 2,
       "version_minor": 0
      },
      "text/plain": [
       "        CROISSANTS:   0%|          | 0/30000 [00:00<?, ?it/s]"
      ]
     },
     "metadata": {},
     "output_type": "display_data"
    },
    {
     "data": {
      "application/vnd.jupyter.widget-view+json": {
       "model_id": "f2cfaa8b4109440092ed283dc79d0257",
       "version_major": 2,
       "version_minor": 0
      },
      "text/plain": [
       "        MAGNIFICENT_MACARONS:   0%|          | 0/30000 [00:00<?, ?it/s]"
      ]
     },
     "metadata": {},
     "output_type": "display_data"
    },
    {
     "data": {
      "application/vnd.jupyter.widget-view+json": {
       "model_id": "a3594fcd17dd4576b14bd2b914b9b0f3",
       "version_major": 2,
       "version_minor": 0
      },
      "text/plain": [
       "        DJEMBES:   0%|          | 0/30000 [00:00<?, ?it/s]"
      ]
     },
     "metadata": {},
     "output_type": "display_data"
    },
    {
     "data": {
      "application/vnd.jupyter.widget-view+json": {
       "model_id": "0c8a27a9f79e4377a857f2864f9d4370",
       "version_major": 2,
       "version_minor": 0
      },
      "text/plain": [
       "        VOLCANIC_ROCK_VOUCHER_10000:   0%|          | 0/30000 [00:00<?, ?it/s]"
      ]
     },
     "metadata": {},
     "output_type": "display_data"
    },
    {
     "data": {
      "application/vnd.jupyter.widget-view+json": {
       "model_id": "d6e90bfb21574b86bd54f3f60852ffe9",
       "version_major": 2,
       "version_minor": 0
      },
      "text/plain": [
       "        VOLCANIC_ROCK_VOUCHER_10500:   0%|          | 0/30000 [00:00<?, ?it/s]"
      ]
     },
     "metadata": {},
     "output_type": "display_data"
    },
    {
     "data": {
      "application/vnd.jupyter.widget-view+json": {
       "model_id": "4f82bc4f20c24d448b46b8c8830af5a2",
       "version_major": 2,
       "version_minor": 0
      },
      "text/plain": [
       "        PICNIC_BASKET2:   0%|          | 0/30000 [00:00<?, ?it/s]"
      ]
     },
     "metadata": {},
     "output_type": "display_data"
    },
    {
     "data": {
      "application/vnd.jupyter.widget-view+json": {
       "model_id": "471ef7e454694fb5b4f55982a8c99d71",
       "version_major": 2,
       "version_minor": 0
      },
      "text/plain": [
       "        JAMS:   0%|          | 0/30000 [00:00<?, ?it/s]"
      ]
     },
     "metadata": {},
     "output_type": "display_data"
    },
    {
     "data": {
      "application/vnd.jupyter.widget-view+json": {
       "model_id": "66fdbe332aca4439bf48c0b70f76b5fb",
       "version_major": 2,
       "version_minor": 0
      },
      "text/plain": [
       "        RAINFOREST_RESIN:   0%|          | 0/30000 [00:00<?, ?it/s]"
      ]
     },
     "metadata": {},
     "output_type": "display_data"
    },
    {
     "data": {
      "application/vnd.jupyter.widget-view+json": {
       "model_id": "7869d8e3a785494c9021eb6960f1f5b8",
       "version_major": 2,
       "version_minor": 0
      },
      "text/plain": [
       "        KELP:   0%|          | 0/30000 [00:00<?, ?it/s]"
      ]
     },
     "metadata": {},
     "output_type": "display_data"
    },
    {
     "data": {
      "application/vnd.jupyter.widget-view+json": {
       "model_id": "a21fab3609094e2086f0f49fd46d41e8",
       "version_major": 2,
       "version_minor": 0
      },
      "text/plain": [
       "        PICNIC_BASKET1:   0%|          | 0/30000 [00:00<?, ?it/s]"
      ]
     },
     "metadata": {},
     "output_type": "display_data"
    },
    {
     "data": {
      "application/vnd.jupyter.widget-view+json": {
       "model_id": "5699c88c7c1d4e7690c197d0570036c4",
       "version_major": 2,
       "version_minor": 0
      },
      "text/plain": [
       "        SQUID_INK:   0%|          | 0/30000 [00:00<?, ?it/s]"
      ]
     },
     "metadata": {},
     "output_type": "display_data"
    },
    {
     "data": {
      "application/vnd.jupyter.widget-view+json": {
       "model_id": "0b039ed742754ace98ab4a08f9a33649",
       "version_major": 2,
       "version_minor": 0
      },
      "text/plain": [
       "        VOLCANIC_ROCK_VOUCHER_9500:   0%|          | 0/30000 [00:00<?, ?it/s]"
      ]
     },
     "metadata": {},
     "output_type": "display_data"
    },
    {
     "data": {
      "application/vnd.jupyter.widget-view+json": {
       "model_id": "e8b2fce3d5584cdaa83804ed5a0dfce3",
       "version_major": 2,
       "version_minor": 0
      },
      "text/plain": [
       "        VOLCANIC_ROCK:   0%|          | 0/30000 [00:00<?, ?it/s]"
      ]
     },
     "metadata": {},
     "output_type": "display_data"
    },
    {
     "data": {
      "application/vnd.jupyter.widget-view+json": {
       "model_id": "c13d49f892604d5bb80b8b99d3c6abfa",
       "version_major": 2,
       "version_minor": 0
      },
      "text/plain": [
       "        VOLCANIC_ROCK_VOUCHER_9750:   0%|          | 0/30000 [00:00<?, ?it/s]"
      ]
     },
     "metadata": {},
     "output_type": "display_data"
    },
    {
     "data": {
      "application/vnd.jupyter.widget-view+json": {
       "model_id": "3fc859443ad346a0ad24018781feb04a",
       "version_major": 2,
       "version_minor": 0
      },
      "text/plain": [
       "        VOLCANIC_ROCK_VOUCHER_10250:   0%|          | 0/30000 [00:00<?, ?it/s]"
      ]
     },
     "metadata": {},
     "output_type": "display_data"
    },
    {
     "data": {
      "application/vnd.jupyter.widget-view+json": {
       "model_id": "acd39eae46234e69a05de834b3cb97f6",
       "version_major": 2,
       "version_minor": 0
      },
      "text/plain": [
       "    Olga:   0%|          | 0/1 [00:00<?, ?it/s]"
      ]
     },
     "metadata": {},
     "output_type": "display_data"
    },
    {
     "data": {
      "application/vnd.jupyter.widget-view+json": {
       "model_id": "f3bb472ca7ee445daef69cc921de5ac4",
       "version_major": 2,
       "version_minor": 0
      },
      "text/plain": [
       "        KELP:   0%|          | 0/30000 [00:00<?, ?it/s]"
      ]
     },
     "metadata": {},
     "output_type": "display_data"
    },
    {
     "data": {
      "application/vnd.jupyter.widget-view+json": {
       "model_id": "f367538af08849efbad56e1cb0223856",
       "version_major": 2,
       "version_minor": 0
      },
      "text/plain": [
       "    Penelope:   0%|          | 0/10 [00:00<?, ?it/s]"
      ]
     },
     "metadata": {},
     "output_type": "display_data"
    },
    {
     "data": {
      "application/vnd.jupyter.widget-view+json": {
       "model_id": "cc6baec100534f1e92696206ee6bde55",
       "version_major": 2,
       "version_minor": 0
      },
      "text/plain": [
       "        PICNIC_BASKET2:   0%|          | 0/30000 [00:00<?, ?it/s]"
      ]
     },
     "metadata": {},
     "output_type": "display_data"
    },
    {
     "data": {
      "application/vnd.jupyter.widget-view+json": {
       "model_id": "644b0a91ff1c42f1a38a13aeaee46772",
       "version_major": 2,
       "version_minor": 0
      },
      "text/plain": [
       "        VOLCANIC_ROCK_VOUCHER_10000:   0%|          | 0/30000 [00:00<?, ?it/s]"
      ]
     },
     "metadata": {},
     "output_type": "display_data"
    },
    {
     "data": {
      "application/vnd.jupyter.widget-view+json": {
       "model_id": "1acc8ee6f2064bc79a3521689c6e5dd1",
       "version_major": 2,
       "version_minor": 0
      },
      "text/plain": [
       "        VOLCANIC_ROCK_VOUCHER_10500:   0%|          | 0/30000 [00:00<?, ?it/s]"
      ]
     },
     "metadata": {},
     "output_type": "display_data"
    },
    {
     "data": {
      "application/vnd.jupyter.widget-view+json": {
       "model_id": "932ebedee8964b5ea71ae7ab1ceaf642",
       "version_major": 2,
       "version_minor": 0
      },
      "text/plain": [
       "        RAINFOREST_RESIN:   0%|          | 0/30000 [00:00<?, ?it/s]"
      ]
     },
     "metadata": {},
     "output_type": "display_data"
    },
    {
     "data": {
      "application/vnd.jupyter.widget-view+json": {
       "model_id": "c29a6bc17f4d4996b5551c310b20a88c",
       "version_major": 2,
       "version_minor": 0
      },
      "text/plain": [
       "        KELP:   0%|          | 0/30000 [00:00<?, ?it/s]"
      ]
     },
     "metadata": {},
     "output_type": "display_data"
    },
    {
     "data": {
      "application/vnd.jupyter.widget-view+json": {
       "model_id": "a538d1afb23d4643acdb5707273ee0c0",
       "version_major": 2,
       "version_minor": 0
      },
      "text/plain": [
       "        PICNIC_BASKET1:   0%|          | 0/30000 [00:00<?, ?it/s]"
      ]
     },
     "metadata": {},
     "output_type": "display_data"
    },
    {
     "data": {
      "application/vnd.jupyter.widget-view+json": {
       "model_id": "cda0368233cf40a69b3612827d2f1742",
       "version_major": 2,
       "version_minor": 0
      },
      "text/plain": [
       "        SQUID_INK:   0%|          | 0/30000 [00:00<?, ?it/s]"
      ]
     },
     "metadata": {},
     "output_type": "display_data"
    },
    {
     "data": {
      "application/vnd.jupyter.widget-view+json": {
       "model_id": "d66e2f88c49d4e62a260c3691b0014f0",
       "version_major": 2,
       "version_minor": 0
      },
      "text/plain": [
       "        VOLCANIC_ROCK_VOUCHER_9500:   0%|          | 0/30000 [00:00<?, ?it/s]"
      ]
     },
     "metadata": {},
     "output_type": "display_data"
    },
    {
     "data": {
      "application/vnd.jupyter.widget-view+json": {
       "model_id": "de857f79ed8c4341bc97d60f15e409bf",
       "version_major": 2,
       "version_minor": 0
      },
      "text/plain": [
       "        VOLCANIC_ROCK_VOUCHER_9750:   0%|          | 0/30000 [00:00<?, ?it/s]"
      ]
     },
     "metadata": {},
     "output_type": "display_data"
    },
    {
     "data": {
      "application/vnd.jupyter.widget-view+json": {
       "model_id": "4487d4ba5712480485728f769ef24971",
       "version_major": 2,
       "version_minor": 0
      },
      "text/plain": [
       "        VOLCANIC_ROCK_VOUCHER_10250:   0%|          | 0/30000 [00:00<?, ?it/s]"
      ]
     },
     "metadata": {},
     "output_type": "display_data"
    },
    {
     "data": {
      "application/vnd.jupyter.widget-view+json": {
       "model_id": "647be9cb860242908c1886c083811c80",
       "version_major": 2,
       "version_minor": 0
      },
      "text/plain": [
       "    Peter:   0%|          | 0/1 [00:00<?, ?it/s]"
      ]
     },
     "metadata": {},
     "output_type": "display_data"
    },
    {
     "data": {
      "application/vnd.jupyter.widget-view+json": {
       "model_id": "387cca3d80c04a1ca9a30fe0a17adfb6",
       "version_major": 2,
       "version_minor": 0
      },
      "text/plain": [
       "        VOLCANIC_ROCK:   0%|          | 0/30000 [00:00<?, ?it/s]"
      ]
     },
     "metadata": {},
     "output_type": "display_data"
    },
    {
     "data": {
      "application/vnd.jupyter.widget-view+json": {
       "model_id": "14a6f2dd1ff041079273259462e9849b",
       "version_major": 2,
       "version_minor": 0
      },
      "text/plain": [
       "    Gary:   0%|          | 0/3 [00:00<?, ?it/s]"
      ]
     },
     "metadata": {},
     "output_type": "display_data"
    },
    {
     "data": {
      "application/vnd.jupyter.widget-view+json": {
       "model_id": "1c4f2c1750154d37a5c491a4ea355467",
       "version_major": 2,
       "version_minor": 0
      },
      "text/plain": [
       "        SQUID_INK:   0%|          | 0/30000 [00:00<?, ?it/s]"
      ]
     },
     "metadata": {},
     "output_type": "display_data"
    },
    {
     "data": {
      "application/vnd.jupyter.widget-view+json": {
       "model_id": "33080682cc0944d1aba0204ccb40417a",
       "version_major": 2,
       "version_minor": 0
      },
      "text/plain": [
       "        RAINFOREST_RESIN:   0%|          | 0/30000 [00:00<?, ?it/s]"
      ]
     },
     "metadata": {},
     "output_type": "display_data"
    },
    {
     "data": {
      "application/vnd.jupyter.widget-view+json": {
       "model_id": "092ef929d840426b9ebbd4371326b545",
       "version_major": 2,
       "version_minor": 0
      },
      "text/plain": [
       "        KELP:   0%|          | 0/30000 [00:00<?, ?it/s]"
      ]
     },
     "metadata": {},
     "output_type": "display_data"
    },
    {
     "data": {
      "application/vnd.jupyter.widget-view+json": {
       "model_id": "64c2a788106b4a1da5c412da7dfbecb7",
       "version_major": 2,
       "version_minor": 0
      },
      "text/plain": [
       "    Charlie:   0%|          | 0/6 [00:00<?, ?it/s]"
      ]
     },
     "metadata": {},
     "output_type": "display_data"
    },
    {
     "data": {
      "application/vnd.jupyter.widget-view+json": {
       "model_id": "d7dcd096e0fb445ca50f6f1f55fe8447",
       "version_major": 2,
       "version_minor": 0
      },
      "text/plain": [
       "        PICNIC_BASKET1:   0%|          | 0/30000 [00:00<?, ?it/s]"
      ]
     },
     "metadata": {},
     "output_type": "display_data"
    },
    {
     "data": {
      "application/vnd.jupyter.widget-view+json": {
       "model_id": "1aaa1fba88b44c5ca61f6019bd98a811",
       "version_major": 2,
       "version_minor": 0
      },
      "text/plain": [
       "        SQUID_INK:   0%|          | 0/30000 [00:00<?, ?it/s]"
      ]
     },
     "metadata": {},
     "output_type": "display_data"
    },
    {
     "data": {
      "application/vnd.jupyter.widget-view+json": {
       "model_id": "1d8f2f2c19d44d029349c57e43a34adb",
       "version_major": 2,
       "version_minor": 0
      },
      "text/plain": [
       "        MAGNIFICENT_MACARONS:   0%|          | 0/30000 [00:00<?, ?it/s]"
      ]
     },
     "metadata": {},
     "output_type": "display_data"
    },
    {
     "data": {
      "application/vnd.jupyter.widget-view+json": {
       "model_id": "03ddcd00f1d8478c8c04321181513c18",
       "version_major": 2,
       "version_minor": 0
      },
      "text/plain": [
       "        PICNIC_BASKET2:   0%|          | 0/30000 [00:00<?, ?it/s]"
      ]
     },
     "metadata": {},
     "output_type": "display_data"
    },
    {
     "data": {
      "application/vnd.jupyter.widget-view+json": {
       "model_id": "b10bfedd6acf4625ba009e73c0a70eb2",
       "version_major": 2,
       "version_minor": 0
      },
      "text/plain": [
       "        RAINFOREST_RESIN:   0%|          | 0/30000 [00:00<?, ?it/s]"
      ]
     },
     "metadata": {},
     "output_type": "display_data"
    },
    {
     "data": {
      "application/vnd.jupyter.widget-view+json": {
       "model_id": "8c58c997554e4398b6473ddfabbf8bed",
       "version_major": 2,
       "version_minor": 0
      },
      "text/plain": [
       "        KELP:   0%|          | 0/30000 [00:00<?, ?it/s]"
      ]
     },
     "metadata": {},
     "output_type": "display_data"
    },
    {
     "data": {
      "application/vnd.jupyter.widget-view+json": {
       "model_id": "377f4dd93398408b90fbb3ab07be5e14",
       "version_major": 2,
       "version_minor": 0
      },
      "text/plain": [
       "    Camilla:   0%|          | 0/14 [00:00<?, ?it/s]"
      ]
     },
     "metadata": {},
     "output_type": "display_data"
    },
    {
     "data": {
      "application/vnd.jupyter.widget-view+json": {
       "model_id": "6607fc94f3a14703b83624b1776ba347",
       "version_major": 2,
       "version_minor": 0
      },
      "text/plain": [
       "        CROISSANTS:   0%|          | 0/30000 [00:00<?, ?it/s]"
      ]
     },
     "metadata": {},
     "output_type": "display_data"
    },
    {
     "data": {
      "application/vnd.jupyter.widget-view+json": {
       "model_id": "3696887526494f419ff8a05cc99230f1",
       "version_major": 2,
       "version_minor": 0
      },
      "text/plain": [
       "        MAGNIFICENT_MACARONS:   0%|          | 0/30000 [00:00<?, ?it/s]"
      ]
     },
     "metadata": {},
     "output_type": "display_data"
    },
    {
     "data": {
      "application/vnd.jupyter.widget-view+json": {
       "model_id": "07fe5735ed17477496864a06d7bf0aa4",
       "version_major": 2,
       "version_minor": 0
      },
      "text/plain": [
       "        PICNIC_BASKET2:   0%|          | 0/30000 [00:00<?, ?it/s]"
      ]
     },
     "metadata": {},
     "output_type": "display_data"
    },
    {
     "data": {
      "application/vnd.jupyter.widget-view+json": {
       "model_id": "207db43fb1934d17bfba0ec97ae8e885",
       "version_major": 2,
       "version_minor": 0
      },
      "text/plain": [
       "        VOLCANIC_ROCK_VOUCHER_10000:   0%|          | 0/30000 [00:00<?, ?it/s]"
      ]
     },
     "metadata": {},
     "output_type": "display_data"
    },
    {
     "data": {
      "application/vnd.jupyter.widget-view+json": {
       "model_id": "323d2b88fc064a0a8fbddf8411fff6c7",
       "version_major": 2,
       "version_minor": 0
      },
      "text/plain": [
       "        VOLCANIC_ROCK_VOUCHER_10500:   0%|          | 0/30000 [00:00<?, ?it/s]"
      ]
     },
     "metadata": {},
     "output_type": "display_data"
    },
    {
     "data": {
      "application/vnd.jupyter.widget-view+json": {
       "model_id": "5fe5d533a5a544a680e3480455871e30",
       "version_major": 2,
       "version_minor": 0
      },
      "text/plain": [
       "        DJEMBES:   0%|          | 0/30000 [00:00<?, ?it/s]"
      ]
     },
     "metadata": {},
     "output_type": "display_data"
    },
    {
     "data": {
      "application/vnd.jupyter.widget-view+json": {
       "model_id": "2c79059a5ef74697817b7ba1e4c09b67",
       "version_major": 2,
       "version_minor": 0
      },
      "text/plain": [
       "        VOLCANIC_ROCK_VOUCHER_10250:   0%|          | 0/30000 [00:00<?, ?it/s]"
      ]
     },
     "metadata": {},
     "output_type": "display_data"
    },
    {
     "data": {
      "application/vnd.jupyter.widget-view+json": {
       "model_id": "6872235c92ef4aea984d41b56a3a54eb",
       "version_major": 2,
       "version_minor": 0
      },
      "text/plain": [
       "        RAINFOREST_RESIN:   0%|          | 0/30000 [00:00<?, ?it/s]"
      ]
     },
     "metadata": {},
     "output_type": "display_data"
    },
    {
     "data": {
      "application/vnd.jupyter.widget-view+json": {
       "model_id": "eae71040256545f09fff4baef6d97262",
       "version_major": 2,
       "version_minor": 0
      },
      "text/plain": [
       "        KELP:   0%|          | 0/30000 [00:00<?, ?it/s]"
      ]
     },
     "metadata": {},
     "output_type": "display_data"
    },
    {
     "data": {
      "application/vnd.jupyter.widget-view+json": {
       "model_id": "7ba910dcecac467fada6121d57506920",
       "version_major": 2,
       "version_minor": 0
      },
      "text/plain": [
       "        PICNIC_BASKET1:   0%|          | 0/30000 [00:00<?, ?it/s]"
      ]
     },
     "metadata": {},
     "output_type": "display_data"
    },
    {
     "data": {
      "application/vnd.jupyter.widget-view+json": {
       "model_id": "515108172d5743f0b962fcb457428680",
       "version_major": 2,
       "version_minor": 0
      },
      "text/plain": [
       "        SQUID_INK:   0%|          | 0/30000 [00:00<?, ?it/s]"
      ]
     },
     "metadata": {},
     "output_type": "display_data"
    },
    {
     "data": {
      "application/vnd.jupyter.widget-view+json": {
       "model_id": "99cac02b0e374f4898d27bd93ec4c4b9",
       "version_major": 2,
       "version_minor": 0
      },
      "text/plain": [
       "        VOLCANIC_ROCK_VOUCHER_9500:   0%|          | 0/30000 [00:00<?, ?it/s]"
      ]
     },
     "metadata": {},
     "output_type": "display_data"
    },
    {
     "data": {
      "application/vnd.jupyter.widget-view+json": {
       "model_id": "7eef773bdb3f4af1b93fdc11ca947592",
       "version_major": 2,
       "version_minor": 0
      },
      "text/plain": [
       "        VOLCANIC_ROCK_VOUCHER_9750:   0%|          | 0/30000 [00:00<?, ?it/s]"
      ]
     },
     "metadata": {},
     "output_type": "display_data"
    },
    {
     "data": {
      "application/vnd.jupyter.widget-view+json": {
       "model_id": "d8beabb7aa7c44e0a7f4d7280e47c17f",
       "version_major": 2,
       "version_minor": 0
      },
      "text/plain": [
       "        JAMS:   0%|          | 0/30000 [00:00<?, ?it/s]"
      ]
     },
     "metadata": {},
     "output_type": "display_data"
    },
    {
     "data": {
      "application/vnd.jupyter.widget-view+json": {
       "model_id": "dd12df340209403fb72844667c1d94f3",
       "version_major": 2,
       "version_minor": 0
      },
      "text/plain": [
       "    Gina:   0%|          | 0/3 [00:00<?, ?it/s]"
      ]
     },
     "metadata": {},
     "output_type": "display_data"
    },
    {
     "data": {
      "application/vnd.jupyter.widget-view+json": {
       "model_id": "2526ad6df6124e7f86557a29d853df1a",
       "version_major": 2,
       "version_minor": 0
      },
      "text/plain": [
       "        SQUID_INK:   0%|          | 0/30000 [00:00<?, ?it/s]"
      ]
     },
     "metadata": {},
     "output_type": "display_data"
    },
    {
     "data": {
      "application/vnd.jupyter.widget-view+json": {
       "model_id": "076e7d38f1154d29a6fb86d272a890a4",
       "version_major": 2,
       "version_minor": 0
      },
      "text/plain": [
       "        RAINFOREST_RESIN:   0%|          | 0/30000 [00:00<?, ?it/s]"
      ]
     },
     "metadata": {},
     "output_type": "display_data"
    },
    {
     "data": {
      "application/vnd.jupyter.widget-view+json": {
       "model_id": "e7a5d279ce114b80a94ec0a960459a43",
       "version_major": 2,
       "version_minor": 0
      },
      "text/plain": [
       "        KELP:   0%|          | 0/30000 [00:00<?, ?it/s]"
      ]
     },
     "metadata": {},
     "output_type": "display_data"
    }
   ],
   "source": [
    "# Usage:\n",
    "from tqdm.notebook import tqdm\n",
    "for trader in tqdm(buyers_and_sellers, desc=f\"Generating\", position=0):\n",
    "    # when buyer or seller is the trader\n",
    "    sell_trades_df = trades[(trades['buyer'] == trader)]\n",
    "    buy_trades_df = trades[(trades['seller'] == trader)]\n",
    "\n",
    "    products = set.union(set(sell_trades_df['symbol'].unique()), set(buy_trades_df['symbol'].unique()))\n",
    "\n",
    "    for product in tqdm(products, desc=f\"    {trader}\", leave=False, position=1):\n",
    "        plot_trader_dca_signals(trader, product, trades, prices)"
   ]
  },
  {
   "cell_type": "markdown",
   "metadata": {},
   "source": [
    "Notes:\n",
    "- Olivia is a signal for tops/bottoms on squid ink, kelp, and croissants"
   ]
  }
 ],
 "metadata": {
  "kernelspec": {
   "display_name": "Python 3",
   "language": "python",
   "name": "python3"
  },
  "language_info": {
   "codemirror_mode": {
    "name": "ipython",
    "version": 3
   },
   "file_extension": ".py",
   "mimetype": "text/x-python",
   "name": "python",
   "nbconvert_exporter": "python",
   "pygments_lexer": "ipython3",
   "version": "3.11.9"
  }
 },
 "nbformat": 4,
 "nbformat_minor": 2
}

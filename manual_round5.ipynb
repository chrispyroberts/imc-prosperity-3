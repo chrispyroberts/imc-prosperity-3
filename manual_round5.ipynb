{
 "cells": [
  {
   "cell_type": "code",
   "execution_count": 2,
   "metadata": {},
   "outputs": [],
   "source": [
    "sentiments = {\n",
    "    \"Haystacks\": -0.03,\n",
    "    \"Ranch sauce\": 0.3,\n",
    "    \"Cacti Needle\": -0.04,\n",
    "    \"Solar panels\": -0.03,\n",
    "    \"Red Flags\": -0.1,\n",
    "    \"VR Monocle\": 0.4,\n",
    "    \"Quantum Coffee\": -0.03,\n",
    "    \"Moonshine\": 0.02,\n",
    "    \"Striped shirts\": 0.5\n",
    "}"
   ]
  },
  {
   "cell_type": "code",
   "execution_count": 6,
   "metadata": {},
   "outputs": [
    {
     "name": "stdout",
     "output_type": "stream",
     "text": [
      "['CLARABEL', 'OSQP', 'SCIP', 'SCIPY', 'SCS']\n",
      "\n",
      "best pnl: 107140.000 seashells\n",
      "optimal allocation:\n",
      "--------------------------------------------------\n",
      "resource             position        allocation\n",
      "--------------------------------------------------\n",
      "Haystacks            Sell            -1.000    %\n",
      "Ranch sauce          Buy             13.000    %\n",
      "Cacti Needle         Sell            -2.000    %\n",
      "Solar panels         Sell            -1.000    %\n",
      "Red Flags            Sell            -4.000    %\n",
      "VR Monocle           Buy             17.000    %\n",
      "Quantum Coffee       Sell            -1.000    %\n",
      "Moonshine            Buy             1.000     %\n",
      "Striped shirts       Buy             21.000    %\n",
      "--------------------------------------------------\n",
      "Total                                61.000    %\n"
     ]
    }
   ],
   "source": [
    "import cvxpy as cp\n",
    "import numpy as np\n",
    "\n",
    "n = len(sentiments)\n",
    "\n",
    "print(cp.installed_solvers())\n",
    "\n",
    "goods = list(sentiments.keys())\n",
    "values = np.array(list(sentiments.values()))\n",
    "\n",
    "pi = cp.Variable(n, integer=True)\n",
    "\n",
    "fee = 120 * cp.sum_squares(pi) # fee = sum(120 * pi_i^2) = 120 * sum(pi_i^2)\n",
    "pnl = (values @ pi) * 10000 # move % dotted with portfolio percentage scaled by the capital\n",
    "\n",
    "objective = cp.Maximize(pnl - fee)\n",
    "constraints = [cp.norm(pi, 1) <= 100] # only constraint is that our portfolio adds up to 100\n",
    "\n",
    "problem = cp.Problem(objective=objective, constraints=constraints)\n",
    "problem.solve(solver=cp.SCIP)\n",
    "\n",
    "total = 0\n",
    "\n",
    "print()\n",
    "print(f\"best pnl: {problem.value:.3f} seashells\")\n",
    "print(\"optimal allocation:\")\n",
    "print(\"-\" * 50)\n",
    "print(f\"{'resource':<20} {'position':<15} {'allocation':<10}\")\n",
    "print(\"-\" * 50)\n",
    "total = 0\n",
    "for i, good in enumerate(goods):\n",
    "    if abs(pi.value[i]) > 0:\n",
    "        position_type = \"Buy\" if pi.value[i] > 0 else \"Sell\"\n",
    "        print(f\"{good:<20} {position_type:<15} {pi.value[i]:<10.3f}%\")\n",
    "        total += abs(pi.value[i])\n",
    "print(\"-\" * 50)\n",
    "print(f\"{'Total':<20} {'':<15} {total:<10.3f}%\")"
   ]
  }
 ],
 "metadata": {
  "kernelspec": {
   "display_name": "Python 3 (ipykernel)",
   "language": "python",
   "name": "python3"
  },
  "language_info": {
   "codemirror_mode": {
    "name": "ipython",
    "version": 3
   },
   "file_extension": ".py",
   "mimetype": "text/x-python",
   "name": "python",
   "nbconvert_exporter": "python",
   "pygments_lexer": "ipython3",
   "version": "3.13.2"
  }
 },
 "nbformat": 4,
 "nbformat_minor": 2
}

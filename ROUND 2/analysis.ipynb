{
 "cells": [
  {
   "cell_type": "code",
   "execution_count": 3,
   "id": "762adaf4",
   "metadata": {},
   "outputs": [],
   "source": [
    "import pandas as pd\n",
    "import numpy as np\n",
    "import matplotlib.pyplot as plt\n",
    "import plotly.graph_objects as go"
   ]
  },
  {
   "cell_type": "code",
   "execution_count": 14,
   "id": "ee1db0ca",
   "metadata": {},
   "outputs": [],
   "source": [
    "prices_1_0 = pd.read_csv(\"round-2-island-data-bottle/round2/prices_round_2_day_-1.csv\", delimiter=';')\n",
    "prices_1_1 = pd.read_csv(\"round-2-island-data-bottle/round2/prices_round_2_day_0.csv\", delimiter=';')\n",
    "prices_1_1['timestamp'] += 1000000\n",
    "prices_1_2 = pd.read_csv(\"round-2-island-data-bottle/round2/prices_round_2_day_1.csv\", delimiter=';')\n",
    "prices_1_2['timestamp'] += 2000000\n",
    "\n",
    "prices = pd.concat([prices_1_0, prices_1_1, prices_1_2])\n"
   ]
  },
  {
   "cell_type": "code",
   "execution_count": 15,
   "id": "14d39b92",
   "metadata": {},
   "outputs": [
    {
     "data": {
      "text/html": [
       "<div>\n",
       "<style scoped>\n",
       "    .dataframe tbody tr th:only-of-type {\n",
       "        vertical-align: middle;\n",
       "    }\n",
       "\n",
       "    .dataframe tbody tr th {\n",
       "        vertical-align: top;\n",
       "    }\n",
       "\n",
       "    .dataframe thead th {\n",
       "        text-align: right;\n",
       "    }\n",
       "</style>\n",
       "<table border=\"1\" class=\"dataframe\">\n",
       "  <thead>\n",
       "    <tr style=\"text-align: right;\">\n",
       "      <th></th>\n",
       "      <th>day</th>\n",
       "      <th>timestamp</th>\n",
       "      <th>product</th>\n",
       "      <th>bid_price_1</th>\n",
       "      <th>bid_volume_1</th>\n",
       "      <th>bid_price_2</th>\n",
       "      <th>bid_volume_2</th>\n",
       "      <th>bid_price_3</th>\n",
       "      <th>bid_volume_3</th>\n",
       "      <th>ask_price_1</th>\n",
       "      <th>ask_volume_1</th>\n",
       "      <th>ask_price_2</th>\n",
       "      <th>ask_volume_2</th>\n",
       "      <th>ask_price_3</th>\n",
       "      <th>ask_volume_3</th>\n",
       "      <th>mid_price</th>\n",
       "      <th>profit_and_loss</th>\n",
       "    </tr>\n",
       "  </thead>\n",
       "  <tbody>\n",
       "    <tr>\n",
       "      <th>0</th>\n",
       "      <td>-1</td>\n",
       "      <td>0</td>\n",
       "      <td>CROISSANTS</td>\n",
       "      <td>4304</td>\n",
       "      <td>112</td>\n",
       "      <td>NaN</td>\n",
       "      <td>NaN</td>\n",
       "      <td>NaN</td>\n",
       "      <td>NaN</td>\n",
       "      <td>4305</td>\n",
       "      <td>112</td>\n",
       "      <td>NaN</td>\n",
       "      <td>NaN</td>\n",
       "      <td>NaN</td>\n",
       "      <td>NaN</td>\n",
       "      <td>4304.5</td>\n",
       "      <td>0.0</td>\n",
       "    </tr>\n",
       "    <tr>\n",
       "      <th>1</th>\n",
       "      <td>-1</td>\n",
       "      <td>0</td>\n",
       "      <td>JAMS</td>\n",
       "      <td>6670</td>\n",
       "      <td>66</td>\n",
       "      <td>6669.0</td>\n",
       "      <td>137.0</td>\n",
       "      <td>NaN</td>\n",
       "      <td>NaN</td>\n",
       "      <td>6671</td>\n",
       "      <td>66</td>\n",
       "      <td>6672.0</td>\n",
       "      <td>137.0</td>\n",
       "      <td>NaN</td>\n",
       "      <td>NaN</td>\n",
       "      <td>6670.5</td>\n",
       "      <td>0.0</td>\n",
       "    </tr>\n",
       "    <tr>\n",
       "      <th>2</th>\n",
       "      <td>-1</td>\n",
       "      <td>0</td>\n",
       "      <td>SQUID_INK</td>\n",
       "      <td>2005</td>\n",
       "      <td>1</td>\n",
       "      <td>2002.0</td>\n",
       "      <td>31.0</td>\n",
       "      <td>NaN</td>\n",
       "      <td>NaN</td>\n",
       "      <td>2006</td>\n",
       "      <td>31</td>\n",
       "      <td>NaN</td>\n",
       "      <td>NaN</td>\n",
       "      <td>NaN</td>\n",
       "      <td>NaN</td>\n",
       "      <td>2005.5</td>\n",
       "      <td>0.0</td>\n",
       "    </tr>\n",
       "    <tr>\n",
       "      <th>3</th>\n",
       "      <td>-1</td>\n",
       "      <td>0</td>\n",
       "      <td>PICNIC_BASKET1</td>\n",
       "      <td>59284</td>\n",
       "      <td>20</td>\n",
       "      <td>59283.0</td>\n",
       "      <td>18.0</td>\n",
       "      <td>NaN</td>\n",
       "      <td>NaN</td>\n",
       "      <td>59294</td>\n",
       "      <td>2</td>\n",
       "      <td>59295.0</td>\n",
       "      <td>36.0</td>\n",
       "      <td>NaN</td>\n",
       "      <td>NaN</td>\n",
       "      <td>59289.0</td>\n",
       "      <td>0.0</td>\n",
       "    </tr>\n",
       "    <tr>\n",
       "      <th>4</th>\n",
       "      <td>-1</td>\n",
       "      <td>0</td>\n",
       "      <td>PICNIC_BASKET2</td>\n",
       "      <td>30606</td>\n",
       "      <td>20</td>\n",
       "      <td>30605.0</td>\n",
       "      <td>18.0</td>\n",
       "      <td>NaN</td>\n",
       "      <td>NaN</td>\n",
       "      <td>30612</td>\n",
       "      <td>20</td>\n",
       "      <td>30613.0</td>\n",
       "      <td>18.0</td>\n",
       "      <td>NaN</td>\n",
       "      <td>NaN</td>\n",
       "      <td>30609.0</td>\n",
       "      <td>0.0</td>\n",
       "    </tr>\n",
       "  </tbody>\n",
       "</table>\n",
       "</div>"
      ],
      "text/plain": [
       "   day  timestamp         product  bid_price_1  bid_volume_1  bid_price_2  \\\n",
       "0   -1          0      CROISSANTS         4304           112          NaN   \n",
       "1   -1          0            JAMS         6670            66       6669.0   \n",
       "2   -1          0       SQUID_INK         2005             1       2002.0   \n",
       "3   -1          0  PICNIC_BASKET1        59284            20      59283.0   \n",
       "4   -1          0  PICNIC_BASKET2        30606            20      30605.0   \n",
       "\n",
       "   bid_volume_2  bid_price_3  bid_volume_3  ask_price_1  ask_volume_1  \\\n",
       "0           NaN          NaN           NaN         4305           112   \n",
       "1         137.0          NaN           NaN         6671            66   \n",
       "2          31.0          NaN           NaN         2006            31   \n",
       "3          18.0          NaN           NaN        59294             2   \n",
       "4          18.0          NaN           NaN        30612            20   \n",
       "\n",
       "   ask_price_2  ask_volume_2  ask_price_3  ask_volume_3  mid_price  \\\n",
       "0          NaN           NaN          NaN           NaN     4304.5   \n",
       "1       6672.0         137.0          NaN           NaN     6670.5   \n",
       "2          NaN           NaN          NaN           NaN     2005.5   \n",
       "3      59295.0          36.0          NaN           NaN    59289.0   \n",
       "4      30613.0          18.0          NaN           NaN    30609.0   \n",
       "\n",
       "   profit_and_loss  \n",
       "0              0.0  \n",
       "1              0.0  \n",
       "2              0.0  \n",
       "3              0.0  \n",
       "4              0.0  "
      ]
     },
     "execution_count": 15,
     "metadata": {},
     "output_type": "execute_result"
    }
   ],
   "source": [
    "prices.head()"
   ]
  },
  {
   "cell_type": "code",
   "execution_count": 16,
   "id": "ceb677b6",
   "metadata": {},
   "outputs": [
    {
     "data": {
      "text/html": [
       "<div>\n",
       "<style scoped>\n",
       "    .dataframe tbody tr th:only-of-type {\n",
       "        vertical-align: middle;\n",
       "    }\n",
       "\n",
       "    .dataframe tbody tr th {\n",
       "        vertical-align: top;\n",
       "    }\n",
       "\n",
       "    .dataframe thead th {\n",
       "        text-align: right;\n",
       "    }\n",
       "</style>\n",
       "<table border=\"1\" class=\"dataframe\">\n",
       "  <thead>\n",
       "    <tr style=\"text-align: right;\">\n",
       "      <th></th>\n",
       "      <th>day</th>\n",
       "      <th>timestamp</th>\n",
       "      <th>product</th>\n",
       "      <th>bid_price_1</th>\n",
       "      <th>bid_volume_1</th>\n",
       "      <th>bid_price_2</th>\n",
       "      <th>bid_volume_2</th>\n",
       "      <th>bid_price_3</th>\n",
       "      <th>bid_volume_3</th>\n",
       "      <th>ask_price_1</th>\n",
       "      <th>ask_volume_1</th>\n",
       "      <th>ask_price_2</th>\n",
       "      <th>ask_volume_2</th>\n",
       "      <th>ask_price_3</th>\n",
       "      <th>ask_volume_3</th>\n",
       "      <th>mid_price</th>\n",
       "      <th>profit_and_loss</th>\n",
       "    </tr>\n",
       "  </thead>\n",
       "  <tbody>\n",
       "    <tr>\n",
       "      <th>0</th>\n",
       "      <td>0</td>\n",
       "      <td>1000000</td>\n",
       "      <td>CHOCOLATE</td>\n",
       "      <td>7999</td>\n",
       "      <td>111</td>\n",
       "      <td>NaN</td>\n",
       "      <td>NaN</td>\n",
       "      <td>NaN</td>\n",
       "      <td>NaN</td>\n",
       "      <td>8001</td>\n",
       "      <td>111</td>\n",
       "      <td>NaN</td>\n",
       "      <td>NaN</td>\n",
       "      <td>NaN</td>\n",
       "      <td>NaN</td>\n",
       "      <td>8000.0</td>\n",
       "      <td>0.0</td>\n",
       "    </tr>\n",
       "    <tr>\n",
       "      <th>1</th>\n",
       "      <td>0</td>\n",
       "      <td>1000000</td>\n",
       "      <td>STRAWBERRIES</td>\n",
       "      <td>3999</td>\n",
       "      <td>210</td>\n",
       "      <td>NaN</td>\n",
       "      <td>NaN</td>\n",
       "      <td>NaN</td>\n",
       "      <td>NaN</td>\n",
       "      <td>4001</td>\n",
       "      <td>210</td>\n",
       "      <td>NaN</td>\n",
       "      <td>NaN</td>\n",
       "      <td>NaN</td>\n",
       "      <td>NaN</td>\n",
       "      <td>4000.0</td>\n",
       "      <td>0.0</td>\n",
       "    </tr>\n",
       "    <tr>\n",
       "      <th>2</th>\n",
       "      <td>0</td>\n",
       "      <td>1000000</td>\n",
       "      <td>ROSES</td>\n",
       "      <td>14999</td>\n",
       "      <td>72</td>\n",
       "      <td>NaN</td>\n",
       "      <td>NaN</td>\n",
       "      <td>NaN</td>\n",
       "      <td>NaN</td>\n",
       "      <td>15001</td>\n",
       "      <td>72</td>\n",
       "      <td>NaN</td>\n",
       "      <td>NaN</td>\n",
       "      <td>NaN</td>\n",
       "      <td>NaN</td>\n",
       "      <td>15000.0</td>\n",
       "      <td>0.0</td>\n",
       "    </tr>\n",
       "    <tr>\n",
       "      <th>3</th>\n",
       "      <td>0</td>\n",
       "      <td>1000000</td>\n",
       "      <td>GIFT_BASKET</td>\n",
       "      <td>71348</td>\n",
       "      <td>19</td>\n",
       "      <td>71347.0</td>\n",
       "      <td>24.0</td>\n",
       "      <td>NaN</td>\n",
       "      <td>NaN</td>\n",
       "      <td>71362</td>\n",
       "      <td>19</td>\n",
       "      <td>71363.0</td>\n",
       "      <td>24.0</td>\n",
       "      <td>NaN</td>\n",
       "      <td>NaN</td>\n",
       "      <td>71355.0</td>\n",
       "      <td>0.0</td>\n",
       "    </tr>\n",
       "    <tr>\n",
       "      <th>4</th>\n",
       "      <td>0</td>\n",
       "      <td>1000100</td>\n",
       "      <td>GIFT_BASKET</td>\n",
       "      <td>71344</td>\n",
       "      <td>1</td>\n",
       "      <td>71343.0</td>\n",
       "      <td>12.0</td>\n",
       "      <td>71342.0</td>\n",
       "      <td>20.0</td>\n",
       "      <td>71355</td>\n",
       "      <td>1</td>\n",
       "      <td>71356.0</td>\n",
       "      <td>12.0</td>\n",
       "      <td>71357.0</td>\n",
       "      <td>20.0</td>\n",
       "      <td>71349.5</td>\n",
       "      <td>0.0</td>\n",
       "    </tr>\n",
       "  </tbody>\n",
       "</table>\n",
       "</div>"
      ],
      "text/plain": [
       "   day  timestamp       product  bid_price_1  bid_volume_1  bid_price_2  \\\n",
       "0    0    1000000     CHOCOLATE         7999           111          NaN   \n",
       "1    0    1000000  STRAWBERRIES         3999           210          NaN   \n",
       "2    0    1000000         ROSES        14999            72          NaN   \n",
       "3    0    1000000   GIFT_BASKET        71348            19      71347.0   \n",
       "4    0    1000100   GIFT_BASKET        71344             1      71343.0   \n",
       "\n",
       "   bid_volume_2  bid_price_3  bid_volume_3  ask_price_1  ask_volume_1  \\\n",
       "0           NaN          NaN           NaN         8001           111   \n",
       "1           NaN          NaN           NaN         4001           210   \n",
       "2           NaN          NaN           NaN        15001            72   \n",
       "3          24.0          NaN           NaN        71362            19   \n",
       "4          12.0      71342.0          20.0        71355             1   \n",
       "\n",
       "   ask_price_2  ask_volume_2  ask_price_3  ask_volume_3  mid_price  \\\n",
       "0          NaN           NaN          NaN           NaN     8000.0   \n",
       "1          NaN           NaN          NaN           NaN     4000.0   \n",
       "2          NaN           NaN          NaN           NaN    15000.0   \n",
       "3      71363.0          24.0          NaN           NaN    71355.0   \n",
       "4      71356.0          12.0      71357.0          20.0    71349.5   \n",
       "\n",
       "   profit_and_loss  \n",
       "0              0.0  \n",
       "1              0.0  \n",
       "2              0.0  \n",
       "3              0.0  \n",
       "4              0.0  "
      ]
     },
     "execution_count": 16,
     "metadata": {},
     "output_type": "execute_result"
    }
   ],
   "source": [
    "last_year_prices_1_0 = pd.read_csv(\"last_year_data/prices_round_3_day_0.csv\", delimiter=';')\n",
    "last_year_prices_1_0['timestamp'] += 1000000\n",
    "last_year_prices_1_1 = pd.read_csv(\"last_year_data/prices_round_3_day_1.csv\", delimiter=';')\n",
    "last_year_prices_1_1['timestamp'] += 2000000\n",
    "# last_year_prices_1_2 = pd.read_csv(\"last_year_data/prices_round_3_day_2.csv\", delimiter=';')\n",
    "\n",
    "last_year_prices = pd.concat([last_year_prices_1_0, last_year_prices_1_1])\n",
    "\n",
    "last_year_prices.head()"
   ]
  },
  {
   "cell_type": "code",
   "execution_count": 17,
   "id": "bd985546",
   "metadata": {},
   "outputs": [
    {
     "name": "stderr",
     "output_type": "stream",
     "text": [
      "C:\\Users\\chris\\AppData\\Local\\Temp\\ipykernel_31568\\1761946994.py:11: FutureWarning: Series.__getitem__ treating keys as positions is deprecated. In a future version, integer keys will always be treated as labels (consistent with DataFrame behavior). To access a value by position, use `ser.iloc[pos]`\n",
      "  bid = row[3]\n",
      "C:\\Users\\chris\\AppData\\Local\\Temp\\ipykernel_31568\\1761946994.py:12: FutureWarning: Series.__getitem__ treating keys as positions is deprecated. In a future version, integer keys will always be treated as labels (consistent with DataFrame behavior). To access a value by position, use `ser.iloc[pos]`\n",
      "  ask = row[9]\n"
     ]
    }
   ],
   "source": [
    "# strawberrys = last_year_prices[last_year_prices['product']=='STRAWBERRIES']\n",
    "# chocolate = last_year_prices[last_year_prices['product']=='CHOCOLATE']\n",
    "# roses = last_year_prices[last_year_prices['product']=='ROSES']\n",
    "\n",
    "crossaint_prices = prices[prices['product'] == 'CROISSANTS']\n",
    "jam_prices = prices[prices['product'] == 'JAMS']\n",
    "djembe_prices = prices[prices['product'] == 'DJEMBES']\n",
    "\n",
    "\n",
    "def simple_mid_price(row):\n",
    "    bid = row[3]\n",
    "    ask = row[9]\n",
    "    return (bid+ask) / 2\n",
    "\n",
    "crossaint_mid_price         = np.array(crossaint_prices.apply(simple_mid_price, axis=1))\n",
    "jam_prices_mid_price        = np.array(jam_prices.apply(simple_mid_price, axis=1))\n",
    "djembe_prices_mid_price     = np.array(djembe_prices.apply(simple_mid_price, axis=1))\n"
   ]
  },
  {
   "cell_type": "code",
   "execution_count": 18,
   "id": "fd32b2e2",
   "metadata": {},
   "outputs": [],
   "source": [
    "import numpy as np\n",
    "from sklearn.linear_model import LinearRegression\n",
    "from sklearn.metrics import r2_score, mean_squared_error\n",
    "from scipy.stats import pearsonr"
   ]
  },
  {
   "cell_type": "code",
   "execution_count": 21,
   "id": "f0ed5986",
   "metadata": {},
   "outputs": [],
   "source": [
    "def get_row_by_timestamp(df, timestamp):\n",
    "    # Ensure the 'timestamp' column is the index if it's not already\n",
    "    if df.index.name != 'timestamp':\n",
    "        df = df.set_index('timestamp')\n",
    "    \n",
    "    # Lookup the row by timestamp\n",
    "    try:\n",
    "        row = df.loc[timestamp]\n",
    "        return row\n",
    "    except KeyError:\n",
    "        # Return None or appropriate error message if timestamp is not found\n",
    "        return None"
   ]
  },
  {
   "cell_type": "code",
   "execution_count": 22,
   "id": "11d02845",
   "metadata": {},
   "outputs": [
    {
     "name": "stderr",
     "output_type": "stream",
     "text": [
      "C:\\Users\\chris\\AppData\\Local\\Temp\\ipykernel_31568\\1761946994.py:11: FutureWarning: Series.__getitem__ treating keys as positions is deprecated. In a future version, integer keys will always be treated as labels (consistent with DataFrame behavior). To access a value by position, use `ser.iloc[pos]`\n",
      "  bid = row[3]\n",
      "C:\\Users\\chris\\AppData\\Local\\Temp\\ipykernel_31568\\1761946994.py:12: FutureWarning: Series.__getitem__ treating keys as positions is deprecated. In a future version, integer keys will always be treated as labels (consistent with DataFrame behavior). To access a value by position, use `ser.iloc[pos]`\n",
      "  ask = row[9]\n"
     ]
    }
   ],
   "source": [
    "crossaint_prices = prices[prices['product'] == 'CROISSANTS']\n",
    "jam_prices = prices[prices['product'] == 'JAMS']\n",
    "djembe_prices = prices[prices['product'] == 'DJEMBES']\n",
    "\n",
    "basket_1_prices = prices[prices['product'] == 'PICNIC_BASKET1']\n",
    "basket_2_prices = prices[prices['product'] == 'PICNIC_BASKET2']\n",
    "\n",
    "\n",
    "def get_mid_price(row):\n",
    "    bids = row[3:9]\n",
    "    asks = row[9:15]\n",
    "\n",
    "    bid_1 = bids[0]\n",
    "    bid_2 = bids[2]\n",
    "    bid_3 = bids[4]\n",
    "\n",
    "    ask_1 = asks[0]\n",
    "    ask_2 = asks[2]\n",
    "    ask_3 = asks[4]\n",
    "\n",
    "    mid_bid = bid_3\n",
    "    if np.isnan(mid_bid):\n",
    "        mid_bid = bid_2\n",
    "    if np.isnan(mid_bid):\n",
    "        mid_bid = bid_1\n",
    "\n",
    "    mid_ask = ask_3\n",
    "    if np.isnan(mid_ask):\n",
    "        mid_ask = ask_2\n",
    "    if np.isnan(mid_ask):\n",
    "        mid_ask = ask_1\n",
    "\n",
    "    return (mid_bid+mid_ask)/2 \n",
    "\n",
    "crossaint_mid_price         = np.array(crossaint_prices.apply(simple_mid_price, axis=1))\n",
    "jam_prices_mid_price        = np.array(jam_prices.apply(simple_mid_price, axis=1))\n",
    "djembe_prices_mid_price     = np.array(djembe_prices.apply(simple_mid_price, axis=1))\n",
    "basket_1_prices_mid_price   = np.array(basket_1_prices.apply(simple_mid_price, axis=1))\n",
    "basket_2_prices_mid_price   = np.array(basket_2_prices.apply(simple_mid_price, axis=1))"
   ]
  },
  {
   "cell_type": "code",
   "execution_count": 23,
   "id": "840ca6cf",
   "metadata": {},
   "outputs": [],
   "source": [
    "window_len = 50\n",
    "std_multi = 1\n",
    "\n",
    "basket_1_premium =  basket_1_prices_mid_price - 6 * crossaint_mid_price - 3 * jam_prices_mid_price - djembe_prices_mid_price\n",
    "basket_2_premium = basket_2_prices_mid_price - 4 * crossaint_mid_price - 2 * jam_prices_mid_price\n",
    "\n",
    "basket_1_df = pd.DataFrame(basket_1_prices_mid_price, columns=['mid_price'])\n",
    "basket_1_df['premium'] = basket_1_premium\n",
    "basket_1_df['timestamp'] = prices[prices['product'] == 'PICNIC_BASKET1']['timestamp'].values\n",
    "\n",
    "basket_2_df = pd.DataFrame(basket_2_prices_mid_price, columns=['mid_price'])\n",
    "basket_2_df['premium'] = basket_2_premium\n",
    "basket_2_df['timestamp'] = prices[prices['product'] == 'PICNIC_BASKET2']['timestamp'].values\n",
    "\n",
    "basket_1_df['mean'] = basket_1_df['premium'].rolling(window=window_len).mean()\n",
    "basket_1_df['std'] = basket_1_df['premium'].rolling(window=window_len).std()\n",
    "basket_2_df['mean'] = basket_2_df['premium'].rolling(window=window_len).mean()\n",
    "basket_2_df['std'] = basket_2_df['premium'].rolling(window=window_len).std()\n",
    "\n",
    "# drop rows with no values\n",
    "basket_1_df = basket_1_df.dropna()\n",
    "basket_2_df = basket_2_df.dropna()\n",
    "\n",
    "# Calculate z-score for both baskets\n",
    "basket_1_df['zscore'] = basket_1_df['premium'] - basket_1_df['mean']\n",
    "basket_2_df['zscore'] = basket_2_df['premium'] - basket_2_df['mean']\n",
    "\n",
    "# Buy signals (zscore < -2*std), Sell signals (zscore > 2*std)\n",
    "basket_1_df['raw_signal'] = None\n",
    "basket_1_df.loc[basket_1_df['zscore'] > std_multi * basket_1_df['std'], 'raw_signal'] = 'sell'\n",
    "basket_1_df.loc[basket_1_df['zscore'] < -std_multi * basket_1_df['std'], 'raw_signal'] = 'buy'\n",
    "\n",
    "basket_2_df['raw_signal'] = None\n",
    "basket_2_df.loc[basket_2_df['zscore'] > std_multi * basket_2_df['std'], 'raw_signal'] = 'sell'\n",
    "basket_2_df.loc[basket_2_df['zscore'] < -std_multi * basket_2_df['std'], 'raw_signal'] = 'buy'\n",
    "\n",
    "# Drop NaNs and separate out buy/sell raw signals\n",
    "basket_1_buy = basket_1_df[basket_1_df['raw_signal'] == 'buy']\n",
    "basket_1_sell = basket_1_df[basket_1_df['raw_signal'] == 'sell']\n",
    "\n",
    "basket_2_buy = basket_2_df[basket_2_df['raw_signal'] == 'buy']\n",
    "basket_2_sell = basket_2_df[basket_2_df['raw_signal'] == 'sell']"
   ]
  },
  {
   "cell_type": "code",
   "execution_count": 24,
   "id": "3f9af165",
   "metadata": {},
   "outputs": [
    {
     "data": {
      "text/plain": [
       "<matplotlib.legend.Legend at 0x276fe3cde80>"
      ]
     },
     "execution_count": 24,
     "metadata": {},
     "output_type": "execute_result"
    },
    {
     "data": {
      "image/png": "[encoded data removed]",
      "text/plain": [
       "<Figure size 500x500 with 1 Axes>"
      ]
     },
     "metadata": {},
     "output_type": "display_data"
    }
   ],
   "source": [
    "plt.figure(figsize=(5, 5))\n",
    "plt.title(\"Basket Premiums\")\n",
    "plt.xlabel(\"Timestamp\")\n",
    "plt.ylabel(\"Seashells\")\n",
    "plt.plot(basket_1_df['premium'], label='Basket 1 Premium')\n",
    "plt.plot(basket_2_df['premium'], label='Basket 2 Premium')\n",
    "plt.legend()"
   ]
  },
  {
   "cell_type": "code",
   "execution_count": null,
   "id": "f9f91881",
   "metadata": {},
   "outputs": [],
   "source": [
    "threshold = 20\n",
    "window = 50"
   ]
  },
  {
   "cell_type": "code",
   "execution_count": null,
   "id": "7dd4bd28",
   "metadata": {},
   "outputs": [
    {
     "name": "stdout",
     "output_type": "stream",
     "text": [
      "Series mean:  18.625755400487463\n",
      "Series mean:  48.82898734599846\n"
     ]
    },
    {
     "data": {
      "text/plain": [
       "<matplotlib.legend.Legend at 0x276ff3efd10>"
      ]
     },
     "execution_count": 34,
     "metadata": {},
     "output_type": "execute_result"
    },
    {
     "data": {
      "image/png": "[encoded data removed]",
      "text/plain": [
       "<Figure size 1500x500 with 6 Axes>"
      ]
     },
     "metadata": {},
     "output_type": "display_data"
    }
   ],
   "source": [
    "plt.figure(figsize=(15, 5))\n",
    "plt.subplot(1, 3, 1)\n",
    "\n",
    "plt.title(\"Difference of Premiums (Basket 1 - Basket 2)\")\n",
    "plt.xlabel(\"Timestamp\")\n",
    "plt.ylabel(\"Seashells\")\n",
    "\n",
    "series = basket_1_df['premium'] - basket_2_df['premium']\n",
    "mean = series.mean()\n",
    "std = series.std()\n",
    "print(\"Series mean: \", mean)\n",
    "\n",
    "\n",
    "window_len = window\n",
    "rolling_std = series.rolling(window=window_len).std()\n",
    "rolling_zscore = (series - mean) / rolling_std\n",
    "\n",
    "plt.plot(series, c='grey')\n",
    "# plt.axhline(mean, color='red', linestyle='--', label='Mean')\n",
    "plt.twinx()\n",
    "plt.plot(rolling_zscore, label='Rolling Z-Score', color='orange', alpha=1.0)\n",
    "plt.legend()\n",
    "\n",
    "plt.axhline(threshold, color='red', linestyle='--')\n",
    "plt.axhline(-threshold, color='red', linestyle='--')\n",
    "plt.axhline(0, color='black', linestyle='--')\n",
    "plt.ylabel(\"Z-Score\")\n",
    "\n",
    "plt.subplot(1, 3, 2)\n",
    "plt.title(\"Basket 1 Premiums\")\n",
    "plt.xlabel(\"Timestamp\")\n",
    "plt.ylabel(\"Seashells\")\n",
    "\n",
    "series = basket_1_df['premium']\n",
    "mean = series.mean()\n",
    "print(\"Series mean: \", mean)\n",
    "\n",
    "rolling_std = series.rolling(window=window_len).std()\n",
    "rolling_zscore = (series - mean) / rolling_std\n",
    "plt.plot(basket_1_df['premium'], label='Basket 2 Premium')\n",
    "\n",
    "plt.twinx()\n",
    "plt.plot(rolling_zscore, label='Rolling Z-Score', color='orange', alpha=1.0)\n",
    "\n",
    "plt.axhline(20, color='red', linestyle='--')\n",
    "plt.axhline(-20, color='red', linestyle='--')\n",
    "plt.axhline(0, color='black', linestyle='--')\n",
    "\n",
    "plt.ylabel(\"Z-Score\")\n",
    "plt.subplot(1, 3, 3)\n",
    "plt.title(\"Basket 2 Premiums\")\n",
    "plt.xlabel(\"Timestamp\")\n",
    "plt.ylabel(\"Seashells\")\n",
    "\n",
    "series = basket_2_df['premium']\n",
    "mean = series.mean()\n",
    "\n",
    "rolling_std = series.rolling(window=window_len).std()\n",
    "rolling_zscore = (series - mean) / rolling_std\n",
    "\n",
    "plt.plot(basket_2_df['premium'], label='Basket 2 Premium')\n",
    "\n",
    "plt.twinx()\n",
    "plt.plot(rolling_zscore, label='Rolling Z-Score', color='orange', alpha=1.0)\n",
    "\n",
    "plt.axhline(20, color='red', linestyle='--')\n",
    "plt.axhline(-20, color='red', linestyle='--')\n",
    "plt.axhline(0, color='black', linestyle='--')\n",
    "\n",
    "plt.ylabel(\"Z-Score\")\n",
    "\n",
    "plt.legend()\n"
   ]
  },
  {
   "cell_type": "code",
   "execution_count": null,
   "id": "1bc4a038",
   "metadata": {},
   "outputs": [
    {
     "data": {
      "text/plain": [
       "<matplotlib.lines.Line2D at 0x217966a2c00>"
      ]
     },
     "execution_count": 423,
     "metadata": {},
     "output_type": "execute_result"
    },
    {
     "data": {
      "image/png": "[encoded data removed]",
      "text/plain": [
       "<Figure size 640x480 with 1 Axes>"
      ]
     },
     "metadata": {},
     "output_type": "display_data"
    }
   ],
   "source": [
    "#plt.plot(basket_1_df['premium'])\n",
    "# plt.plot(basket_2_df['premium'])\n",
    "plt.plot(basket_1_df['premium']-basket_2_df['premium'])\n",
    "\n",
    "series = basket_1_df['premium']-basket_2_df['premium']\n",
    "mean = series.mean()\n",
    "std = series.std()\n",
    "threshold = 2 * std\n",
    "\n",
    "plt.plot(series)\n",
    "\n",
    "plt.plot(\"Premium Difference Between Basket 1 and 2\")\n",
    "plt.axhline(mean, color='red', linestyle='--')\n",
    "plt.axhline(mean + threshold, color='green', linestyle='--')\n",
    "plt.axhline(mean - threshold, color='green', linestyle='--')"
   ]
  },
  {
   "cell_type": "code",
   "execution_count": 333,
   "id": "f4614e5a",
   "metadata": {},
   "outputs": [],
   "source": [
    "def backtest_signals(df):\n",
    "    position = None\n",
    "    entry_price = 0\n",
    "    trades = []\n",
    "\n",
    "    for i, row in df.iterrows():\n",
    "        signal = row['raw_signal']\n",
    "        premium = row['premium']\n",
    "        timestamp = row['timestamp']\n",
    "\n",
    "        if signal == 'buy':\n",
    "            if position == 'short':\n",
    "                # Close short, open long\n",
    "                pnl = entry_price - premium\n",
    "                trades.append({'entry': entry_ts, 'exit': timestamp, 'side': 'short', 'pnl': pnl})\n",
    "                entry_price = premium\n",
    "                entry_ts = timestamp\n",
    "                position = 'long'\n",
    "            elif position is None:\n",
    "                # Open long\n",
    "                entry_price = premium\n",
    "                entry_ts = timestamp\n",
    "                position = 'long'\n",
    "\n",
    "        elif signal == 'sell':\n",
    "            if position == 'long':\n",
    "                # Close long, open short\n",
    "                pnl = premium - entry_price\n",
    "                trades.append({'entry': entry_ts, 'exit': timestamp, 'side': 'long', 'pnl': pnl})\n",
    "                entry_price = premium\n",
    "                entry_ts = timestamp\n",
    "                position = 'short'\n",
    "            elif position is None:\n",
    "                # Open short\n",
    "                entry_price = premium\n",
    "                entry_ts = timestamp\n",
    "                position = 'short'\n",
    "\n",
    "    # Optional: close any open position at the end\n",
    "    if position is not None:\n",
    "        final_pnl = (premium - entry_price) if position == 'long' else (entry_price - premium)\n",
    "        trades.append({'entry': entry_ts, 'exit': timestamp, 'side': position, 'pnl': final_pnl})\n",
    "\n",
    "    return pd.DataFrame(trades)"
   ]
  },
  {
   "cell_type": "code",
   "execution_count": 334,
   "id": "dc53f0e5",
   "metadata": {},
   "outputs": [
    {
     "name": "stdout",
     "output_type": "stream",
     "text": [
      "Basket 1 total PnL: 292.0\n",
      "Basket 2 total PnL: 445.0\n"
     ]
    }
   ],
   "source": [
    "basket_1_trades = backtest_signals(basket_1_df)\n",
    "basket_2_trades = backtest_signals(basket_2_df)\n",
    "\n",
    "# View trades and total PnL\n",
    "print(\"Basket 1 total PnL:\", basket_1_trades['pnl'].sum())\n",
    "print(\"Basket 2 total PnL:\", basket_2_trades['pnl'].sum())"
   ]
  },
  {
   "cell_type": "code",
   "execution_count": 335,
   "id": "e36d49de",
   "metadata": {},
   "outputs": [
    {
     "data": {
      "application/vnd.plotly.v1+json": {
       "config": {
        "plotlyServerURL": "https://plot.ly"
       },
       "data": [
        {
         "line": {
          "color": "blue"
         },
         "marker": {
          "size": 6
         },
         "mode": "lines+markers",
         "name": "Cumulative PnL",
         "type": "scatter",
         "x": {
          "bdata": "YCIAAIw8AAAUUAAALLAAAHzdAAB8DwEASCABANBlAQAwiAEAeJUBAPCzAQCExQEAzNIBABjwAQCIBwIAlB4CAHgrAgDcRAIAuHwCAJCLAgDovwIACMMCAHTjAgAEFwMAYCkDAERoAwCgegMALIUDABiZAwAgoAMAqLMDAPjgAwCUEgQAgCYEAKxZBADwbwQA9H8EAHzFBABc2wQAyBQFAJxeBQActgUArAIGADgmBgCUOAYAOD8GAIR1BgAspQYALL4GAPgABwA4BwcA/BAHANRRBwC0ZwcAgJEHAGylBwBMuwcAdBAIAAhUCAAEjwgAxKEIACSrCADc6AgAiPYIAJD9CABUIAkA3DMJANRFCQDcfgkAoOwJAKAFCgA8UAoAQGAKAHyICgBskwoA0N4KABgeCwDQKQsAdGILAEh6CwBUqgsAfOYLAMz6CwA0CwwAuCcMANA8DABY/wwAtFwNAKh3DQCYmw0AXL4NAFTQDQDo+g0AGAwOABglDgAQNw4AOEEOANxHDgB4eQ4AiIcOANCtDgDAuA4AsMMOAOTkDgCk9w4AWAwPANwoDwCgZA8AnG0PAPh/DwAYnA8ASK0PAGS5DwCo6A8AVA8QAHREEADUfxAAIJ0QAMS8EAD81BAALOYQAGweEQD0ShEAJHURAHCSEQCcxREAjNARAKzsEQAQBhIArFASANhqEgCUuBIA3MUSABzlEgBwIhMAaDQTAAA9EwDUVBMAjJITALScEwCotxMA6NYTAIzdEwD8DRQAcBwUAJQvFAA0PxQAyGkUAGC9FAC0yBQAeGgVAIC6FQA0zxUAnN8VAEjtFQCcXBYAGHIWAASfFgDEyhYAEOgWAEQ7FwAQZRcAGIUXAEiWFwBEnxcANPUXAOgiGADMYRgAjHQYAMCVGACYvRgAtOIYAPzvGAAY/BgA+BEZAAxiGQCIdxkAEL0ZAIDUGQB0IRoANDQaAFQ3GgBMSRoAMFYaAJyPGgCAnBoA1KcaAPTDGgBI6BoAOPMaACQHGwAYIhsADCQbAIQpGwAYOxsAWEEbACCNGwCQCBwADB4cAJgoHADIORwAXGQcAGB0HAAUiRwAhKAcAEy6HACIyRwA0NYcAFgDHQDoNh0ANIYdAHysHQAEwB0AyOIdAEghHgCIQB4AtHMeANiGHgBkqh4ApLAeACS9HgBo7B4AQPseANQMHwB4LB8AsI8fAOjAHwDg0h8A2OQfAOwCIADMGCAATCUgAJhbIAAEfCAAJMogAHTeIACILiEAUGEhABxyIQAEqCEAILQhAIC9IQC41SEAAPwhAJwtIgDENyIAwHIiAGC0IgAI5CIA4PIiAHANIwAkVCMAAHMjACyNIwAU9SMA2BckAFgkJACALiQAiE4kAJBuJABUkSQAEK0kAHjWJAAk/SQA9B0lAEw5JQA4TSUAXMQlAKjhJQCYaSYADHgmADiSJgAQoSYA/LQmAFDAJgAQ0yYAEOwmAIQTJwAYPicApGEnABSrJwCQ2ScAfO0nAGwRKAAoLSgAWFcoACh4KAAokSgA7MwoAEgRKQCsKikAvDgpACSUKQAE3CkAtPkpAJB8KgA0gyoAuLgqAHzCKgAs4CoA/AArAJwpKwBUsisAFMUrAPz6KwDAHSwA3CksAAhELADIbywAdJYsAEDALACQ1CwA8PYsAIgYLQDwKC0AZFAtAFB9LQBUjS0A0KItAFzGLQA=",
          "dtype": "i4"
         },
         "y": {
          "bdata": "AAAAAACAPEAAAAAAAABDQAAAAAAAAElAAAAAAAAAFsAAAAAAAAAkQAAAAAAAAB5AAAAAAACAP0AAAAAAAAA/wAAAAAAAABbAAAAAAAAANUAAAAAAAIA0QAAAAAAAwEFAAAAAAABATUAAAAAAAMBUQAAAAAAAIFlAAAAAAACgW0AAAAAAACBgQAAAAAAAUGJAAAAAAADAW0AAAAAAADBgQAAAAAAAYFhAAAAAAACAXUAAAAAAACBgQAAAAAAAAGBAAAAAAACwYUAAAAAAAABbQAAAAAAAAGBAAAAAAADQYkAAAAAAAPBlQAAAAAAAgGhAAAAAAAAAaEAAAAAAAHBpQAAAAAAA4GlAAAAAAABwakAAAAAAAEBpQAAAAAAAcGlAAAAAAAAQbEAAAAAAAEBqQAAAAAAAkG1AAAAAAACQbEAAAAAAAIBlQAAAAAAAEGdAAAAAAABwZUAAAAAAAGBmQAAAAAAAMGhAAAAAAACQa0AAAAAAAJBlQAAAAAAAAGJAAAAAAABwZUAAAAAAAFBnQAAAAAAAYGpAAAAAAAAgbkAAAAAAAFBsQAAAAAAAsGxAAAAAAABwa0AAAAAAABBuQAAAAAAAAG9AAAAAAAAwZ0AAAAAAAJBmQAAAAAAA0GNAAAAAAACQZkAAAAAAACBpQAAAAAAAYGVAAAAAAABAaEAAAAAAALBrQAAAAAAAUGlAAAAAAAAgakAAAAAAAHBrQAAAAAAAcGNAAAAAAAAAV0AAAAAAAGBbQAAAAAAAIFtAAAAAAABQYEAAAAAAAABfQAAAAAAAUGJAAAAAAADgUEAAAAAAAIBMQAAAAAAAQFVAAAAAAADASkAAAAAAAABUQAAAAAAAYFJAAAAAAADAREAAAAAAAEBFQAAAAAAAQE9AAAAAAADARkAAAAAAAABOQAAAAAAAYF3AAAAAAACgY8AAAAAAAMBiwAAAAAAAwGPAAAAAAABgYMAAAAAAAEBbwAAAAAAAYFjAAAAAAADgVMAAAAAAACBQwAAAAAAAQEbAAAAAAAAAK8AAAAAAAIA9QAAAAAAAADLAAAAAAAAADEAAAAAAAABFwAAAAAAAgDTAAAAAAAAA+D8AAAAAAIA7wAAAAAAAADLAAAAAAAAALcAAAAAAAIAxwAAAAAAAwELAAAAAAAAAKsAAAAAAAAAlQAAAAAAAACFAAAAAAADAREAAAAAAAGBQQAAAAAAAwEpAAAAAAADASEAAAAAAAAA1QAAAAAAAACdAAAAAAAAAK0AAAAAAAAAUQAAAAAAAAD9AAAAAAABATEAAAAAAAMBBQAAAAAAAQENAAAAAAAAAKkAAAAAAAMBEQAAAAAAAADJAAAAAAAAAQUAAAAAAAMBEQAAAAAAAgD5AAAAAAACAMkAAAAAAAMBDQAAAAAAAgEFAAAAAAAAAUUAAAAAAAABWQAAAAAAAwFJAAAAAAAAAWkAAAAAAAMBfQAAAAAAAkGJAAAAAAABAYkAAAAAAAABlQAAAAAAA8GZAAAAAAADQaEAAAAAAANBsQAAAAAAA8GpAAAAAAABgbEAAAAAAAGBvQAAAAAAA6HBAAAAAAABocUAAAAAAAHhwQAAAAAAA+HFAAAAAAABAaEAAAAAAAEBkQAAAAAAAMGVAAAAAAABgZ0AAAAAAAHBqQAAAAAAAMGBAAAAAAADAYUAAAAAAAPBhQAAAAAAAcGFAAAAAAACAYUAAAAAAAIBVQAAAAAAAgFRAAAAAAABgVUAAAAAAAGBbQAAAAAAAEGJAAAAAAAAAXkAAAAAAAOBXQAAAAAAAQE1AAAAAAACgUUAAAAAAACBQQAAAAAAAgExAAAAAAADARkAAAAAAAMBQQAAAAAAAgFdAAAAAAAAgW0AAAAAAAOBbQAAAAAAAIGBAAAAAAAAAVEAAAAAAACBZQAAAAAAAAFBAAAAAAAAAU0AAAAAAAMBZQAAAAAAA4F9AAAAAAADQYkAAAAAAAGBfQAAAAAAAkGJAAAAAAAAAZUAAAAAAAFBmQAAAAAAAIGVAAAAAAACgaEAAAAAAAGBpQAAAAAAAoGpAAAAAAACwbEAAAAAAAPBuQAAAAAAAcHBAAAAAAADgcUAAAAAAAEBxQAAAAAAAUGlAAAAAAACQaUAAAAAAAJBsQAAAAAAAIG9AAAAAAACAcEAAAAAAAMhxQAAAAAAAsHJAAAAAAADYckAAAAAAAMBxQAAAAAAAuHNAAAAAAACYdUAAAAAAAKh0QAAAAAAAWHRAAAAAAAAgckAAAAAAACByQAAAAAAAoHJAAAAAAABIckAAAAAAAPBsQAAAAAAAYG9AAAAAAACAbUAAAAAAAKhwQAAAAAAAKHBAAAAAAABIcUAAAAAAAIhyQAAAAAAAuHJAAAAAAAAAdEAAAAAAACh2QAAAAAAASHdAAAAAAAAYdEAAAAAAAKBzQAAAAAAAeHRAAAAAAAAYdUAAAAAAAEB2QAAAAAAA4HdAAAAAAAAIeUAAAAAAAOh3QAAAAAAA6HdAAAAAAAAAdkAAAAAAAFB2QAAAAAAAAHZAAAAAAAAQdUAAAAAAANB2QAAAAAAA6HRAAAAAAAB4dkAAAAAAAFB4QAAAAAAAmHlAAAAAAAC4ekAAAAAAADh6QAAAAAAAmHtAAAAAAAAIekAAAAAAACh5QAAAAAAAiHdAAAAAAABweEAAAAAAAMh3QAAAAAAAkHhAAAAAAAC4eEAAAAAAAKB5QAAAAAAAMHZAAAAAAADYdUAAAAAAADh3QAAAAAAAyHhAAAAAAADod0AAAAAAAHh6QAAAAAAAyHxAAAAAAABQfEAAAAAAAJB7QAAAAAAAIHpAAAAAAADAekAAAAAAABB6QAAAAAAAsHpAAAAAAABYdkAAAAAAAKB2QAAAAAAASHJAAAAAAADoc0AAAAAAADB0QAAAAAAA+HVAAAAAAACYdkAAAAAAAHh4QAAAAAAAGHpAAAAAAAAQe0AAAAAAAMh6QAAAAAAA+HlAAAAAAAAIe0AAAAAAAEh2QAAAAAAA0HZAAAAAAACYd0AAAAAAAEB4QAAAAAAAaHdAAAAAAAAweEAAAAAAAOB5QAAAAAAAwHpAAAAAAADweEAAAAAAAFh1QAAAAAAAwHVAAAAAAAAId0AAAAAAAJh2QAAAAAAAWHZAAAAAAADIeEAAAAAAAPByQAAAAAAAiHRAAAAAAAAQdUAAAAAAAIh2QAAAAAAAUHZAAAAAAAAId0AAAAAAAEh2QAAAAAAAQHRAAAAAAAAgd0AAAAAAACh1QAAAAAAAmHJAAAAAAACoc0AAAAAAAFByQAAAAAAAsHFAAAAAAADYcUAAAAAAAJhwQAAAAAAA4HBAAAAAAABocEAAAAAAAFBxQAAAAAAAWHJAAAAAAAAwckAAAAAAADhxQAAAAAAAmHJAAAAAAACoc0AAAAAAAEByQA==",
          "dtype": "f8"
         }
        }
       ],
       "layout": {
        "annotations": [
         {
          "arrowcolor": "green",
          "arrowhead": 1,
          "ax": 0,
          "ay": -30,
          "font": {
           "color": "green"
          },
          "showarrow": true,
          "text": "long",
          "x": 8800,
          "y": 28.5
         },
         {
          "arrowcolor": "red",
          "arrowhead": 1,
          "ax": 0,
          "ay": 30,
          "font": {
           "color": "red"
          },
          "showarrow": true,
          "text": "short",
          "x": 15500,
          "y": 38
         },
         {
          "arrowcolor": "green",
          "arrowhead": 1,
          "ax": 0,
          "ay": -30,
          "font": {
           "color": "green"
          },
          "showarrow": true,
          "text": "long",
          "x": 20500,
          "y": 50
         },
         {
          "arrowcolor": "red",
          "arrowhead": 1,
          "ax": 0,
          "ay": 30,
          "font": {
           "color": "red"
          },
          "showarrow": true,
          "text": "short",
          "x": 45100,
          "y": -5.5
         },
         {
          "arrowcolor": "green",
          "arrowhead": 1,
          "ax": 0,
          "ay": -30,
          "font": {
           "color": "green"
          },
          "showarrow": true,
          "text": "long",
          "x": 56700,
          "y": 10
         },
         {
          "arrowcolor": "red",
          "arrowhead": 1,
          "ax": 0,
          "ay": 30,
          "font": {
           "color": "red"
          },
          "showarrow": true,
          "text": "short",
          "x": 69500,
          "y": 7.5
         },
         {
          "arrowcolor": "green",
          "arrowhead": 1,
          "ax": 0,
          "ay": -30,
          "font": {
           "color": "green"
          },
          "showarrow": true,
          "text": "long",
          "x": 73800,
          "y": 31.5
         },
         {
          "arrowcolor": "red",
          "arrowhead": 1,
          "ax": 0,
          "ay": 30,
          "font": {
           "color": "red"
          },
          "showarrow": true,
          "text": "short",
          "x": 91600,
          "y": -31
         },
         {
          "arrowcolor": "green",
          "arrowhead": 1,
          "ax": 0,
          "ay": -30,
          "font": {
           "color": "green"
          },
          "showarrow": true,
          "text": "long",
          "x": 100400,
          "y": -5.5
         },
         {
          "arrowcolor": "red",
          "arrowhead": 1,
          "ax": 0,
          "ay": 30,
          "font": {
           "color": "red"
          },
          "showarrow": true,
          "text": "short",
          "x": 103800,
          "y": 21
         },
         {
          "arrowcolor": "green",
          "arrowhead": 1,
          "ax": 0,
          "ay": -30,
          "font": {
           "color": "green"
          },
          "showarrow": true,
          "text": "long",
          "x": 111600,
          "y": 20.5
         },
         {
          "arrowcolor": "red",
          "arrowhead": 1,
          "ax": 0,
          "ay": 30,
          "font": {
           "color": "red"
          },
          "showarrow": true,
          "text": "short",
          "x": 116100,
          "y": 35.5
         },
         {
          "arrowcolor": "green",
          "arrowhead": 1,
          "ax": 0,
          "ay": -30,
          "font": {
           "color": "green"
          },
          "showarrow": true,
          "text": "long",
          "x": 119500,
          "y": 58.5
         },
         {
          "arrowcolor": "red",
          "arrowhead": 1,
          "ax": 0,
          "ay": 30,
          "font": {
           "color": "red"
          },
          "showarrow": true,
          "text": "short",
          "x": 127000,
          "y": 83
         },
         {
          "arrowcolor": "green",
          "arrowhead": 1,
          "ax": 0,
          "ay": -30,
          "font": {
           "color": "green"
          },
          "showarrow": true,
          "text": "long",
          "x": 133000,
          "y": 100.5
         },
         {
          "arrowcolor": "red",
          "arrowhead": 1,
          "ax": 0,
          "ay": 30,
          "font": {
           "color": "red"
          },
          "showarrow": true,
          "text": "short",
          "x": 138900,
          "y": 110.5
         },
         {
          "arrowcolor": "green",
          "arrowhead": 1,
          "ax": 0,
          "ay": -30,
          "font": {
           "color": "green"
          },
          "showarrow": true,
          "text": "long",
          "x": 142200,
          "y": 129
         },
         {
          "arrowcolor": "red",
          "arrowhead": 1,
          "ax": 0,
          "ay": 30,
          "font": {
           "color": "red"
          },
          "showarrow": true,
          "text": "short",
          "x": 148700,
          "y": 146.5
         },
         {
          "arrowcolor": "green",
          "arrowhead": 1,
          "ax": 0,
          "ay": -30,
          "font": {
           "color": "green"
          },
          "showarrow": true,
          "text": "long",
          "x": 163000,
          "y": 111
         },
         {
          "arrowcolor": "red",
          "arrowhead": 1,
          "ax": 0,
          "ay": 30,
          "font": {
           "color": "red"
          },
          "showarrow": true,
          "text": "short",
          "x": 166800,
          "y": 129.5
         },
         {
          "arrowcolor": "green",
          "arrowhead": 1,
          "ax": 0,
          "ay": -30,
          "font": {
           "color": "green"
          },
          "showarrow": true,
          "text": "long",
          "x": 180200,
          "y": 97.5
         },
         {
          "arrowcolor": "red",
          "arrowhead": 1,
          "ax": 0,
          "ay": 30,
          "font": {
           "color": "red"
          },
          "showarrow": true,
          "text": "short",
          "x": 181000,
          "y": 118
         },
         {
          "arrowcolor": "green",
          "arrowhead": 1,
          "ax": 0,
          "ay": -30,
          "font": {
           "color": "green"
          },
          "showarrow": true,
          "text": "long",
          "x": 189300,
          "y": 129
         },
         {
          "arrowcolor": "red",
          "arrowhead": 1,
          "ax": 0,
          "ay": 30,
          "font": {
           "color": "red"
          },
          "showarrow": true,
          "text": "short",
          "x": 202500,
          "y": 128
         },
         {
          "arrowcolor": "green",
          "arrowhead": 1,
          "ax": 0,
          "ay": -30,
          "font": {
           "color": "green"
          },
          "showarrow": true,
          "text": "long",
          "x": 207200,
          "y": 141.5
         },
         {
          "arrowcolor": "red",
          "arrowhead": 1,
          "ax": 0,
          "ay": 30,
          "font": {
           "color": "red"
          },
          "showarrow": true,
          "text": "short",
          "x": 223300,
          "y": 108
         },
         {
          "arrowcolor": "green",
          "arrowhead": 1,
          "ax": 0,
          "ay": -30,
          "font": {
           "color": "green"
          },
          "showarrow": true,
          "text": "long",
          "x": 228000,
          "y": 128
         },
         {
          "arrowcolor": "red",
          "arrowhead": 1,
          "ax": 0,
          "ay": 30,
          "font": {
           "color": "red"
          },
          "showarrow": true,
          "text": "short",
          "x": 230700,
          "y": 150.5
         },
         {
          "arrowcolor": "green",
          "arrowhead": 1,
          "ax": 0,
          "ay": -30,
          "font": {
           "color": "green"
          },
          "showarrow": true,
          "text": "long",
          "x": 235800,
          "y": 175.5
         },
         {
          "arrowcolor": "red",
          "arrowhead": 1,
          "ax": 0,
          "ay": 30,
          "font": {
           "color": "red"
          },
          "showarrow": true,
          "text": "short",
          "x": 237600,
          "y": 196
         },
         {
          "arrowcolor": "green",
          "arrowhead": 1,
          "ax": 0,
          "ay": -30,
          "font": {
           "color": "green"
          },
          "showarrow": true,
          "text": "long",
          "x": 242600,
          "y": 192
         },
         {
          "arrowcolor": "red",
          "arrowhead": 1,
          "ax": 0,
          "ay": 30,
          "font": {
           "color": "red"
          },
          "showarrow": true,
          "text": "short",
          "x": 254200,
          "y": 203.5
         },
         {
          "arrowcolor": "green",
          "arrowhead": 1,
          "ax": 0,
          "ay": -30,
          "font": {
           "color": "green"
          },
          "showarrow": true,
          "text": "long",
          "x": 266900,
          "y": 207
         },
         {
          "arrowcolor": "red",
          "arrowhead": 1,
          "ax": 0,
          "ay": 30,
          "font": {
           "color": "red"
          },
          "showarrow": true,
          "text": "short",
          "x": 272000,
          "y": 211.5
         },
         {
          "arrowcolor": "green",
          "arrowhead": 1,
          "ax": 0,
          "ay": -30,
          "font": {
           "color": "green"
          },
          "showarrow": true,
          "text": "long",
          "x": 285100,
          "y": 202
         },
         {
          "arrowcolor": "red",
          "arrowhead": 1,
          "ax": 0,
          "ay": 30,
          "font": {
           "color": "red"
          },
          "showarrow": true,
          "text": "short",
          "x": 290800,
          "y": 203.5
         },
         {
          "arrowcolor": "green",
          "arrowhead": 1,
          "ax": 0,
          "ay": -30,
          "font": {
           "color": "green"
          },
          "showarrow": true,
          "text": "long",
          "x": 294900,
          "y": 224.5
         },
         {
          "arrowcolor": "red",
          "arrowhead": 1,
          "ax": 0,
          "ay": 30,
          "font": {
           "color": "red"
          },
          "showarrow": true,
          "text": "short",
          "x": 312700,
          "y": 210
         },
         {
          "arrowcolor": "green",
          "arrowhead": 1,
          "ax": 0,
          "ay": -30,
          "font": {
           "color": "green"
          },
          "showarrow": true,
          "text": "long",
          "x": 318300,
          "y": 236.5
         },
         {
          "arrowcolor": "red",
          "arrowhead": 1,
          "ax": 0,
          "ay": 30,
          "font": {
           "color": "red"
          },
          "showarrow": true,
          "text": "short",
          "x": 333000,
          "y": 228.5
         },
         {
          "arrowcolor": "green",
          "arrowhead": 1,
          "ax": 0,
          "ay": -30,
          "font": {
           "color": "green"
          },
          "showarrow": true,
          "text": "long",
          "x": 351900,
          "y": 172
         },
         {
          "arrowcolor": "red",
          "arrowhead": 1,
          "ax": 0,
          "ay": 30,
          "font": {
           "color": "red"
          },
          "showarrow": true,
          "text": "short",
          "x": 374300,
          "y": 184.5
         },
         {
          "arrowcolor": "green",
          "arrowhead": 1,
          "ax": 0,
          "ay": -30,
          "font": {
           "color": "green"
          },
          "showarrow": true,
          "text": "long",
          "x": 393900,
          "y": 171.5
         },
         {
          "arrowcolor": "red",
          "arrowhead": 1,
          "ax": 0,
          "ay": 30,
          "font": {
           "color": "red"
          },
          "showarrow": true,
          "text": "short",
          "x": 403000,
          "y": 179
         },
         {
          "arrowcolor": "green",
          "arrowhead": 1,
          "ax": 0,
          "ay": -30,
          "font": {
           "color": "green"
          },
          "showarrow": true,
          "text": "long",
          "x": 407700,
          "y": 193.5
         },
         {
          "arrowcolor": "red",
          "arrowhead": 1,
          "ax": 0,
          "ay": 30,
          "font": {
           "color": "red"
          },
          "showarrow": true,
          "text": "short",
          "x": 409400,
          "y": 220.5
         },
         {
          "arrowcolor": "green",
          "arrowhead": 1,
          "ax": 0,
          "ay": -30,
          "font": {
           "color": "green"
          },
          "showarrow": true,
          "text": "long",
          "x": 423300,
          "y": 172.5
         },
         {
          "arrowcolor": "red",
          "arrowhead": 1,
          "ax": 0,
          "ay": 30,
          "font": {
           "color": "red"
          },
          "showarrow": true,
          "text": "short",
          "x": 435500,
          "y": 144
         },
         {
          "arrowcolor": "green",
          "arrowhead": 1,
          "ax": 0,
          "ay": -30,
          "font": {
           "color": "green"
          },
          "showarrow": true,
          "text": "long",
          "x": 441900,
          "y": 171.5
         },
         {
          "arrowcolor": "red",
          "arrowhead": 1,
          "ax": 0,
          "ay": 30,
          "font": {
           "color": "red"
          },
          "showarrow": true,
          "text": "short",
          "x": 459000,
          "y": 186.5
         },
         {
          "arrowcolor": "green",
          "arrowhead": 1,
          "ax": 0,
          "ay": -30,
          "font": {
           "color": "green"
          },
          "showarrow": true,
          "text": "long",
          "x": 460600,
          "y": 211
         },
         {
          "arrowcolor": "red",
          "arrowhead": 1,
          "ax": 0,
          "ay": 30,
          "font": {
           "color": "red"
          },
          "showarrow": true,
          "text": "short",
          "x": 463100,
          "y": 241
         },
         {
          "arrowcolor": "green",
          "arrowhead": 1,
          "ax": 0,
          "ay": -30,
          "font": {
           "color": "green"
          },
          "showarrow": true,
          "text": "long",
          "x": 479700,
          "y": 226.5
         },
         {
          "arrowcolor": "red",
          "arrowhead": 1,
          "ax": 0,
          "ay": 30,
          "font": {
           "color": "red"
          },
          "showarrow": true,
          "text": "short",
          "x": 485300,
          "y": 229.5
         },
         {
          "arrowcolor": "green",
          "arrowhead": 1,
          "ax": 0,
          "ay": -30,
          "font": {
           "color": "green"
          },
          "showarrow": true,
          "text": "long",
          "x": 496000,
          "y": 219.5
         },
         {
          "arrowcolor": "red",
          "arrowhead": 1,
          "ax": 0,
          "ay": 30,
          "font": {
           "color": "red"
          },
          "showarrow": true,
          "text": "short",
          "x": 501100,
          "y": 240.5
         },
         {
          "arrowcolor": "green",
          "arrowhead": 1,
          "ax": 0,
          "ay": -30,
          "font": {
           "color": "green"
          },
          "showarrow": true,
          "text": "long",
          "x": 506700,
          "y": 248
         },
         {
          "arrowcolor": "red",
          "arrowhead": 1,
          "ax": 0,
          "ay": 30,
          "font": {
           "color": "red"
          },
          "showarrow": true,
          "text": "short",
          "x": 528500,
          "y": 185.5
         },
         {
          "arrowcolor": "green",
          "arrowhead": 1,
          "ax": 0,
          "ay": -30,
          "font": {
           "color": "green"
          },
          "showarrow": true,
          "text": "long",
          "x": 545800,
          "y": 180.5
         },
         {
          "arrowcolor": "red",
          "arrowhead": 1,
          "ax": 0,
          "ay": 30,
          "font": {
           "color": "red"
          },
          "showarrow": true,
          "text": "short",
          "x": 560900,
          "y": 158.5
         },
         {
          "arrowcolor": "green",
          "arrowhead": 1,
          "ax": 0,
          "ay": -30,
          "font": {
           "color": "green"
          },
          "showarrow": true,
          "text": "long",
          "x": 565700,
          "y": 180.5
         },
         {
          "arrowcolor": "red",
          "arrowhead": 1,
          "ax": 0,
          "ay": 30,
          "font": {
           "color": "red"
          },
          "showarrow": true,
          "text": "short",
          "x": 568100,
          "y": 201
         },
         {
          "arrowcolor": "green",
          "arrowhead": 1,
          "ax": 0,
          "ay": -30,
          "font": {
           "color": "green"
          },
          "showarrow": true,
          "text": "long",
          "x": 583900,
          "y": 171
         },
         {
          "arrowcolor": "red",
          "arrowhead": 1,
          "ax": 0,
          "ay": 30,
          "font": {
           "color": "red"
          },
          "showarrow": true,
          "text": "short",
          "x": 587400,
          "y": 194
         },
         {
          "arrowcolor": "green",
          "arrowhead": 1,
          "ax": 0,
          "ay": -30,
          "font": {
           "color": "green"
          },
          "showarrow": true,
          "text": "long",
          "x": 589200,
          "y": 221.5
         },
         {
          "arrowcolor": "red",
          "arrowhead": 1,
          "ax": 0,
          "ay": 30,
          "font": {
           "color": "red"
          },
          "showarrow": true,
          "text": "short",
          "x": 598100,
          "y": 202.5
         },
         {
          "arrowcolor": "green",
          "arrowhead": 1,
          "ax": 0,
          "ay": -30,
          "font": {
           "color": "green"
          },
          "showarrow": true,
          "text": "long",
          "x": 603100,
          "y": 209
         },
         {
          "arrowcolor": "red",
          "arrowhead": 1,
          "ax": 0,
          "ay": 30,
          "font": {
           "color": "red"
          },
          "showarrow": true,
          "text": "short",
          "x": 607700,
          "y": 219.5
         },
         {
          "arrowcolor": "green",
          "arrowhead": 1,
          "ax": 0,
          "ay": -30,
          "font": {
           "color": "green"
          },
          "showarrow": true,
          "text": "long",
          "x": 622300,
          "y": 155.5
         },
         {
          "arrowcolor": "red",
          "arrowhead": 1,
          "ax": 0,
          "ay": 30,
          "font": {
           "color": "red"
          },
          "showarrow": true,
          "text": "short",
          "x": 650400,
          "y": 92
         },
         {
          "arrowcolor": "green",
          "arrowhead": 1,
          "ax": 0,
          "ay": -30,
          "font": {
           "color": "green"
          },
          "showarrow": true,
          "text": "long",
          "x": 656800,
          "y": 109.5
         },
         {
          "arrowcolor": "red",
          "arrowhead": 1,
          "ax": 0,
          "ay": 30,
          "font": {
           "color": "red"
          },
          "showarrow": true,
          "text": "short",
          "x": 675900,
          "y": 108.5
         },
         {
          "arrowcolor": "green",
          "arrowhead": 1,
          "ax": 0,
          "ay": -30,
          "font": {
           "color": "green"
          },
          "showarrow": true,
          "text": "long",
          "x": 680000,
          "y": 130.5
         },
         {
          "arrowcolor": "red",
          "arrowhead": 1,
          "ax": 0,
          "ay": 30,
          "font": {
           "color": "red"
          },
          "showarrow": true,
          "text": "short",
          "x": 690300,
          "y": 124
         },
         {
          "arrowcolor": "green",
          "arrowhead": 1,
          "ax": 0,
          "ay": -30,
          "font": {
           "color": "green"
          },
          "showarrow": true,
          "text": "long",
          "x": 693100,
          "y": 146.5
         },
         {
          "arrowcolor": "red",
          "arrowhead": 1,
          "ax": 0,
          "ay": 30,
          "font": {
           "color": "red"
          },
          "showarrow": true,
          "text": "short",
          "x": 712400,
          "y": 67.5
         },
         {
          "arrowcolor": "green",
          "arrowhead": 1,
          "ax": 0,
          "ay": -30,
          "font": {
           "color": "green"
          },
          "showarrow": true,
          "text": "long",
          "x": 728600,
          "y": 57
         },
         {
          "arrowcolor": "red",
          "arrowhead": 1,
          "ax": 0,
          "ay": 30,
          "font": {
           "color": "red"
          },
          "showarrow": true,
          "text": "short",
          "x": 731600,
          "y": 85
         },
         {
          "arrowcolor": "green",
          "arrowhead": 1,
          "ax": 0,
          "ay": -30,
          "font": {
           "color": "green"
          },
          "showarrow": true,
          "text": "long",
          "x": 746100,
          "y": 53.5
         },
         {
          "arrowcolor": "red",
          "arrowhead": 1,
          "ax": 0,
          "ay": 30,
          "font": {
           "color": "red"
          },
          "showarrow": true,
          "text": "short",
          "x": 752200,
          "y": 80
         },
         {
          "arrowcolor": "green",
          "arrowhead": 1,
          "ax": 0,
          "ay": -30,
          "font": {
           "color": "green"
          },
          "showarrow": true,
          "text": "long",
          "x": 764500,
          "y": 73.5
         },
         {
          "arrowcolor": "red",
          "arrowhead": 1,
          "ax": 0,
          "ay": 30,
          "font": {
           "color": "red"
          },
          "showarrow": true,
          "text": "short",
          "x": 779900,
          "y": 41.5
         },
         {
          "arrowcolor": "green",
          "arrowhead": 1,
          "ax": 0,
          "ay": -30,
          "font": {
           "color": "green"
          },
          "showarrow": true,
          "text": "long",
          "x": 785100,
          "y": 42.5
         },
         {
          "arrowcolor": "red",
          "arrowhead": 1,
          "ax": 0,
          "ay": 30,
          "font": {
           "color": "red"
          },
          "showarrow": true,
          "text": "short",
          "x": 789300,
          "y": 62.5
         },
         {
          "arrowcolor": "green",
          "arrowhead": 1,
          "ax": 0,
          "ay": -30,
          "font": {
           "color": "green"
          },
          "showarrow": true,
          "text": "long",
          "x": 796600,
          "y": 45.5
         },
         {
          "arrowcolor": "red",
          "arrowhead": 1,
          "ax": 0,
          "ay": 30,
          "font": {
           "color": "red"
          },
          "showarrow": true,
          "text": "short",
          "x": 802000,
          "y": 60
         },
         {
          "arrowcolor": "green",
          "arrowhead": 1,
          "ax": 0,
          "ay": -30,
          "font": {
           "color": "green"
          },
          "showarrow": true,
          "text": "long",
          "x": 851800,
          "y": -117.5
         },
         {
          "arrowcolor": "red",
          "arrowhead": 1,
          "ax": 0,
          "ay": 30,
          "font": {
           "color": "red"
          },
          "showarrow": true,
          "text": "short",
          "x": 875700,
          "y": -157
         },
         {
          "arrowcolor": "green",
          "arrowhead": 1,
          "ax": 0,
          "ay": -30,
          "font": {
           "color": "green"
          },
          "showarrow": true,
          "text": "long",
          "x": 882600,
          "y": -150
         },
         {
          "arrowcolor": "red",
          "arrowhead": 1,
          "ax": 0,
          "ay": 30,
          "font": {
           "color": "red"
          },
          "showarrow": true,
          "text": "short",
          "x": 891800,
          "y": -158
         },
         {
          "arrowcolor": "green",
          "arrowhead": 1,
          "ax": 0,
          "ay": -30,
          "font": {
           "color": "green"
          },
          "showarrow": true,
          "text": "long",
          "x": 900700,
          "y": -131
         },
         {
          "arrowcolor": "red",
          "arrowhead": 1,
          "ax": 0,
          "ay": 30,
          "font": {
           "color": "red"
          },
          "showarrow": true,
          "text": "short",
          "x": 905300,
          "y": -109
         },
         {
          "arrowcolor": "green",
          "arrowhead": 1,
          "ax": 0,
          "ay": -30,
          "font": {
           "color": "green"
          },
          "showarrow": true,
          "text": "long",
          "x": 916200,
          "y": -97.5
         },
         {
          "arrowcolor": "red",
          "arrowhead": 1,
          "ax": 0,
          "ay": 30,
          "font": {
           "color": "red"
          },
          "showarrow": true,
          "text": "short",
          "x": 920600,
          "y": -83.5
         },
         {
          "arrowcolor": "green",
          "arrowhead": 1,
          "ax": 0,
          "ay": -30,
          "font": {
           "color": "green"
          },
          "showarrow": true,
          "text": "long",
          "x": 927000,
          "y": -64.5
         },
         {
          "arrowcolor": "red",
          "arrowhead": 1,
          "ax": 0,
          "ay": 30,
          "font": {
           "color": "red"
          },
          "showarrow": true,
          "text": "short",
          "x": 931600,
          "y": -44.5
         },
         {
          "arrowcolor": "green",
          "arrowhead": 1,
          "ax": 0,
          "ay": -30,
          "font": {
           "color": "green"
          },
          "showarrow": true,
          "text": "long",
          "x": 934200,
          "y": -13.5
         },
         {
          "arrowcolor": "red",
          "arrowhead": 1,
          "ax": 0,
          "ay": 30,
          "font": {
           "color": "red"
          },
          "showarrow": true,
          "text": "short",
          "x": 935900,
          "y": 29.5
         },
         {
          "arrowcolor": "green",
          "arrowhead": 1,
          "ax": 0,
          "ay": -30,
          "font": {
           "color": "green"
          },
          "showarrow": true,
          "text": "long",
          "x": 948600,
          "y": -18
         },
         {
          "arrowcolor": "red",
          "arrowhead": 1,
          "ax": 0,
          "ay": 30,
          "font": {
           "color": "red"
          },
          "showarrow": true,
          "text": "short",
          "x": 952200,
          "y": 3.5
         },
         {
          "arrowcolor": "green",
          "arrowhead": 1,
          "ax": 0,
          "ay": -30,
          "font": {
           "color": "green"
          },
          "showarrow": true,
          "text": "long",
          "x": 962000,
          "y": -42
         },
         {
          "arrowcolor": "red",
          "arrowhead": 1,
          "ax": 0,
          "ay": 30,
          "font": {
           "color": "red"
          },
          "showarrow": true,
          "text": "short",
          "x": 964800,
          "y": -20.5
         },
         {
          "arrowcolor": "green",
          "arrowhead": 1,
          "ax": 0,
          "ay": -30,
          "font": {
           "color": "green"
          },
          "showarrow": true,
          "text": "long",
          "x": 967600,
          "y": 1.5
         },
         {
          "arrowcolor": "red",
          "arrowhead": 1,
          "ax": 0,
          "ay": 30,
          "font": {
           "color": "red"
          },
          "showarrow": true,
          "text": "short",
          "x": 976100,
          "y": -27.5
         },
         {
          "arrowcolor": "green",
          "arrowhead": 1,
          "ax": 0,
          "ay": -30,
          "font": {
           "color": "green"
          },
          "showarrow": true,
          "text": "long",
          "x": 980900,
          "y": -18
         },
         {
          "arrowcolor": "red",
          "arrowhead": 1,
          "ax": 0,
          "ay": 30,
          "font": {
           "color": "red"
          },
          "showarrow": true,
          "text": "short",
          "x": 986200,
          "y": -14.5
         },
         {
          "arrowcolor": "green",
          "arrowhead": 1,
          "ax": 0,
          "ay": -30,
          "font": {
           "color": "green"
          },
          "showarrow": true,
          "text": "long",
          "x": 993500,
          "y": -17.5
         },
         {
          "arrowcolor": "red",
          "arrowhead": 1,
          "ax": 0,
          "ay": 30,
          "font": {
           "color": "red"
          },
          "showarrow": true,
          "text": "short",
          "x": 1008800,
          "y": -37.5
         },
         {
          "arrowcolor": "green",
          "arrowhead": 1,
          "ax": 0,
          "ay": -30,
          "font": {
           "color": "green"
          },
          "showarrow": true,
          "text": "long",
          "x": 1011100,
          "y": -13
         },
         {
          "arrowcolor": "red",
          "arrowhead": 1,
          "ax": 0,
          "ay": 30,
          "font": {
           "color": "red"
          },
          "showarrow": true,
          "text": "short",
          "x": 1015800,
          "y": 10.5
         },
         {
          "arrowcolor": "green",
          "arrowhead": 1,
          "ax": 0,
          "ay": -30,
          "font": {
           "color": "green"
          },
          "showarrow": true,
          "text": "long",
          "x": 1023000,
          "y": 8.5
         },
         {
          "arrowcolor": "red",
          "arrowhead": 1,
          "ax": 0,
          "ay": 30,
          "font": {
           "color": "red"
          },
          "showarrow": true,
          "text": "short",
          "x": 1027400,
          "y": 41.5
         },
         {
          "arrowcolor": "green",
          "arrowhead": 1,
          "ax": 0,
          "ay": -30,
          "font": {
           "color": "green"
          },
          "showarrow": true,
          "text": "long",
          "x": 1030500,
          "y": 65.5
         },
         {
          "arrowcolor": "red",
          "arrowhead": 1,
          "ax": 0,
          "ay": 30,
          "font": {
           "color": "red"
          },
          "showarrow": true,
          "text": "short",
          "x": 1042600,
          "y": 53.5
         },
         {
          "arrowcolor": "green",
          "arrowhead": 1,
          "ax": 0,
          "ay": -30,
          "font": {
           "color": "green"
          },
          "showarrow": true,
          "text": "long",
          "x": 1052500,
          "y": 49.5
         },
         {
          "arrowcolor": "red",
          "arrowhead": 1,
          "ax": 0,
          "ay": 30,
          "font": {
           "color": "red"
          },
          "showarrow": true,
          "text": "short",
          "x": 1066100,
          "y": 21
         },
         {
          "arrowcolor": "green",
          "arrowhead": 1,
          "ax": 0,
          "ay": -30,
          "font": {
           "color": "green"
          },
          "showarrow": true,
          "text": "long",
          "x": 1081300,
          "y": 11.5
         },
         {
          "arrowcolor": "red",
          "arrowhead": 1,
          "ax": 0,
          "ay": 30,
          "font": {
           "color": "red"
          },
          "showarrow": true,
          "text": "short",
          "x": 1088800,
          "y": 13.5
         },
         {
          "arrowcolor": "green",
          "arrowhead": 1,
          "ax": 0,
          "ay": -30,
          "font": {
           "color": "green"
          },
          "showarrow": true,
          "text": "long",
          "x": 1096900,
          "y": 5
         },
         {
          "arrowcolor": "red",
          "arrowhead": 1,
          "ax": 0,
          "ay": 30,
          "font": {
           "color": "red"
          },
          "showarrow": true,
          "text": "short",
          "x": 1103100,
          "y": 31
         },
         {
          "arrowcolor": "green",
          "arrowhead": 1,
          "ax": 0,
          "ay": -30,
          "font": {
           "color": "green"
          },
          "showarrow": true,
          "text": "long",
          "x": 1107500,
          "y": 56.5
         },
         {
          "arrowcolor": "red",
          "arrowhead": 1,
          "ax": 0,
          "ay": 30,
          "font": {
           "color": "red"
          },
          "showarrow": true,
          "text": "short",
          "x": 1121900,
          "y": 35.5
         },
         {
          "arrowcolor": "green",
          "arrowhead": 1,
          "ax": 0,
          "ay": -30,
          "font": {
           "color": "green"
          },
          "showarrow": true,
          "text": "long",
          "x": 1133300,
          "y": 38.5
         },
         {
          "arrowcolor": "red",
          "arrowhead": 1,
          "ax": 0,
          "ay": 30,
          "font": {
           "color": "red"
          },
          "showarrow": true,
          "text": "short",
          "x": 1144100,
          "y": 13
         },
         {
          "arrowcolor": "green",
          "arrowhead": 1,
          "ax": 0,
          "ay": -30,
          "font": {
           "color": "green"
          },
          "showarrow": true,
          "text": "long",
          "x": 1151600,
          "y": 41.5
         },
         {
          "arrowcolor": "red",
          "arrowhead": 1,
          "ax": 0,
          "ay": 30,
          "font": {
           "color": "red"
          },
          "showarrow": true,
          "text": "short",
          "x": 1164700,
          "y": 18
         },
         {
          "arrowcolor": "green",
          "arrowhead": 1,
          "ax": 0,
          "ay": -30,
          "font": {
           "color": "green"
          },
          "showarrow": true,
          "text": "long",
          "x": 1167500,
          "y": 34
         },
         {
          "arrowcolor": "red",
          "arrowhead": 1,
          "ax": 0,
          "ay": 30,
          "font": {
           "color": "red"
          },
          "showarrow": true,
          "text": "short",
          "x": 1174700,
          "y": 41.5
         },
         {
          "arrowcolor": "green",
          "arrowhead": 1,
          "ax": 0,
          "ay": -30,
          "font": {
           "color": "green"
          },
          "showarrow": true,
          "text": "long",
          "x": 1181200,
          "y": 30.5
         },
         {
          "arrowcolor": "red",
          "arrowhead": 1,
          "ax": 0,
          "ay": 30,
          "font": {
           "color": "red"
          },
          "showarrow": true,
          "text": "short",
          "x": 1200300,
          "y": 18.5
         },
         {
          "arrowcolor": "green",
          "arrowhead": 1,
          "ax": 0,
          "ay": -30,
          "font": {
           "color": "green"
          },
          "showarrow": true,
          "text": "long",
          "x": 1207000,
          "y": 39.5
         },
         {
          "arrowcolor": "red",
          "arrowhead": 1,
          "ax": 0,
          "ay": 30,
          "font": {
           "color": "red"
          },
          "showarrow": true,
          "text": "short",
          "x": 1226900,
          "y": 35
         },
         {
          "arrowcolor": "green",
          "arrowhead": 1,
          "ax": 0,
          "ay": -30,
          "font": {
           "color": "green"
          },
          "showarrow": true,
          "text": "long",
          "x": 1230300,
          "y": 68
         },
         {
          "arrowcolor": "red",
          "arrowhead": 1,
          "ax": 0,
          "ay": 30,
          "font": {
           "color": "red"
          },
          "showarrow": true,
          "text": "short",
          "x": 1238300,
          "y": 88
         },
         {
          "arrowcolor": "green",
          "arrowhead": 1,
          "ax": 0,
          "ay": -30,
          "font": {
           "color": "green"
          },
          "showarrow": true,
          "text": "long",
          "x": 1254000,
          "y": 75
         },
         {
          "arrowcolor": "red",
          "arrowhead": 1,
          "ax": 0,
          "ay": 30,
          "font": {
           "color": "red"
          },
          "showarrow": true,
          "text": "short",
          "x": 1258600,
          "y": 104
         },
         {
          "arrowcolor": "green",
          "arrowhead": 1,
          "ax": 0,
          "ay": -30,
          "font": {
           "color": "green"
          },
          "showarrow": true,
          "text": "long",
          "x": 1260800,
          "y": 127
         },
         {
          "arrowcolor": "red",
          "arrowhead": 1,
          "ax": 0,
          "ay": 30,
          "font": {
           "color": "red"
          },
          "showarrow": true,
          "text": "short",
          "x": 1266900,
          "y": 148.5
         },
         {
          "arrowcolor": "green",
          "arrowhead": 1,
          "ax": 0,
          "ay": -30,
          "font": {
           "color": "green"
          },
          "showarrow": true,
          "text": "long",
          "x": 1282700,
          "y": 146
         },
         {
          "arrowcolor": "red",
          "arrowhead": 1,
          "ax": 0,
          "ay": 30,
          "font": {
           "color": "red"
          },
          "showarrow": true,
          "text": "short",
          "x": 1285300,
          "y": 168
         },
         {
          "arrowcolor": "green",
          "arrowhead": 1,
          "ax": 0,
          "ay": -30,
          "font": {
           "color": "green"
          },
          "showarrow": true,
          "text": "long",
          "x": 1292200,
          "y": 183.5
         },
         {
          "arrowcolor": "red",
          "arrowhead": 1,
          "ax": 0,
          "ay": 30,
          "font": {
           "color": "red"
          },
          "showarrow": true,
          "text": "short",
          "x": 1300200,
          "y": 198.5
         },
         {
          "arrowcolor": "green",
          "arrowhead": 1,
          "ax": 0,
          "ay": -30,
          "font": {
           "color": "green"
          },
          "showarrow": true,
          "text": "long",
          "x": 1301900,
          "y": 230.5
         },
         {
          "arrowcolor": "red",
          "arrowhead": 1,
          "ax": 0,
          "ay": 30,
          "font": {
           "color": "red"
          },
          "showarrow": true,
          "text": "short",
          "x": 1314300,
          "y": 215.5
         },
         {
          "arrowcolor": "green",
          "arrowhead": 1,
          "ax": 0,
          "ay": -30,
          "font": {
           "color": "green"
          },
          "showarrow": true,
          "text": "long",
          "x": 1318000,
          "y": 227
         },
         {
          "arrowcolor": "red",
          "arrowhead": 1,
          "ax": 0,
          "ay": 30,
          "font": {
           "color": "red"
          },
          "showarrow": true,
          "text": "short",
          "x": 1322900,
          "y": 251
         },
         {
          "arrowcolor": "green",
          "arrowhead": 1,
          "ax": 0,
          "ay": -30,
          "font": {
           "color": "green"
          },
          "showarrow": true,
          "text": "long",
          "x": 1326900,
          "y": 270.5
         },
         {
          "arrowcolor": "red",
          "arrowhead": 1,
          "ax": 0,
          "ay": 30,
          "font": {
           "color": "red"
          },
          "showarrow": true,
          "text": "short",
          "x": 1337800,
          "y": 278.5
         },
         {
          "arrowcolor": "green",
          "arrowhead": 1,
          "ax": 0,
          "ay": -30,
          "font": {
           "color": "green"
          },
          "showarrow": true,
          "text": "long",
          "x": 1359200,
          "y": 263.5
         },
         {
          "arrowcolor": "red",
          "arrowhead": 1,
          "ax": 0,
          "ay": 30,
          "font": {
           "color": "red"
          },
          "showarrow": true,
          "text": "short",
          "x": 1362100,
          "y": 287.5
         },
         {
          "arrowcolor": "green",
          "arrowhead": 1,
          "ax": 0,
          "ay": -30,
          "font": {
           "color": "green"
          },
          "showarrow": true,
          "text": "long",
          "x": 1403000,
          "y": 194
         },
         {
          "arrowcolor": "red",
          "arrowhead": 1,
          "ax": 0,
          "ay": 30,
          "font": {
           "color": "red"
          },
          "showarrow": true,
          "text": "short",
          "x": 1424000,
          "y": 162
         },
         {
          "arrowcolor": "green",
          "arrowhead": 1,
          "ax": 0,
          "ay": -30,
          "font": {
           "color": "green"
          },
          "showarrow": true,
          "text": "long",
          "x": 1429300,
          "y": 169.5
         },
         {
          "arrowcolor": "red",
          "arrowhead": 1,
          "ax": 0,
          "ay": 30,
          "font": {
           "color": "red"
          },
          "showarrow": true,
          "text": "short",
          "x": 1433500,
          "y": 187
         },
         {
          "arrowcolor": "green",
          "arrowhead": 1,
          "ax": 0,
          "ay": -30,
          "font": {
           "color": "green"
          },
          "showarrow": true,
          "text": "long",
          "x": 1437000,
          "y": 211.5
         },
         {
          "arrowcolor": "red",
          "arrowhead": 1,
          "ax": 0,
          "ay": 30,
          "font": {
           "color": "red"
          },
          "showarrow": true,
          "text": "short",
          "x": 1465500,
          "y": 129.5
         },
         {
          "arrowcolor": "green",
          "arrowhead": 1,
          "ax": 0,
          "ay": -30,
          "font": {
           "color": "green"
          },
          "showarrow": true,
          "text": "long",
          "x": 1471000,
          "y": 142
         },
         {
          "arrowcolor": "red",
          "arrowhead": 1,
          "ax": 0,
          "ay": 30,
          "font": {
           "color": "red"
          },
          "showarrow": true,
          "text": "short",
          "x": 1482500,
          "y": 143.5
         },
         {
          "arrowcolor": "green",
          "arrowhead": 1,
          "ax": 0,
          "ay": -30,
          "font": {
           "color": "green"
          },
          "showarrow": true,
          "text": "long",
          "x": 1493700,
          "y": 139.5
         },
         {
          "arrowcolor": "red",
          "arrowhead": 1,
          "ax": 0,
          "ay": 30,
          "font": {
           "color": "red"
          },
          "showarrow": true,
          "text": "short",
          "x": 1501200,
          "y": 140
         },
         {
          "arrowcolor": "green",
          "arrowhead": 1,
          "ax": 0,
          "ay": -30,
          "font": {
           "color": "green"
          },
          "showarrow": true,
          "text": "long",
          "x": 1522500,
          "y": 86
         },
         {
          "arrowcolor": "red",
          "arrowhead": 1,
          "ax": 0,
          "ay": 30,
          "font": {
           "color": "red"
          },
          "showarrow": true,
          "text": "short",
          "x": 1533200,
          "y": 82
         },
         {
          "arrowcolor": "green",
          "arrowhead": 1,
          "ax": 0,
          "ay": -30,
          "font": {
           "color": "green"
          },
          "showarrow": true,
          "text": "long",
          "x": 1541400,
          "y": 85.5
         },
         {
          "arrowcolor": "red",
          "arrowhead": 1,
          "ax": 0,
          "ay": 30,
          "font": {
           "color": "red"
          },
          "showarrow": true,
          "text": "short",
          "x": 1545800,
          "y": 109.5
         },
         {
          "arrowcolor": "green",
          "arrowhead": 1,
          "ax": 0,
          "ay": -30,
          "font": {
           "color": "green"
          },
          "showarrow": true,
          "text": "long",
          "x": 1548100,
          "y": 144.5
         },
         {
          "arrowcolor": "red",
          "arrowhead": 1,
          "ax": 0,
          "ay": 30,
          "font": {
           "color": "red"
          },
          "showarrow": true,
          "text": "short",
          "x": 1570100,
          "y": 120
         },
         {
          "arrowcolor": "green",
          "arrowhead": 1,
          "ax": 0,
          "ay": -30,
          "font": {
           "color": "green"
          },
          "showarrow": true,
          "text": "long",
          "x": 1581800,
          "y": 95.5
         },
         {
          "arrowcolor": "red",
          "arrowhead": 1,
          "ax": 0,
          "ay": 30,
          "font": {
           "color": "red"
          },
          "showarrow": true,
          "text": "short",
          "x": 1597900,
          "y": 58.5
         },
         {
          "arrowcolor": "green",
          "arrowhead": 1,
          "ax": 0,
          "ay": -30,
          "font": {
           "color": "green"
          },
          "showarrow": true,
          "text": "long",
          "x": 1602700,
          "y": 70.5
         },
         {
          "arrowcolor": "red",
          "arrowhead": 1,
          "ax": 0,
          "ay": 30,
          "font": {
           "color": "red"
          },
          "showarrow": true,
          "text": "short",
          "x": 1611200,
          "y": 64.5
         },
         {
          "arrowcolor": "green",
          "arrowhead": 1,
          "ax": 0,
          "ay": -30,
          "font": {
           "color": "green"
          },
          "showarrow": true,
          "text": "long",
          "x": 1621400,
          "y": 57
         },
         {
          "arrowcolor": "red",
          "arrowhead": 1,
          "ax": 0,
          "ay": 30,
          "font": {
           "color": "red"
          },
          "showarrow": true,
          "text": "short",
          "x": 1630900,
          "y": 45.5
         },
         {
          "arrowcolor": "green",
          "arrowhead": 1,
          "ax": 0,
          "ay": -30,
          "font": {
           "color": "green"
          },
          "showarrow": true,
          "text": "long",
          "x": 1634300,
          "y": 67
         },
         {
          "arrowcolor": "red",
          "arrowhead": 1,
          "ax": 0,
          "ay": 30,
          "font": {
           "color": "red"
          },
          "showarrow": true,
          "text": "short",
          "x": 1637400,
          "y": 94
         },
         {
          "arrowcolor": "green",
          "arrowhead": 1,
          "ax": 0,
          "ay": -30,
          "font": {
           "color": "green"
          },
          "showarrow": true,
          "text": "long",
          "x": 1643000,
          "y": 108.5
         },
         {
          "arrowcolor": "red",
          "arrowhead": 1,
          "ax": 0,
          "ay": 30,
          "font": {
           "color": "red"
          },
          "showarrow": true,
          "text": "short",
          "x": 1663500,
          "y": 111.5
         },
         {
          "arrowcolor": "green",
          "arrowhead": 1,
          "ax": 0,
          "ay": -30,
          "font": {
           "color": "green"
          },
          "showarrow": true,
          "text": "long",
          "x": 1669000,
          "y": 129
         },
         {
          "arrowcolor": "red",
          "arrowhead": 1,
          "ax": 0,
          "ay": 30,
          "font": {
           "color": "red"
          },
          "showarrow": true,
          "text": "short",
          "x": 1686800,
          "y": 80
         },
         {
          "arrowcolor": "green",
          "arrowhead": 1,
          "ax": 0,
          "ay": -30,
          "font": {
           "color": "green"
          },
          "showarrow": true,
          "text": "long",
          "x": 1692800,
          "y": 100.5
         },
         {
          "arrowcolor": "red",
          "arrowhead": 1,
          "ax": 0,
          "ay": 30,
          "font": {
           "color": "red"
          },
          "showarrow": true,
          "text": "short",
          "x": 1712500,
          "y": 64
         },
         {
          "arrowcolor": "green",
          "arrowhead": 1,
          "ax": 0,
          "ay": -30,
          "font": {
           "color": "green"
          },
          "showarrow": true,
          "text": "long",
          "x": 1717300,
          "y": 76
         },
         {
          "arrowcolor": "red",
          "arrowhead": 1,
          "ax": 0,
          "ay": 30,
          "font": {
           "color": "red"
          },
          "showarrow": true,
          "text": "short",
          "x": 1718100,
          "y": 103
         },
         {
          "arrowcolor": "green",
          "arrowhead": 1,
          "ax": 0,
          "ay": -30,
          "font": {
           "color": "green"
          },
          "showarrow": true,
          "text": "long",
          "x": 1722700,
          "y": 127.5
         },
         {
          "arrowcolor": "red",
          "arrowhead": 1,
          "ax": 0,
          "ay": 30,
          "font": {
           "color": "red"
          },
          "showarrow": true,
          "text": "short",
          "x": 1726000,
          "y": 150.5
         },
         {
          "arrowcolor": "green",
          "arrowhead": 1,
          "ax": 0,
          "ay": -30,
          "font": {
           "color": "green"
          },
          "showarrow": true,
          "text": "long",
          "x": 1740700,
          "y": 125.5
         },
         {
          "arrowcolor": "red",
          "arrowhead": 1,
          "ax": 0,
          "ay": 30,
          "font": {
           "color": "red"
          },
          "showarrow": true,
          "text": "short",
          "x": 1744000,
          "y": 148.5
         },
         {
          "arrowcolor": "green",
          "arrowhead": 1,
          "ax": 0,
          "ay": -30,
          "font": {
           "color": "green"
          },
          "showarrow": true,
          "text": "long",
          "x": 1746900,
          "y": 168
         },
         {
          "arrowcolor": "red",
          "arrowhead": 1,
          "ax": 0,
          "ay": 30,
          "font": {
           "color": "red"
          },
          "showarrow": true,
          "text": "short",
          "x": 1754100,
          "y": 178.5
         },
         {
          "arrowcolor": "green",
          "arrowhead": 1,
          "ax": 0,
          "ay": -30,
          "font": {
           "color": "green"
          },
          "showarrow": true,
          "text": "long",
          "x": 1763400,
          "y": 169
         },
         {
          "arrowcolor": "red",
          "arrowhead": 1,
          "ax": 0,
          "ay": 30,
          "font": {
           "color": "red"
          },
          "showarrow": true,
          "text": "short",
          "x": 1766200,
          "y": 197
         },
         {
          "arrowcolor": "green",
          "arrowhead": 1,
          "ax": 0,
          "ay": -30,
          "font": {
           "color": "green"
          },
          "showarrow": true,
          "text": "long",
          "x": 1771300,
          "y": 203
         },
         {
          "arrowcolor": "red",
          "arrowhead": 1,
          "ax": 0,
          "ay": 30,
          "font": {
           "color": "red"
          },
          "showarrow": true,
          "text": "short",
          "x": 1778200,
          "y": 213
         },
         {
          "arrowcolor": "green",
          "arrowhead": 1,
          "ax": 0,
          "ay": -30,
          "font": {
           "color": "green"
          },
          "showarrow": true,
          "text": "long",
          "x": 1778700,
          "y": 229.5
         },
         {
          "arrowcolor": "red",
          "arrowhead": 1,
          "ax": 0,
          "ay": 30,
          "font": {
           "color": "red"
          },
          "showarrow": true,
          "text": "short",
          "x": 1780100,
          "y": 247.5
         },
         {
          "arrowcolor": "green",
          "arrowhead": 1,
          "ax": 0,
          "ay": -30,
          "font": {
           "color": "green"
          },
          "showarrow": true,
          "text": "long",
          "x": 1784600,
          "y": 263
         },
         {
          "arrowcolor": "red",
          "arrowhead": 1,
          "ax": 0,
          "ay": 30,
          "font": {
           "color": "red"
          },
          "showarrow": true,
          "text": "short",
          "x": 1786200,
          "y": 286
         },
         {
          "arrowcolor": "green",
          "arrowhead": 1,
          "ax": 0,
          "ay": -30,
          "font": {
           "color": "green"
          },
          "showarrow": true,
          "text": "long",
          "x": 1805600,
          "y": 276
         },
         {
          "arrowcolor": "red",
          "arrowhead": 1,
          "ax": 0,
          "ay": 30,
          "font": {
           "color": "red"
          },
          "showarrow": true,
          "text": "short",
          "x": 1837200,
          "y": 202.5
         },
         {
          "arrowcolor": "green",
          "arrowhead": 1,
          "ax": 0,
          "ay": -30,
          "font": {
           "color": "green"
          },
          "showarrow": true,
          "text": "long",
          "x": 1842700,
          "y": 204.5
         },
         {
          "arrowcolor": "red",
          "arrowhead": 1,
          "ax": 0,
          "ay": 30,
          "font": {
           "color": "red"
          },
          "showarrow": true,
          "text": "short",
          "x": 1845400,
          "y": 228.5
         },
         {
          "arrowcolor": "green",
          "arrowhead": 1,
          "ax": 0,
          "ay": -30,
          "font": {
           "color": "green"
          },
          "showarrow": true,
          "text": "long",
          "x": 1849800,
          "y": 249
         },
         {
          "arrowcolor": "red",
          "arrowhead": 1,
          "ax": 0,
          "ay": 30,
          "font": {
           "color": "red"
          },
          "showarrow": true,
          "text": "short",
          "x": 1860700,
          "y": 264
         },
         {
          "arrowcolor": "green",
          "arrowhead": 1,
          "ax": 0,
          "ay": -30,
          "font": {
           "color": "green"
          },
          "showarrow": true,
          "text": "long",
          "x": 1864800,
          "y": 284.5
         },
         {
          "arrowcolor": "red",
          "arrowhead": 1,
          "ax": 0,
          "ay": 30,
          "font": {
           "color": "red"
          },
          "showarrow": true,
          "text": "short",
          "x": 1870100,
          "y": 299
         },
         {
          "arrowcolor": "green",
          "arrowhead": 1,
          "ax": 0,
          "ay": -30,
          "font": {
           "color": "green"
          },
          "showarrow": true,
          "text": "long",
          "x": 1876100,
          "y": 301.5
         },
         {
          "arrowcolor": "red",
          "arrowhead": 1,
          "ax": 0,
          "ay": 30,
          "font": {
           "color": "red"
          },
          "showarrow": true,
          "text": "short",
          "x": 1882700,
          "y": 284
         },
         {
          "arrowcolor": "green",
          "arrowhead": 1,
          "ax": 0,
          "ay": -30,
          "font": {
           "color": "green"
          },
          "showarrow": true,
          "text": "long",
          "x": 1886600,
          "y": 315.5
         },
         {
          "arrowcolor": "red",
          "arrowhead": 1,
          "ax": 0,
          "ay": 30,
          "font": {
           "color": "red"
          },
          "showarrow": true,
          "text": "short",
          "x": 1890000,
          "y": 345.5
         },
         {
          "arrowcolor": "green",
          "arrowhead": 1,
          "ax": 0,
          "ay": -30,
          "font": {
           "color": "green"
          },
          "showarrow": true,
          "text": "long",
          "x": 1901400,
          "y": 330.5
         },
         {
          "arrowcolor": "red",
          "arrowhead": 1,
          "ax": 0,
          "ay": 30,
          "font": {
           "color": "red"
          },
          "showarrow": true,
          "text": "short",
          "x": 1914600,
          "y": 325.5
         },
         {
          "arrowcolor": "green",
          "arrowhead": 1,
          "ax": 0,
          "ay": -30,
          "font": {
           "color": "green"
          },
          "showarrow": true,
          "text": "long",
          "x": 1934900,
          "y": 290
         },
         {
          "arrowcolor": "red",
          "arrowhead": 1,
          "ax": 0,
          "ay": 30,
          "font": {
           "color": "red"
          },
          "showarrow": true,
          "text": "short",
          "x": 1944700,
          "y": 290
         },
         {
          "arrowcolor": "green",
          "arrowhead": 1,
          "ax": 0,
          "ay": -30,
          "font": {
           "color": "green"
          },
          "showarrow": true,
          "text": "long",
          "x": 1949700,
          "y": 298
         },
         {
          "arrowcolor": "red",
          "arrowhead": 1,
          "ax": 0,
          "ay": 30,
          "font": {
           "color": "red"
          },
          "showarrow": true,
          "text": "short",
          "x": 1958600,
          "y": 292.5
         },
         {
          "arrowcolor": "green",
          "arrowhead": 1,
          "ax": 0,
          "ay": -30,
          "font": {
           "color": "green"
          },
          "showarrow": true,
          "text": "long",
          "x": 1974600,
          "y": 231.5
         },
         {
          "arrowcolor": "red",
          "arrowhead": 1,
          "ax": 0,
          "ay": 30,
          "font": {
           "color": "red"
          },
          "showarrow": true,
          "text": "short",
          "x": 1982600,
          "y": 251
         },
         {
          "arrowcolor": "green",
          "arrowhead": 1,
          "ax": 0,
          "ay": -30,
          "font": {
           "color": "green"
          },
          "showarrow": true,
          "text": "long",
          "x": 1995700,
          "y": 236
         },
         {
          "arrowcolor": "red",
          "arrowhead": 1,
          "ax": 0,
          "ay": 30,
          "font": {
           "color": "red"
          },
          "showarrow": true,
          "text": "short",
          "x": 2000600,
          "y": 266.5
         },
         {
          "arrowcolor": "green",
          "arrowhead": 1,
          "ax": 0,
          "ay": -30,
          "font": {
           "color": "green"
          },
          "showarrow": true,
          "text": "long",
          "x": 2009700,
          "y": 258.5
         },
         {
          "arrowcolor": "red",
          "arrowhead": 1,
          "ax": 0,
          "ay": 30,
          "font": {
           "color": "red"
          },
          "showarrow": true,
          "text": "short",
          "x": 2011300,
          "y": 276.5
         },
         {
          "arrowcolor": "green",
          "arrowhead": 1,
          "ax": 0,
          "ay": -30,
          "font": {
           "color": "green"
          },
          "showarrow": true,
          "text": "long",
          "x": 2014500,
          "y": 296.5
         },
         {
          "arrowcolor": "red",
          "arrowhead": 1,
          "ax": 0,
          "ay": 30,
          "font": {
           "color": "red"
          },
          "showarrow": true,
          "text": "short",
          "x": 2026600,
          "y": 299.5
         },
         {
          "arrowcolor": "green",
          "arrowhead": 1,
          "ax": 0,
          "ay": -30,
          "font": {
           "color": "green"
          },
          "showarrow": true,
          "text": "long",
          "x": 2030400,
          "y": 320
         },
         {
          "arrowcolor": "red",
          "arrowhead": 1,
          "ax": 0,
          "ay": 30,
          "font": {
           "color": "red"
          },
          "showarrow": true,
          "text": "short",
          "x": 2034900,
          "y": 354.5
         },
         {
          "arrowcolor": "green",
          "arrowhead": 1,
          "ax": 0,
          "ay": -30,
          "font": {
           "color": "green"
          },
          "showarrow": true,
          "text": "long",
          "x": 2043000,
          "y": 372.5
         },
         {
          "arrowcolor": "red",
          "arrowhead": 1,
          "ax": 0,
          "ay": 30,
          "font": {
           "color": "red"
          },
          "showarrow": true,
          "text": "short",
          "x": 2068400,
          "y": 321.5
         },
         {
          "arrowcolor": "green",
          "arrowhead": 1,
          "ax": 0,
          "ay": -30,
          "font": {
           "color": "green"
          },
          "showarrow": true,
          "text": "long",
          "x": 2081000,
          "y": 314
         },
         {
          "arrowcolor": "red",
          "arrowhead": 1,
          "ax": 0,
          "ay": 30,
          "font": {
           "color": "red"
          },
          "showarrow": true,
          "text": "short",
          "x": 2085600,
          "y": 327.5
         },
         {
          "arrowcolor": "green",
          "arrowhead": 1,
          "ax": 0,
          "ay": -30,
          "font": {
           "color": "green"
          },
          "showarrow": true,
          "text": "long",
          "x": 2090200,
          "y": 337.5
         },
         {
          "arrowcolor": "red",
          "arrowhead": 1,
          "ax": 0,
          "ay": 30,
          "font": {
           "color": "red"
          },
          "showarrow": true,
          "text": "short",
          "x": 2097900,
          "y": 356
         },
         {
          "arrowcolor": "green",
          "arrowhead": 1,
          "ax": 0,
          "ay": -30,
          "font": {
           "color": "green"
          },
          "showarrow": true,
          "text": "long",
          "x": 2103500,
          "y": 382
         },
         {
          "arrowcolor": "red",
          "arrowhead": 1,
          "ax": 0,
          "ay": 30,
          "font": {
           "color": "red"
          },
          "showarrow": true,
          "text": "short",
          "x": 2106700,
          "y": 400.5
         },
         {
          "arrowcolor": "green",
          "arrowhead": 1,
          "ax": 0,
          "ay": -30,
          "font": {
           "color": "green"
          },
          "showarrow": true,
          "text": "long",
          "x": 2120600,
          "y": 382.5
         },
         {
          "arrowcolor": "red",
          "arrowhead": 1,
          "ax": 0,
          "ay": 30,
          "font": {
           "color": "red"
          },
          "showarrow": true,
          "text": "short",
          "x": 2128900,
          "y": 382.5
         },
         {
          "arrowcolor": "green",
          "arrowhead": 1,
          "ax": 0,
          "ay": -30,
          "font": {
           "color": "green"
          },
          "showarrow": true,
          "text": "long",
          "x": 2148900,
          "y": 352
         },
         {
          "arrowcolor": "red",
          "arrowhead": 1,
          "ax": 0,
          "ay": 30,
          "font": {
           "color": "red"
          },
          "showarrow": true,
          "text": "short",
          "x": 2154100,
          "y": 357
         },
         {
          "arrowcolor": "green",
          "arrowhead": 1,
          "ax": 0,
          "ay": -30,
          "font": {
           "color": "green"
          },
          "showarrow": true,
          "text": "long",
          "x": 2174600,
          "y": 352
         },
         {
          "arrowcolor": "red",
          "arrowhead": 1,
          "ax": 0,
          "ay": 30,
          "font": {
           "color": "red"
          },
          "showarrow": true,
          "text": "short",
          "x": 2187600,
          "y": 337
         },
         {
          "arrowcolor": "green",
          "arrowhead": 1,
          "ax": 0,
          "ay": -30,
          "font": {
           "color": "green"
          },
          "showarrow": true,
          "text": "long",
          "x": 2191900,
          "y": 365
         },
         {
          "arrowcolor": "red",
          "arrowhead": 1,
          "ax": 0,
          "ay": 30,
          "font": {
           "color": "red"
          },
          "showarrow": true,
          "text": "short",
          "x": 2205700,
          "y": 334.5
         },
         {
          "arrowcolor": "green",
          "arrowhead": 1,
          "ax": 0,
          "ay": -30,
          "font": {
           "color": "green"
          },
          "showarrow": true,
          "text": "long",
          "x": 2208800,
          "y": 359.5
         },
         {
          "arrowcolor": "red",
          "arrowhead": 1,
          "ax": 0,
          "ay": 30,
          "font": {
           "color": "red"
          },
          "showarrow": true,
          "text": "short",
          "x": 2211200,
          "y": 389
         },
         {
          "arrowcolor": "green",
          "arrowhead": 1,
          "ax": 0,
          "ay": -30,
          "font": {
           "color": "green"
          },
          "showarrow": true,
          "text": "long",
          "x": 2217400,
          "y": 409.5
         },
         {
          "arrowcolor": "red",
          "arrowhead": 1,
          "ax": 0,
          "ay": 30,
          "font": {
           "color": "red"
          },
          "showarrow": true,
          "text": "short",
          "x": 2227200,
          "y": 427.5
         },
         {
          "arrowcolor": "green",
          "arrowhead": 1,
          "ax": 0,
          "ay": -30,
          "font": {
           "color": "green"
          },
          "showarrow": true,
          "text": "long",
          "x": 2239900,
          "y": 419.5
         },
         {
          "arrowcolor": "red",
          "arrowhead": 1,
          "ax": 0,
          "ay": 30,
          "font": {
           "color": "red"
          },
          "showarrow": true,
          "text": "short",
          "x": 2242500,
          "y": 441.5
         },
         {
          "arrowcolor": "green",
          "arrowhead": 1,
          "ax": 0,
          "ay": -30,
          "font": {
           "color": "green"
          },
          "showarrow": true,
          "text": "long",
          "x": 2257600,
          "y": 416.5
         },
         {
          "arrowcolor": "red",
          "arrowhead": 1,
          "ax": 0,
          "ay": 30,
          "font": {
           "color": "red"
          },
          "showarrow": true,
          "text": "short",
          "x": 2274400,
          "y": 402.5
         },
         {
          "arrowcolor": "green",
          "arrowhead": 1,
          "ax": 0,
          "ay": -30,
          "font": {
           "color": "green"
          },
          "showarrow": true,
          "text": "long",
          "x": 2286600,
          "y": 376.5
         },
         {
          "arrowcolor": "red",
          "arrowhead": 1,
          "ax": 0,
          "ay": 30,
          "font": {
           "color": "red"
          },
          "showarrow": true,
          "text": "short",
          "x": 2290400,
          "y": 391
         },
         {
          "arrowcolor": "green",
          "arrowhead": 1,
          "ax": 0,
          "ay": -30,
          "font": {
           "color": "green"
          },
          "showarrow": true,
          "text": "long",
          "x": 2297200,
          "y": 380.5
         },
         {
          "arrowcolor": "red",
          "arrowhead": 1,
          "ax": 0,
          "ay": 30,
          "font": {
           "color": "red"
          },
          "showarrow": true,
          "text": "short",
          "x": 2315300,
          "y": 393
         },
         {
          "arrowcolor": "green",
          "arrowhead": 1,
          "ax": 0,
          "ay": -30,
          "font": {
           "color": "green"
          },
          "showarrow": true,
          "text": "long",
          "x": 2323200,
          "y": 395.5
         },
         {
          "arrowcolor": "red",
          "arrowhead": 1,
          "ax": 0,
          "ay": 30,
          "font": {
           "color": "red"
          },
          "showarrow": true,
          "text": "short",
          "x": 2329900,
          "y": 410
         },
         {
          "arrowcolor": "green",
          "arrowhead": 1,
          "ax": 0,
          "ay": -30,
          "font": {
           "color": "green"
          },
          "showarrow": true,
          "text": "long",
          "x": 2356500,
          "y": 355
         },
         {
          "arrowcolor": "red",
          "arrowhead": 1,
          "ax": 0,
          "ay": 30,
          "font": {
           "color": "red"
          },
          "showarrow": true,
          "text": "short",
          "x": 2365400,
          "y": 349.5
         },
         {
          "arrowcolor": "green",
          "arrowhead": 1,
          "ax": 0,
          "ay": -30,
          "font": {
           "color": "green"
          },
          "showarrow": true,
          "text": "long",
          "x": 2368600,
          "y": 371.5
         },
         {
          "arrowcolor": "red",
          "arrowhead": 1,
          "ax": 0,
          "ay": 30,
          "font": {
           "color": "red"
          },
          "showarrow": true,
          "text": "short",
          "x": 2371200,
          "y": 396.5
         },
         {
          "arrowcolor": "green",
          "arrowhead": 1,
          "ax": 0,
          "ay": -30,
          "font": {
           "color": "green"
          },
          "showarrow": true,
          "text": "long",
          "x": 2379400,
          "y": 382.5
         },
         {
          "arrowcolor": "red",
          "arrowhead": 1,
          "ax": 0,
          "ay": 30,
          "font": {
           "color": "red"
          },
          "showarrow": true,
          "text": "short",
          "x": 2387600,
          "y": 423.5
         },
         {
          "arrowcolor": "green",
          "arrowhead": 1,
          "ax": 0,
          "ay": -30,
          "font": {
           "color": "green"
          },
          "showarrow": true,
          "text": "long",
          "x": 2396500,
          "y": 460.5
         },
         {
          "arrowcolor": "red",
          "arrowhead": 1,
          "ax": 0,
          "ay": 30,
          "font": {
           "color": "red"
          },
          "showarrow": true,
          "text": "short",
          "x": 2403600,
          "y": 453
         },
         {
          "arrowcolor": "green",
          "arrowhead": 1,
          "ax": 0,
          "ay": -30,
          "font": {
           "color": "green"
          },
          "showarrow": true,
          "text": "long",
          "x": 2414200,
          "y": 441
         },
         {
          "arrowcolor": "red",
          "arrowhead": 1,
          "ax": 0,
          "ay": 30,
          "font": {
           "color": "red"
          },
          "showarrow": true,
          "text": "short",
          "x": 2424100,
          "y": 418
         },
         {
          "arrowcolor": "green",
          "arrowhead": 1,
          "ax": 0,
          "ay": -30,
          "font": {
           "color": "green"
          },
          "showarrow": true,
          "text": "long",
          "x": 2432500,
          "y": 428
         },
         {
          "arrowcolor": "red",
          "arrowhead": 1,
          "ax": 0,
          "ay": 30,
          "font": {
           "color": "red"
          },
          "showarrow": true,
          "text": "short",
          "x": 2439500,
          "y": 417
         },
         {
          "arrowcolor": "green",
          "arrowhead": 1,
          "ax": 0,
          "ay": -30,
          "font": {
           "color": "green"
          },
          "showarrow": true,
          "text": "long",
          "x": 2444600,
          "y": 427
         },
         {
          "arrowcolor": "red",
          "arrowhead": 1,
          "ax": 0,
          "ay": 30,
          "font": {
           "color": "red"
          },
          "showarrow": true,
          "text": "short",
          "x": 2475100,
          "y": 357.5
         },
         {
          "arrowcolor": "green",
          "arrowhead": 1,
          "ax": 0,
          "ay": -30,
          "font": {
           "color": "green"
          },
          "showarrow": true,
          "text": "long",
          "x": 2482600,
          "y": 362
         },
         {
          "arrowcolor": "red",
          "arrowhead": 1,
          "ax": 0,
          "ay": 30,
          "font": {
           "color": "red"
          },
          "showarrow": true,
          "text": "short",
          "x": 2517400,
          "y": 292.5
         },
         {
          "arrowcolor": "green",
          "arrowhead": 1,
          "ax": 0,
          "ay": -30,
          "font": {
           "color": "green"
          },
          "showarrow": true,
          "text": "long",
          "x": 2521100,
          "y": 318.5
         },
         {
          "arrowcolor": "red",
          "arrowhead": 1,
          "ax": 0,
          "ay": 30,
          "font": {
           "color": "red"
          },
          "showarrow": true,
          "text": "short",
          "x": 2527800,
          "y": 323
         },
         {
          "arrowcolor": "green",
          "arrowhead": 1,
          "ax": 0,
          "ay": -30,
          "font": {
           "color": "green"
          },
          "showarrow": true,
          "text": "long",
          "x": 2531600,
          "y": 351.5
         },
         {
          "arrowcolor": "red",
          "arrowhead": 1,
          "ax": 0,
          "ay": 30,
          "font": {
           "color": "red"
          },
          "showarrow": true,
          "text": "short",
          "x": 2536700,
          "y": 361.5
         },
         {
          "arrowcolor": "green",
          "arrowhead": 1,
          "ax": 0,
          "ay": -30,
          "font": {
           "color": "green"
          },
          "showarrow": true,
          "text": "long",
          "x": 2539600,
          "y": 391.5
         },
         {
          "arrowcolor": "red",
          "arrowhead": 1,
          "ax": 0,
          "ay": 30,
          "font": {
           "color": "red"
          },
          "showarrow": true,
          "text": "short",
          "x": 2544400,
          "y": 417.5
         },
         {
          "arrowcolor": "green",
          "arrowhead": 1,
          "ax": 0,
          "ay": -30,
          "font": {
           "color": "green"
          },
          "showarrow": true,
          "text": "long",
          "x": 2550800,
          "y": 433
         },
         {
          "arrowcolor": "red",
          "arrowhead": 1,
          "ax": 0,
          "ay": 30,
          "font": {
           "color": "red"
          },
          "showarrow": true,
          "text": "short",
          "x": 2560900,
          "y": 428.5
         },
         {
          "arrowcolor": "green",
          "arrowhead": 1,
          "ax": 0,
          "ay": -30,
          "font": {
           "color": "green"
          },
          "showarrow": true,
          "text": "long",
          "x": 2571800,
          "y": 415.5
         },
         {
          "arrowcolor": "red",
          "arrowhead": 1,
          "ax": 0,
          "ay": 30,
          "font": {
           "color": "red"
          },
          "showarrow": true,
          "text": "short",
          "x": 2580900,
          "y": 432.5
         },
         {
          "arrowcolor": "green",
          "arrowhead": 1,
          "ax": 0,
          "ay": -30,
          "font": {
           "color": "green"
          },
          "showarrow": true,
          "text": "long",
          "x": 2599700,
          "y": 356.5
         },
         {
          "arrowcolor": "red",
          "arrowhead": 1,
          "ax": 0,
          "ay": 30,
          "font": {
           "color": "red"
          },
          "showarrow": true,
          "text": "short",
          "x": 2611600,
          "y": 365
         },
         {
          "arrowcolor": "green",
          "arrowhead": 1,
          "ax": 0,
          "ay": -30,
          "font": {
           "color": "green"
          },
          "showarrow": true,
          "text": "long",
          "x": 2616700,
          "y": 377.5
         },
         {
          "arrowcolor": "red",
          "arrowhead": 1,
          "ax": 0,
          "ay": 30,
          "font": {
           "color": "red"
          },
          "showarrow": true,
          "text": "short",
          "x": 2625900,
          "y": 388
         },
         {
          "arrowcolor": "green",
          "arrowhead": 1,
          "ax": 0,
          "ay": -30,
          "font": {
           "color": "green"
          },
          "showarrow": true,
          "text": "long",
          "x": 2633000,
          "y": 374.5
         },
         {
          "arrowcolor": "red",
          "arrowhead": 1,
          "ax": 0,
          "ay": 30,
          "font": {
           "color": "red"
          },
          "showarrow": true,
          "text": "short",
          "x": 2643800,
          "y": 387
         },
         {
          "arrowcolor": "green",
          "arrowhead": 1,
          "ax": 0,
          "ay": -30,
          "font": {
           "color": "green"
          },
          "showarrow": true,
          "text": "long",
          "x": 2652200,
          "y": 414
         },
         {
          "arrowcolor": "red",
          "arrowhead": 1,
          "ax": 0,
          "ay": 30,
          "font": {
           "color": "red"
          },
          "showarrow": true,
          "text": "short",
          "x": 2658600,
          "y": 428
         },
         {
          "arrowcolor": "green",
          "arrowhead": 1,
          "ax": 0,
          "ay": -30,
          "font": {
           "color": "green"
          },
          "showarrow": true,
          "text": "long",
          "x": 2673900,
          "y": 399
         },
         {
          "arrowcolor": "red",
          "arrowhead": 1,
          "ax": 0,
          "ay": 30,
          "font": {
           "color": "red"
          },
          "showarrow": true,
          "text": "short",
          "x": 2691400,
          "y": 341.5
         },
         {
          "arrowcolor": "green",
          "arrowhead": 1,
          "ax": 0,
          "ay": -30,
          "font": {
           "color": "green"
          },
          "showarrow": true,
          "text": "long",
          "x": 2697900,
          "y": 348
         },
         {
          "arrowcolor": "red",
          "arrowhead": 1,
          "ax": 0,
          "ay": 30,
          "font": {
           "color": "red"
          },
          "showarrow": true,
          "text": "short",
          "x": 2701500,
          "y": 368.5
         },
         {
          "arrowcolor": "green",
          "arrowhead": 1,
          "ax": 0,
          "ay": -30,
          "font": {
           "color": "green"
          },
          "showarrow": true,
          "text": "long",
          "x": 2724900,
          "y": 361.5
         },
         {
          "arrowcolor": "red",
          "arrowhead": 1,
          "ax": 0,
          "ay": 30,
          "font": {
           "color": "red"
          },
          "showarrow": true,
          "text": "short",
          "x": 2743300,
          "y": 357.5
         },
         {
          "arrowcolor": "green",
          "arrowhead": 1,
          "ax": 0,
          "ay": -30,
          "font": {
           "color": "green"
          },
          "showarrow": true,
          "text": "long",
          "x": 2750900,
          "y": 396.5
         },
         {
          "arrowcolor": "red",
          "arrowhead": 1,
          "ax": 0,
          "ay": 30,
          "font": {
           "color": "red"
          },
          "showarrow": true,
          "text": "short",
          "x": 2784400,
          "y": 303
         },
         {
          "arrowcolor": "green",
          "arrowhead": 1,
          "ax": 0,
          "ay": -30,
          "font": {
           "color": "green"
          },
          "showarrow": true,
          "text": "long",
          "x": 2786100,
          "y": 328.5
         },
         {
          "arrowcolor": "red",
          "arrowhead": 1,
          "ax": 0,
          "ay": 30,
          "font": {
           "color": "red"
          },
          "showarrow": true,
          "text": "short",
          "x": 2799800,
          "y": 337
         },
         {
          "arrowcolor": "green",
          "arrowhead": 1,
          "ax": 0,
          "ay": -30,
          "font": {
           "color": "green"
          },
          "showarrow": true,
          "text": "long",
          "x": 2802300,
          "y": 360.5
         },
         {
          "arrowcolor": "red",
          "arrowhead": 1,
          "ax": 0,
          "ay": 30,
          "font": {
           "color": "red"
          },
          "showarrow": true,
          "text": "short",
          "x": 2809900,
          "y": 357
         },
         {
          "arrowcolor": "green",
          "arrowhead": 1,
          "ax": 0,
          "ay": -30,
          "font": {
           "color": "green"
          },
          "showarrow": true,
          "text": "long",
          "x": 2818300,
          "y": 368.5
         },
         {
          "arrowcolor": "red",
          "arrowhead": 1,
          "ax": 0,
          "ay": 30,
          "font": {
           "color": "red"
          },
          "showarrow": true,
          "text": "short",
          "x": 2828700,
          "y": 356.5
         },
         {
          "arrowcolor": "green",
          "arrowhead": 1,
          "ax": 0,
          "ay": -30,
          "font": {
           "color": "green"
          },
          "showarrow": true,
          "text": "long",
          "x": 2863700,
          "y": 324
         },
         {
          "arrowcolor": "red",
          "arrowhead": 1,
          "ax": 0,
          "ay": 30,
          "font": {
           "color": "red"
          },
          "showarrow": true,
          "text": "short",
          "x": 2868500,
          "y": 370
         },
         {
          "arrowcolor": "green",
          "arrowhead": 1,
          "ax": 0,
          "ay": -30,
          "font": {
           "color": "green"
          },
          "showarrow": true,
          "text": "long",
          "x": 2882300,
          "y": 338.5
         },
         {
          "arrowcolor": "red",
          "arrowhead": 1,
          "ax": 0,
          "ay": 30,
          "font": {
           "color": "red"
          },
          "showarrow": true,
          "text": "short",
          "x": 2891200,
          "y": 297.5
         },
         {
          "arrowcolor": "green",
          "arrowhead": 1,
          "ax": 0,
          "ay": -30,
          "font": {
           "color": "green"
          },
          "showarrow": true,
          "text": "long",
          "x": 2894300,
          "y": 314.5
         },
         {
          "arrowcolor": "red",
          "arrowhead": 1,
          "ax": 0,
          "ay": 30,
          "font": {
           "color": "red"
          },
          "showarrow": true,
          "text": "short",
          "x": 2901000,
          "y": 293
         },
         {
          "arrowcolor": "green",
          "arrowhead": 1,
          "ax": 0,
          "ay": -30,
          "font": {
           "color": "green"
          },
          "showarrow": true,
          "text": "long",
          "x": 2912200,
          "y": 283
         },
         {
          "arrowcolor": "red",
          "arrowhead": 1,
          "ax": 0,
          "ay": 30,
          "font": {
           "color": "red"
          },
          "showarrow": true,
          "text": "short",
          "x": 2922100,
          "y": 285.5
         },
         {
          "arrowcolor": "green",
          "arrowhead": 1,
          "ax": 0,
          "ay": -30,
          "font": {
           "color": "green"
          },
          "showarrow": true,
          "text": "long",
          "x": 2932800,
          "y": 265.5
         },
         {
          "arrowcolor": "red",
          "arrowhead": 1,
          "ax": 0,
          "ay": 30,
          "font": {
           "color": "red"
          },
          "showarrow": true,
          "text": "short",
          "x": 2938000,
          "y": 270
         },
         {
          "arrowcolor": "green",
          "arrowhead": 1,
          "ax": 0,
          "ay": -30,
          "font": {
           "color": "green"
          },
          "showarrow": true,
          "text": "long",
          "x": 2946800,
          "y": 262.5
         },
         {
          "arrowcolor": "red",
          "arrowhead": 1,
          "ax": 0,
          "ay": 30,
          "font": {
           "color": "red"
          },
          "showarrow": true,
          "text": "short",
          "x": 2955400,
          "y": 277
         },
         {
          "arrowcolor": "green",
          "arrowhead": 1,
          "ax": 0,
          "ay": -30,
          "font": {
           "color": "green"
          },
          "showarrow": true,
          "text": "long",
          "x": 2959600,
          "y": 293.5
         },
         {
          "arrowcolor": "red",
          "arrowhead": 1,
          "ax": 0,
          "ay": 30,
          "font": {
           "color": "red"
          },
          "showarrow": true,
          "text": "short",
          "x": 2969700,
          "y": 291
         },
         {
          "arrowcolor": "green",
          "arrowhead": 1,
          "ax": 0,
          "ay": -30,
          "font": {
           "color": "green"
          },
          "showarrow": true,
          "text": "long",
          "x": 2981200,
          "y": 275.5
         },
         {
          "arrowcolor": "red",
          "arrowhead": 1,
          "ax": 0,
          "ay": 30,
          "font": {
           "color": "red"
          },
          "showarrow": true,
          "text": "short",
          "x": 2985300,
          "y": 297.5
         },
         {
          "arrowcolor": "green",
          "arrowhead": 1,
          "ax": 0,
          "ay": -30,
          "font": {
           "color": "green"
          },
          "showarrow": true,
          "text": "long",
          "x": 2990800,
          "y": 314.5
         },
         {
          "arrowcolor": "red",
          "arrowhead": 1,
          "ax": 0,
          "ay": 30,
          "font": {
           "color": "red"
          },
          "showarrow": true,
          "text": "short",
          "x": 2999900,
          "y": 292
         }
        ],
        "height": 500,
        "template": {
         "data": {
          "bar": [
           {
            "error_x": {
             "color": "#2a3f5f"
            },
            "error_y": {
             "color": "#2a3f5f"
            },
            "marker": {
             "line": {
              "color": "white",
              "width": 0.5
             },
             "pattern": {
              "fillmode": "overlay",
              "size": 10,
              "solidity": 0.2
             }
            },
            "type": "bar"
           }
          ],
          "barpolar": [
           {
            "marker": {
             "line": {
              "color": "white",
              "width": 0.5
             },
             "pattern": {
              "fillmode": "overlay",
              "size": 10,
              "solidity": 0.2
             }
            },
            "type": "barpolar"
           }
          ],
          "carpet": [
           {
            "aaxis": {
             "endlinecolor": "#2a3f5f",
             "gridcolor": "#C8D4E3",
             "linecolor": "#C8D4E3",
             "minorgridcolor": "#C8D4E3",
             "startlinecolor": "#2a3f5f"
            },
            "baxis": {
             "endlinecolor": "#2a3f5f",
             "gridcolor": "#C8D4E3",
             "linecolor": "#C8D4E3",
             "minorgridcolor": "#C8D4E3",
             "startlinecolor": "#2a3f5f"
            },
            "type": "carpet"
           }
          ],
          "choropleth": [
           {
            "colorbar": {
             "outlinewidth": 0,
             "ticks": ""
            },
            "type": "choropleth"
           }
          ],
          "contour": [
           {
            "colorbar": {
             "outlinewidth": 0,
             "ticks": ""
            },
            "colorscale": [
             [
              0,
              "#0d0887"
             ],
             [
              0.1111111111111111,
              "#46039f"
             ],
             [
              0.2222222222222222,
              "#7201a8"
             ],
             [
              0.3333333333333333,
              "#9c179e"
             ],
             [
              0.4444444444444444,
              "#bd3786"
             ],
             [
              0.5555555555555556,
              "#d8576b"
             ],
             [
              0.6666666666666666,
              "#ed7953"
             ],
             [
              0.7777777777777778,
              "#fb9f3a"
             ],
             [
              0.8888888888888888,
              "#fdca26"
             ],
             [
              1,
              "#f0f921"
             ]
            ],
            "type": "contour"
           }
          ],
          "contourcarpet": [
           {
            "colorbar": {
             "outlinewidth": 0,
             "ticks": ""
            },
            "type": "contourcarpet"
           }
          ],
          "heatmap": [
           {
            "colorbar": {
             "outlinewidth": 0,
             "ticks": ""
            },
            "colorscale": [
             [
              0,
              "#0d0887"
             ],
             [
              0.1111111111111111,
              "#46039f"
             ],
             [
              0.2222222222222222,
              "#7201a8"
             ],
             [
              0.3333333333333333,
              "#9c179e"
             ],
             [
              0.4444444444444444,
              "#bd3786"
             ],
             [
              0.5555555555555556,
              "#d8576b"
             ],
             [
              0.6666666666666666,
              "#ed7953"
             ],
             [
              0.7777777777777778,
              "#fb9f3a"
             ],
             [
              0.8888888888888888,
              "#fdca26"
             ],
             [
              1,
              "#f0f921"
             ]
            ],
            "type": "heatmap"
           }
          ],
          "histogram": [
           {
            "marker": {
             "pattern": {
              "fillmode": "overlay",
              "size": 10,
              "solidity": 0.2
             }
            },
            "type": "histogram"
           }
          ],
          "histogram2d": [
           {
            "colorbar": {
             "outlinewidth": 0,
             "ticks": ""
            },
            "colorscale": [
             [
              0,
              "#0d0887"
             ],
             [
              0.1111111111111111,
              "#46039f"
             ],
             [
              0.2222222222222222,
              "#7201a8"
             ],
             [
              0.3333333333333333,
              "#9c179e"
             ],
             [
              0.4444444444444444,
              "#bd3786"
             ],
             [
              0.5555555555555556,
              "#d8576b"
             ],
             [
              0.6666666666666666,
              "#ed7953"
             ],
             [
              0.7777777777777778,
              "#fb9f3a"
             ],
             [
              0.8888888888888888,
              "#fdca26"
             ],
             [
              1,
              "#f0f921"
             ]
            ],
            "type": "histogram2d"
           }
          ],
          "histogram2dcontour": [
           {
            "colorbar": {
             "outlinewidth": 0,
             "ticks": ""
            },
            "colorscale": [
             [
              0,
              "#0d0887"
             ],
             [
              0.1111111111111111,
              "#46039f"
             ],
             [
              0.2222222222222222,
              "#7201a8"
             ],
             [
              0.3333333333333333,
              "#9c179e"
             ],
             [
              0.4444444444444444,
              "#bd3786"
             ],
             [
              0.5555555555555556,
              "#d8576b"
             ],
             [
              0.6666666666666666,
              "#ed7953"
             ],
             [
              0.7777777777777778,
              "#fb9f3a"
             ],
             [
              0.8888888888888888,
              "#fdca26"
             ],
             [
              1,
              "#f0f921"
             ]
            ],
            "type": "histogram2dcontour"
           }
          ],
          "mesh3d": [
           {
            "colorbar": {
             "outlinewidth": 0,
             "ticks": ""
            },
            "type": "mesh3d"
           }
          ],
          "parcoords": [
           {
            "line": {
             "colorbar": {
              "outlinewidth": 0,
              "ticks": ""
             }
            },
            "type": "parcoords"
           }
          ],
          "pie": [
           {
            "automargin": true,
            "type": "pie"
           }
          ],
          "scatter": [
           {
            "fillpattern": {
             "fillmode": "overlay",
             "size": 10,
             "solidity": 0.2
            },
            "type": "scatter"
           }
          ],
          "scatter3d": [
           {
            "line": {
             "colorbar": {
              "outlinewidth": 0,
              "ticks": ""
             }
            },
            "marker": {
             "colorbar": {
              "outlinewidth": 0,
              "ticks": ""
             }
            },
            "type": "scatter3d"
           }
          ],
          "scattercarpet": [
           {
            "marker": {
             "colorbar": {
              "outlinewidth": 0,
              "ticks": ""
             }
            },
            "type": "scattercarpet"
           }
          ],
          "scattergeo": [
           {
            "marker": {
             "colorbar": {
              "outlinewidth": 0,
              "ticks": ""
             }
            },
            "type": "scattergeo"
           }
          ],
          "scattergl": [
           {
            "marker": {
             "colorbar": {
              "outlinewidth": 0,
              "ticks": ""
             }
            },
            "type": "scattergl"
           }
          ],
          "scattermap": [
           {
            "marker": {
             "colorbar": {
              "outlinewidth": 0,
              "ticks": ""
             }
            },
            "type": "scattermap"
           }
          ],
          "scattermapbox": [
           {
            "marker": {
             "colorbar": {
              "outlinewidth": 0,
              "ticks": ""
             }
            },
            "type": "scattermapbox"
           }
          ],
          "scatterpolar": [
           {
            "marker": {
             "colorbar": {
              "outlinewidth": 0,
              "ticks": ""
             }
            },
            "type": "scatterpolar"
           }
          ],
          "scatterpolargl": [
           {
            "marker": {
             "colorbar": {
              "outlinewidth": 0,
              "ticks": ""
             }
            },
            "type": "scatterpolargl"
           }
          ],
          "scatterternary": [
           {
            "marker": {
             "colorbar": {
              "outlinewidth": 0,
              "ticks": ""
             }
            },
            "type": "scatterternary"
           }
          ],
          "surface": [
           {
            "colorbar": {
             "outlinewidth": 0,
             "ticks": ""
            },
            "colorscale": [
             [
              0,
              "#0d0887"
             ],
             [
              0.1111111111111111,
              "#46039f"
             ],
             [
              0.2222222222222222,
              "#7201a8"
             ],
             [
              0.3333333333333333,
              "#9c179e"
             ],
             [
              0.4444444444444444,
              "#bd3786"
             ],
             [
              0.5555555555555556,
              "#d8576b"
             ],
             [
              0.6666666666666666,
              "#ed7953"
             ],
             [
              0.7777777777777778,
              "#fb9f3a"
             ],
             [
              0.8888888888888888,
              "#fdca26"
             ],
             [
              1,
              "#f0f921"
             ]
            ],
            "type": "surface"
           }
          ],
          "table": [
           {
            "cells": {
             "fill": {
              "color": "#EBF0F8"
             },
             "line": {
              "color": "white"
             }
            },
            "header": {
             "fill": {
              "color": "#C8D4E3"
             },
             "line": {
              "color": "white"
             }
            },
            "type": "table"
           }
          ]
         },
         "layout": {
          "annotationdefaults": {
           "arrowcolor": "#2a3f5f",
           "arrowhead": 0,
           "arrowwidth": 1
          },
          "autotypenumbers": "strict",
          "coloraxis": {
           "colorbar": {
            "outlinewidth": 0,
            "ticks": ""
           }
          },
          "colorscale": {
           "diverging": [
            [
             0,
             "#8e0152"
            ],
            [
             0.1,
             "#c51b7d"
            ],
            [
             0.2,
             "#de77ae"
            ],
            [
             0.3,
             "#f1b6da"
            ],
            [
             0.4,
             "#fde0ef"
            ],
            [
             0.5,
             "#f7f7f7"
            ],
            [
             0.6,
             "#e6f5d0"
            ],
            [
             0.7,
             "#b8e186"
            ],
            [
             0.8,
             "#7fbc41"
            ],
            [
             0.9,
             "#4d9221"
            ],
            [
             1,
             "#276419"
            ]
           ],
           "sequential": [
            [
             0,
             "#0d0887"
            ],
            [
             0.1111111111111111,
             "#46039f"
            ],
            [
             0.2222222222222222,
             "#7201a8"
            ],
            [
             0.3333333333333333,
             "#9c179e"
            ],
            [
             0.4444444444444444,
             "#bd3786"
            ],
            [
             0.5555555555555556,
             "#d8576b"
            ],
            [
             0.6666666666666666,
             "#ed7953"
            ],
            [
             0.7777777777777778,
             "#fb9f3a"
            ],
            [
             0.8888888888888888,
             "#fdca26"
            ],
            [
             1,
             "#f0f921"
            ]
           ],
           "sequentialminus": [
            [
             0,
             "#0d0887"
            ],
            [
             0.1111111111111111,
             "#46039f"
            ],
            [
             0.2222222222222222,
             "#7201a8"
            ],
            [
             0.3333333333333333,
             "#9c179e"
            ],
            [
             0.4444444444444444,
             "#bd3786"
            ],
            [
             0.5555555555555556,
             "#d8576b"
            ],
            [
             0.6666666666666666,
             "#ed7953"
            ],
            [
             0.7777777777777778,
             "#fb9f3a"
            ],
            [
             0.8888888888888888,
             "#fdca26"
            ],
            [
             1,
             "#f0f921"
            ]
           ]
          },
          "colorway": [
           "#636efa",
           "#EF553B",
           "#00cc96",
           "#ab63fa",
           "#FFA15A",
           "#19d3f3",
           "#FF6692",
           "#B6E880",
           "#FF97FF",
           "#FECB52"
          ],
          "font": {
           "color": "#2a3f5f"
          },
          "geo": {
           "bgcolor": "white",
           "lakecolor": "white",
           "landcolor": "white",
           "showlakes": true,
           "showland": true,
           "subunitcolor": "#C8D4E3"
          },
          "hoverlabel": {
           "align": "left"
          },
          "hovermode": "closest",
          "mapbox": {
           "style": "light"
          },
          "paper_bgcolor": "white",
          "plot_bgcolor": "white",
          "polar": {
           "angularaxis": {
            "gridcolor": "#EBF0F8",
            "linecolor": "#EBF0F8",
            "ticks": ""
           },
           "bgcolor": "white",
           "radialaxis": {
            "gridcolor": "#EBF0F8",
            "linecolor": "#EBF0F8",
            "ticks": ""
           }
          },
          "scene": {
           "xaxis": {
            "backgroundcolor": "white",
            "gridcolor": "#DFE8F3",
            "gridwidth": 2,
            "linecolor": "#EBF0F8",
            "showbackground": true,
            "ticks": "",
            "zerolinecolor": "#EBF0F8"
           },
           "yaxis": {
            "backgroundcolor": "white",
            "gridcolor": "#DFE8F3",
            "gridwidth": 2,
            "linecolor": "#EBF0F8",
            "showbackground": true,
            "ticks": "",
            "zerolinecolor": "#EBF0F8"
           },
           "zaxis": {
            "backgroundcolor": "white",
            "gridcolor": "#DFE8F3",
            "gridwidth": 2,
            "linecolor": "#EBF0F8",
            "showbackground": true,
            "ticks": "",
            "zerolinecolor": "#EBF0F8"
           }
          },
          "shapedefaults": {
           "line": {
            "color": "#2a3f5f"
           }
          },
          "ternary": {
           "aaxis": {
            "gridcolor": "#DFE8F3",
            "linecolor": "#A2B1C6",
            "ticks": ""
           },
           "baxis": {
            "gridcolor": "#DFE8F3",
            "linecolor": "#A2B1C6",
            "ticks": ""
           },
           "bgcolor": "white",
           "caxis": {
            "gridcolor": "#DFE8F3",
            "linecolor": "#A2B1C6",
            "ticks": ""
           }
          },
          "title": {
           "x": 0.05
          },
          "xaxis": {
           "automargin": true,
           "gridcolor": "#EBF0F8",
           "linecolor": "#EBF0F8",
           "ticks": "",
           "title": {
            "standoff": 15
           },
           "zerolinecolor": "#EBF0F8",
           "zerolinewidth": 2
          },
          "yaxis": {
           "automargin": true,
           "gridcolor": "#EBF0F8",
           "linecolor": "#EBF0F8",
           "ticks": "",
           "title": {
            "standoff": 15
           },
           "zerolinecolor": "#EBF0F8",
           "zerolinewidth": 2
          }
         }
        },
        "title": {
         "text": "Basket 1 Cumulative PnL"
        },
        "xaxis": {
         "title": {
          "text": "Timestamp"
         }
        },
        "yaxis": {
         "title": {
          "text": "PnL"
         }
        }
       }
      }
     },
     "metadata": {},
     "output_type": "display_data"
    }
   ],
   "source": [
    "import plotly.graph_objects as go\n",
    "\n",
    "# Add cumulative PnL column\n",
    "basket_1_trades['cumulative_pnl'] = basket_1_trades['pnl'].cumsum()\n",
    "\n",
    "# Create the figure\n",
    "fig = go.Figure()\n",
    "\n",
    "# Cumulative PnL line\n",
    "fig.add_trace(go.Scatter(\n",
    "    x=basket_1_trades['exit'],\n",
    "    y=basket_1_trades['cumulative_pnl'],\n",
    "    mode='lines+markers',\n",
    "    name='Cumulative PnL',\n",
    "    line=dict(color='blue'),\n",
    "    marker=dict(size=6)\n",
    "))\n",
    "\n",
    "# Add trade direction annotations (optional)\n",
    "for _, row in basket_1_trades.iterrows():\n",
    "    fig.add_annotation(\n",
    "        x=row['exit'],\n",
    "        y=row['cumulative_pnl'],\n",
    "        text=row['side'],\n",
    "        showarrow=True,\n",
    "        arrowhead=1,\n",
    "        ax=0,\n",
    "        ay=-30 if row['side'] == 'long' else 30,\n",
    "        font=dict(color='green' if row['side'] == 'long' else 'red'),\n",
    "        arrowcolor='green' if row['side'] == 'long' else 'red'\n",
    "    )\n",
    "\n",
    "# Formatting\n",
    "fig.update_layout(\n",
    "    title='Basket 1 Cumulative PnL',\n",
    "    xaxis_title='Timestamp',\n",
    "    yaxis_title='PnL',\n",
    "    template='plotly_white',\n",
    "    height=500\n",
    ")\n",
    "\n",
    "fig.show()"
   ]
  },
  {
   "cell_type": "code",
   "execution_count": null,
   "id": "dcceba05",
   "metadata": {},
   "outputs": [],
   "source": []
  }
 ],
 "metadata": {
  "kernelspec": {
   "display_name": "Python 3",
   "language": "python",
   "name": "python3"
  },
  "language_info": {
   "codemirror_mode": {
    "name": "ipython",
    "version": 3
   },
   "file_extension": ".py",
   "mimetype": "text/x-python",
   "name": "python",
   "nbconvert_exporter": "python",
   "pygments_lexer": "ipython3",
   "version": "3.12.10"
  }
 },
 "nbformat": 4,
 "nbformat_minor": 5
}
